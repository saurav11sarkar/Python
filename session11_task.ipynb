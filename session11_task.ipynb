{
  "nbformat": 4,
  "nbformat_minor": 0,
  "metadata": {
    "colab": {
      "provenance": []
    },
    "kernelspec": {
      "name": "python3",
      "display_name": "Python 3"
    },
    "language_info": {
      "name": "python"
    }
  },
  "cells": [
    {
      "cell_type": "markdown",
      "source": [
        "## Exception Handling\n"
      ],
      "metadata": {
        "id": "ajVfqio_GinI"
      }
    },
    {
      "cell_type": "markdown",
      "source": [
        "###`Q-1`: You are given a function definition. There might be several issues on execution of this function. You are asked to do exception handling for diffrent errors that this function goes in to `without altering this function`. And print error text.\n",
        "\n"
      ],
      "metadata": {
        "id": "0qnQkJtnGozz"
      }
    },
    {
      "cell_type": "markdown",
      "source": [
        "Function parameters `l -> list, s -> could be anything`\n",
        "\n",
        "```\n",
        "def function(l: list, s, **args):\n",
        "    last_element = l[-1]\n",
        "    \n",
        "    l[int(s)]=10\n",
        "    any_element = l[int(s)+10]\n",
        "    l[s]=10\n",
        "    \n",
        "    res = sum(l)\n",
        "    \n",
        "    p = args['p']\n",
        "    # print(p)\n",
        "    return res/last_element * p + any_element\n",
        "\n",
        "```\n",
        "Check for different function calls:-\n",
        "\n",
        "```\n",
        "function([1,2,1], 12)\n",
        "function([1,2,1]*9, '1-2')\n",
        "function([1,'2',1]*9, 12)\n",
        "function([1,'2',1]*9, 12)\n",
        "function([1,2,0]*9, 12  )\n",
        "function([1,2,1]*9, 12, p=None)\n",
        "function([1,2,0]*9, 12, p=10)\n",
        "```"
      ],
      "metadata": {
        "id": "2no_EB2fGyGq"
      }
    },
    {
      "cell_type": "code",
      "source": [
        "# Write code here\n",
        "def function(l: list, s, **args):\n",
        "    try:\n",
        "        last_element = l[-1]\n",
        "\n",
        "        l[int(s)] = 10\n",
        "        any_element = l[int(s) + 10]\n",
        "        l[s] = 10\n",
        "\n",
        "        res = sum(l)\n",
        "\n",
        "        p = args['p']\n",
        "        # print(p)\n",
        "        result = res / last_element * p + any_element\n",
        "        return result\n",
        "\n",
        "    except IndexError:\n",
        "        print(\"Error: Index out of range.\")\n",
        "    except ValueError:\n",
        "        print(\"Error: Invalid conversion to integer.\")\n",
        "    except TypeError:\n",
        "        print(\"Error: Type mismatch.\")\n",
        "    except KeyError:\n",
        "        print(\"Error: Key 'p' not found in args.\")\n",
        "    except ZeroDivisionError:\n",
        "        print(\"Error: Division by zero.\")\n",
        "    except Exception as e:\n",
        "        print(f\"Error: {str(e)}\")\n",
        "\n",
        "# Test cases\n",
        "function([1, 2, 1], 12)\n",
        "function([1, 2, 1] * 9, '1-2')\n",
        "function([1, '2', 1] * 9, 12)\n",
        "function([1, '2', 1] * 9, 12)\n",
        "function([1, 2, 0] * 9, 12)\n",
        "function([1, 2, 1] * 9, 12, p=None)\n",
        "function([1, 2, 0] * 9, 12, p=10)\n"
      ],
      "metadata": {
        "id": "VoaL4_9eGjFU",
        "colab": {
          "base_uri": "https://localhost:8080/"
        },
        "outputId": "3abe59de-843b-4314-a297-f8e79f0542b0"
      },
      "execution_count": 1,
      "outputs": [
        {
          "output_type": "stream",
          "name": "stdout",
          "text": [
            "Error: Index out of range.\n",
            "Error: Invalid conversion to integer.\n",
            "Error: Type mismatch.\n",
            "Error: Type mismatch.\n",
            "Error: Key 'p' not found in args.\n",
            "Error: Type mismatch.\n",
            "Error: Division by zero.\n"
          ]
        }
      ]
    },
    {
      "cell_type": "markdown",
      "source": [
        "###`Q-2:` You are given a code snippet. There might be several issues on execution of this code. You are asked to do exception handling for diffrent errors, condition is what ever happens we need to execute last line printing correct result of `sum of elements`.\n",
        "\n",
        "List have elemnts as any no of  `key-pair dict with key as list index and value as any integer`, `integers` and `numeric-strings`. There is always only one element in the dict.\n",
        "\n",
        "\n",
        "```\n",
        "l = [{0:2},2,3,4,'5', {5:10}]\n",
        "# For calculating sum of above list\n",
        "s=0\n",
        "for i in range(len(l)):\n",
        "    #You can Edit code from here\n",
        "    s += l[i].get(i)\n",
        "    s += l[i]\n",
        "    s += int(l[i])\n",
        "\n",
        "\n",
        "print(s)\n",
        "```"
      ],
      "metadata": {
        "id": "HuLMy2fVG9sL"
      }
    },
    {
      "cell_type": "code",
      "source": [
        "# Write code here\n",
        "l = [{0: 2}, 2, 3, 4, '5', {5: 10}]\n",
        "s = 0\n",
        "\n",
        "for i in range(len(l)):\n",
        "    try:\n",
        "        dict_value = l[i].get(i)\n",
        "        if dict_value is not None:\n",
        "            s += dict_value\n",
        "        s += l[i]\n",
        "        s += int(l[i])\n",
        "\n",
        "    except (TypeError, ValueError):\n",
        "        print(f\"Error processing element at index {i}\")\n",
        "    except Exception as e:\n",
        "      print(f'Error processing element at index {e}')\n",
        "\n",
        "print(s)\n"
      ],
      "metadata": {
        "id": "pEP8JU0qHAf8",
        "colab": {
          "base_uri": "https://localhost:8080/"
        },
        "outputId": "d5ee44eb-7ae8-4f11-9b0e-5f2a087d90a8"
      },
      "execution_count": 6,
      "outputs": [
        {
          "output_type": "stream",
          "name": "stdout",
          "text": [
            "Error processing element at index 0\n",
            "Error processing element at index 'int' object has no attribute 'get'\n",
            "Error processing element at index 'int' object has no attribute 'get'\n",
            "Error processing element at index 'int' object has no attribute 'get'\n",
            "Error processing element at index 'str' object has no attribute 'get'\n",
            "Error processing element at index 5\n",
            "12\n"
          ]
        }
      ]
    },
    {
      "cell_type": "markdown",
      "source": [
        "### `Q-3:`: File Handling with Exception handling\n",
        "\n",
        "Write a program that opens a text file and write data to it as \"Hello, Good Morning!!!\". Handle exceptions that can be generated during the I/O operations. Do not show the success message on the main exception handling block (write inside the else block)."
      ],
      "metadata": {
        "id": "ohE2fDTXHIan"
      }
    },
    {
      "cell_type": "code",
      "source": [
        "# write code here\n",
        "def write_to_file():\n",
        "    try:\n",
        "        with open(\"output.txt\", \"w\") as file:\n",
        "            file.write(\"Hello, Good Morning!!!\")\n",
        "    except IOError as e:\n",
        "        print(f\"An error occurred while writing to the file: {e}\")\n",
        "    else:\n",
        "        print(\"Data written to file successfully!\")\n",
        "\n",
        "write_to_file()\n"
      ],
      "metadata": {
        "id": "iOeiWrcIHPlY",
        "colab": {
          "base_uri": "https://localhost:8080/"
        },
        "outputId": "f18db6e3-7007-4e08-c2e7-34aa48a24047"
      },
      "execution_count": 7,
      "outputs": [
        {
          "output_type": "stream",
          "name": "stdout",
          "text": [
            "Data written to file successfully!\n"
          ]
        }
      ]
    },
    {
      "cell_type": "markdown",
      "source": [
        "### `Q-4`: Number game program.\n",
        "\n",
        "Write a number game program. Ask the user to enter a number. If the number is greater than number to be guessed, raise a **ValueTooLarge** exception. If the value is smaller the number to be guessed the, raise a **ValueTooSmall** exception and prompt the user to enter again. Quit the program only when the user enters the correct number. Also raise **GuessError** if user guess a number less than 1."
      ],
      "metadata": {
        "id": "ru8g8-_bHTUf"
      }
    },
    {
      "cell_type": "code",
      "source": [
        "# Write code here\n",
        "class ValueTooLarge(Exception):\n",
        "    pass\n",
        "\n",
        "class ValueTooSmall(Exception):\n",
        "    pass\n",
        "\n",
        "class GuessError(Exception):\n",
        "    pass\n",
        "\n",
        "def guess_number():\n",
        "    number_to_guess = 42\n",
        "    while True:\n",
        "        try:\n",
        "            user_input = int(input(\"Enter a number and x is stop: \"))\n",
        "            if user_input == 'x':\n",
        "              break\n",
        "            if user_input < 1:\n",
        "                raise GuessError(\"Number must be greater than 0.\")\n",
        "            elif user_input > number_to_guess:\n",
        "                raise ValueTooLarge(\"Number is too large.\")\n",
        "            elif user_input < number_to_guess:\n",
        "                raise ValueTooSmall(\"Number is too small.\")\n",
        "            else:\n",
        "                print(\"Congratulations! You guessed the number!\")\n",
        "                break\n",
        "        except ValueError:\n",
        "            print(\"Invalid input. Please enter a number.\")\n",
        "        except GuessError as e:\n",
        "            print(f\"GuessError: {e}\")\n",
        "        except ValueTooLarge as e:\n",
        "            print(f\"ValueTooLarge: {e}\")\n",
        "        except ValueTooSmall as e:\n",
        "            print(f\"ValueTooSmall: {e}\")\n",
        "\n",
        "guess_number()\n"
      ],
      "metadata": {
        "id": "QftlN5LJHZSX",
        "colab": {
          "base_uri": "https://localhost:8080/"
        },
        "outputId": "9c4f47d8-b67c-4c1d-f756-ec61e09901a0"
      },
      "execution_count": 8,
      "outputs": [
        {
          "output_type": "stream",
          "name": "stdout",
          "text": [
            "Enter a number and x is stop: 34\n",
            "ValueTooSmall: Number is too small.\n",
            "Enter a number and x is stop: 43\n",
            "ValueTooLarge: Number is too large.\n",
            "Enter a number and x is stop: 42\n",
            "Congratulations! You guessed the number!\n"
          ]
        }
      ]
    },
    {
      "cell_type": "markdown",
      "source": [
        "### `Q-5:` Cast vote\n",
        "\n",
        "Write a program that validate name and age as entered by the user to determine whether the person can cast vote or not. To handle the age, create **InvalidAge** exception and for name, create **InvalidName** exception. The name will be invalid when the string will be empty or name has only one word.\n",
        "\n",
        "Example 1:\n",
        "\n",
        "Input:\n",
        "\n",
        "```bash\n",
        "Enter the name:               goransh singh\n",
        "Enter the age: 25\n",
        "```\n",
        "\n",
        "Output:\n",
        "\n",
        "```bash\n",
        "Goransh Singh  Congratulation !!! You can vote.\n",
        "```"
      ],
      "metadata": {
        "id": "ZsGI_40fHcsd"
      }
    },
    {
      "cell_type": "code",
      "source": [
        "class InvalidAge(Exception):\n",
        "    pass\n",
        "\n",
        "class InvalidName(Exception):\n",
        "    pass\n",
        "\n",
        "def name_age():\n",
        "    try:\n",
        "        name = input('Enter name:')\n",
        "        age = int(input('Enter age:'))\n",
        "\n",
        "        if len(name) == 0 or name == '':\n",
        "            raise InvalidName('Name cannot be empty')\n",
        "        elif not name.replace(\" \", \"\").isalpha():\n",
        "            raise InvalidName('Name must contain only alphabetic characters')\n",
        "        # elif name.startswith(' '):\n",
        "        #   raise InvalidName('Name must contain only alphabetic space')\n",
        "        elif age < 18:\n",
        "            raise InvalidAge('This age is not eligible for voting')\n",
        "        else:\n",
        "            print(f'{name.strip()} Congratulation !!! You can vote.')\n",
        "    except InvalidAge as e:\n",
        "        print(f'Error: InvalidAge - {e}')\n",
        "    except InvalidName as e:\n",
        "        print(f'Error: InvalidName - {e}')\n",
        "    except ValueError:\n",
        "        print('Error: Invalid input for age. Please enter a valid number.')\n",
        "    except Exception as e:\n",
        "        print(f'Error: Exception - {e}')\n",
        "\n",
        "name_age()\n"
      ],
      "metadata": {
        "colab": {
          "base_uri": "https://localhost:8080/"
        },
        "id": "d_nd-DXmxhmo",
        "outputId": "d0fa3afa-ec60-458a-bf35-d7be42f06485"
      },
      "execution_count": 18,
      "outputs": [
        {
          "output_type": "stream",
          "name": "stdout",
          "text": [
            "Enter name: \n",
            "Enter age:12\n",
            "Error: InvalidName - Name must contain only alphabetic characters\n"
          ]
        }
      ]
    },
    {
      "cell_type": "markdown",
      "source": [
        "### `Q-6`: Write a python function which infinitely prints natural numbers in a single line. Raise the **StopIteration** exception after displaying first 20 numnbers to exit from the program."
      ],
      "metadata": {
        "id": "SCvs0QjgHlOG"
      }
    },
    {
      "cell_type": "code",
      "source": [
        "# Write code here\n",
        "def print_natural_numbers():\n",
        "    natural_number = 1\n",
        "    count = 0\n",
        "\n",
        "    while True:\n",
        "        print(natural_number, end=' ')\n",
        "        count += 1\n",
        "\n",
        "        if count == 20:\n",
        "            raise StopIteration\n",
        "\n",
        "        natural_number += 1\n",
        "\n",
        "try:\n",
        "    print_natural_numbers()\n",
        "except StopIteration:\n",
        "    print(\"\\nExiting after printing the first 20 natural numbers.\")\n"
      ],
      "metadata": {
        "id": "Lc5ilNgNHoSx",
        "colab": {
          "base_uri": "https://localhost:8080/"
        },
        "outputId": "7c1d0a6b-5440-49ff-b3c2-cf8d6e9e0ad0"
      },
      "execution_count": 21,
      "outputs": [
        {
          "output_type": "stream",
          "name": "stdout",
          "text": [
            "1 2 3 4 5 6 7 8 9 10 11 12 13 14 15 16 17 18 19 20 \n",
            "Exiting after printing the first 10 natural numbers.\n"
          ]
        }
      ]
    },
    {
      "cell_type": "code",
      "source": [
        "try:\n",
        "  for i in range(1,20+1):\n",
        "    print(i,end=' ')\n",
        "    if i == 20:\n",
        "      raise StopIteration\n",
        "except StopIteration:\n",
        "  print(i,end=\"\\nExiting after printing the first 20 natural numbers.\")"
      ],
      "metadata": {
        "colab": {
          "base_uri": "https://localhost:8080/"
        },
        "id": "nbWcPMdn27mb",
        "outputId": "1018899b-7796-4789-af53-a30542d69095"
      },
      "execution_count": 25,
      "outputs": [
        {
          "output_type": "stream",
          "name": "stdout",
          "text": [
            "1 2 3 4 5 6 7 8 9 10 11 12 13 14 15 16 17 18 19 20 20\n",
            "Exiting after printing the first 20 natural numbers."
          ]
        }
      ]
    },
    {
      "cell_type": "code",
      "source": [],
      "metadata": {
        "id": "ozlH4DML3kdj"
      },
      "execution_count": null,
      "outputs": []
    }
  ]
}