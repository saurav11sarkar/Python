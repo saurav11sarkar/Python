{
  "nbformat": 4,
  "nbformat_minor": 0,
  "metadata": {
    "colab": {
      "provenance": []
    },
    "kernelspec": {
      "name": "python3",
      "display_name": "Python 3"
    },
    "language_info": {
      "name": "python"
    }
  },
  "cells": [
    {
      "cell_type": "code",
      "execution_count": null,
      "metadata": {
        "colab": {
          "base_uri": "https://localhost:8080/"
        },
        "id": "m2Cx-v-8vXhD",
        "outputId": "1847b00c-1ac1-454b-df18-edf8485eb7f1"
      },
      "outputs": [
        {
          "output_type": "stream",
          "name": "stdout",
          "text": [
            "\n",
            "                            Hello, how would you like to proceed?\n",
            "                            1. Enter 1 to create pin\n",
            "                            2. Enter 2 to deposit\n",
            "                            3. Enter 3 to withdraw\n",
            "                            4. Enter 4 to check balance\n",
            "                            5. Enter 5 to exit\n",
            "                            Enter this: 1\n",
            "Enter pin : 1234\n",
            "Pin set\n",
            "\n",
            "                            Hello, how would you like to proceed?\n",
            "                            1. Enter 1 to create pin\n",
            "                            2. Enter 2 to deposit\n",
            "                            3. Enter 3 to withdraw\n",
            "                            4. Enter 4 to check balance\n",
            "                            5. Enter 5 to exit\n",
            "                            Enter this: 5\n",
            "Exit\n"
          ]
        }
      ],
      "source": [
        "class ATM:\n",
        "    def __init__(self):\n",
        "        self.pin = ''\n",
        "        self.balance = 0\n",
        "        self.menu()\n",
        "\n",
        "    def menu(self):\n",
        "        while True:\n",
        "            user_input = input('''\n",
        "                            Hello, how would you like to proceed?\n",
        "                            1. Enter 1 to create pin\n",
        "                            2. Enter 2 to deposit\n",
        "                            3. Enter 3 to withdraw\n",
        "                            4. Enter 4 to check balance\n",
        "                            5. Enter 5 to exit\n",
        "                            Enter this: ''')\n",
        "            if user_input == '1':\n",
        "                self.create_pin()\n",
        "            elif user_input == '2':\n",
        "                self.deposit()\n",
        "            elif user_input == '3':\n",
        "                self.withdraw()\n",
        "            elif user_input == '4':\n",
        "                self.check_balance()\n",
        "            else:\n",
        "              print('Exit')\n",
        "              break\n",
        "\n",
        "    def create_pin(self):\n",
        "        self.pin = input(\"Enter pin : \")\n",
        "        print('Pin set')\n",
        "\n",
        "    def deposit(self):\n",
        "        temp = input(\"Enter pin : \")\n",
        "        if temp == self.pin:\n",
        "            deposit = int(input(\"Enter deposit : \"))\n",
        "            self.balance += deposit\n",
        "            print('Deposit successful')\n",
        "        else:\n",
        "            print('Wrong pin')\n",
        "\n",
        "    def withdraw(self):\n",
        "        temp = input(\"Enter pin : \")\n",
        "        if temp == self.pin:\n",
        "            amount = int(input(\"Enter withdraw : \"))\n",
        "            if self.balance >= amount:\n",
        "                self.balance -= amount\n",
        "                print('Withdraw successful')\n",
        "            else:\n",
        "                print('Insufficient balance')\n",
        "        else:\n",
        "            print('Wrong pin')\n",
        "\n",
        "    def check_balance(self):\n",
        "        temp = input(\"Enter pin : \")\n",
        "        if temp == self.pin:\n",
        "            print(f\"Balance = {self.balance}\")\n",
        "        else:\n",
        "            print('Wrong pin')\n",
        "\n",
        "sbi = ATM()\n"
      ]
    },
    {
      "cell_type": "code",
      "source": [
        "class Fraction:\n",
        "    def __init__(self,n,d):\n",
        "        self.num = n\n",
        "        self.den = d\n",
        "\n",
        "\n",
        "x = Fraction(4,5)\n",
        "print(x)"
      ],
      "metadata": {
        "id": "eZ-fpetQGQRm",
        "colab": {
          "base_uri": "https://localhost:8080/"
        },
        "outputId": "6955cce5-1a25-4ce9-b57b-1876108e7984"
      },
      "execution_count": null,
      "outputs": [
        {
          "output_type": "stream",
          "name": "stdout",
          "text": [
            "<__main__.Fraction object at 0x79b4315198d0>\n"
          ]
        }
      ]
    },
    {
      "cell_type": "code",
      "source": [
        "class Function:\n",
        "  def __init__(self,n,d):\n",
        "    self.num = n\n",
        "    self.den = d\n",
        "  def __str__(self):\n",
        "    return f\"{self.num}/{self.den}\"\n",
        "\n",
        "x = Function(4,5)\n",
        "print(x)\n"
      ],
      "metadata": {
        "colab": {
          "base_uri": "https://localhost:8080/"
        },
        "id": "NyOkGOtvZjz8",
        "outputId": "04041267-be0a-4c79-c316-c53c601d1d7b"
      },
      "execution_count": null,
      "outputs": [
        {
          "output_type": "stream",
          "name": "stdout",
          "text": [
            "4/5\n"
          ]
        }
      ]
    },
    {
      "cell_type": "code",
      "source": [
        "class Function:\n",
        "  def __init__(self,n,d):\n",
        "    self.num = n\n",
        "    self.den = d\n",
        "  def __add__(self,other):\n",
        "    temp_num = self.num*other.den + other.num*self.den\n",
        "    temp_den = self.den*other.den\n",
        "    return f\"{temp_num}/{temp_den}\"\n",
        "\n",
        "x = Function(4,5)\n",
        "y = Function(5,6)\n",
        "print(x + y)"
      ],
      "metadata": {
        "colab": {
          "base_uri": "https://localhost:8080/"
        },
        "id": "bJ_S3pztaN4b",
        "outputId": "fce6a33a-a0d2-42fa-f9c6-f23165ef5d63"
      },
      "execution_count": null,
      "outputs": [
        {
          "output_type": "stream",
          "name": "stdout",
          "text": [
            "49/30\n"
          ]
        }
      ]
    },
    {
      "cell_type": "code",
      "source": [
        "class Function:\n",
        "  def __init__(self,n,d):\n",
        "    self.num = n\n",
        "    self.den = d\n",
        "  def __sub__(self,other):\n",
        "    temp_num = self.num*other.den - other.num*self.den\n",
        "    temp_den = self.den*other.den\n",
        "    return f\"{temp_num}/{temp_den}\"\n",
        "\n",
        "x = Function(4,5)\n",
        "y = Function(5,6)\n",
        "print(x - y)"
      ],
      "metadata": {
        "colab": {
          "base_uri": "https://localhost:8080/"
        },
        "id": "wElc0ShWcmBi",
        "outputId": "63c373d4-46c7-48ba-9370-94e4339d0ed6"
      },
      "execution_count": null,
      "outputs": [
        {
          "output_type": "stream",
          "name": "stdout",
          "text": [
            "-1/30\n"
          ]
        }
      ]
    },
    {
      "cell_type": "code",
      "source": [
        "class Function:\n",
        "  def __init__(self,n,d):\n",
        "    self.num = n\n",
        "    self.den = d\n",
        "  def __mul__(self,other):\n",
        "    temp_num = self.num*other.num\n",
        "    temp_den = self.den*other.den\n",
        "    return f\"{temp_num}/{temp_den}\"\n",
        "\n",
        "x = Function(4,5)\n",
        "y = Function(5,6)\n",
        "print(x*y)"
      ],
      "metadata": {
        "colab": {
          "base_uri": "https://localhost:8080/"
        },
        "id": "HdoiZmQMeThf",
        "outputId": "e24f6400-3c2c-4eeb-ee64-882ed2e102c4"
      },
      "execution_count": null,
      "outputs": [
        {
          "output_type": "stream",
          "name": "stdout",
          "text": [
            "20/30\n"
          ]
        }
      ]
    },
    {
      "cell_type": "code",
      "source": [
        "class Function:\n",
        "  def __init__(self,n,d):\n",
        "    self.num = n\n",
        "    self.den = d\n",
        "  def __truediv__(self,other):\n",
        "    temp_num = self.num*other.den\n",
        "    temp_den = self.den*other.num\n",
        "    return f\"{temp_num}/{temp_den}\"\n",
        "\n",
        "x = Function(4,5)\n",
        "y = Function(5,6)\n",
        "print(x / y)"
      ],
      "metadata": {
        "colab": {
          "base_uri": "https://localhost:8080/"
        },
        "id": "EMmcb_RHegVv",
        "outputId": "a7ef017c-9c43-4a13-8327-981e871f41e6"
      },
      "execution_count": null,
      "outputs": [
        {
          "output_type": "stream",
          "name": "stdout",
          "text": [
            "24/25\n"
          ]
        }
      ]
    },
    {
      "cell_type": "code",
      "source": [
        "class ATM:\n",
        "    def __init__(self):\n",
        "        self.__pin = ''\n",
        "        self.__balance = 0\n",
        "        self.menu()\n",
        "\n",
        "    def menu(self):\n",
        "        # while True:\n",
        "            user_input = input('''\n",
        "                            Hello, how would you like to proceed?\n",
        "                            1. Enter 1 to create pin\n",
        "                            2. Enter 2 to deposit\n",
        "                            3. Enter 3 to withdraw\n",
        "                            4. Enter 4 to check balance\n",
        "                            5. Enter 5 to exit\n",
        "                            Enter this: ''')\n",
        "            if user_input == '1':\n",
        "                self.create_pin()\n",
        "            elif user_input == '2':\n",
        "                self.deposit()\n",
        "            elif user_input == '3':\n",
        "                self.withdraw()\n",
        "            elif user_input == '4':\n",
        "                self.check_balance()\n",
        "            else:\n",
        "              print('Exit')\n",
        "              # break\n",
        "\n",
        "    def create_pin(self):\n",
        "        self.pin = input(\"Enter pin : \")\n",
        "        print('Pin set')\n",
        "\n",
        "    def deposit(self):\n",
        "        temp = input(\"Enter pin : \")\n",
        "        if temp == self.__pin:\n",
        "            deposit = int(input(\"Enter deposit : \"))\n",
        "            self.__balance += deposit\n",
        "            print('Deposit successful')\n",
        "        else:\n",
        "            print('Wrong pin')\n",
        "\n",
        "    def withdraw(self):\n",
        "        temp = input(\"Enter pin : \")\n",
        "        if temp == self.__pin:\n",
        "            amount = int(input(\"Enter withdraw : \"))\n",
        "            if self.__balance >= amount:\n",
        "                self.__balance -= amount\n",
        "                print('Withdraw successful')\n",
        "            else:\n",
        "                print('Insufficient balance')\n",
        "        else:\n",
        "            print('Wrong pin')\n",
        "\n",
        "    def check_balance(self):\n",
        "        temp = input(\"Enter pin : \")\n",
        "        if temp == self.__pin:\n",
        "            print(f\"Balance = {self.__balance}\")\n",
        "        else:\n",
        "            print('Wrong pin')\n",
        "\n",
        "sbi = ATM()"
      ],
      "metadata": {
        "colab": {
          "base_uri": "https://localhost:8080/"
        },
        "id": "r9-VboVriqzp",
        "outputId": "a895a1b0-e394-46fd-924e-24bc831fdd31"
      },
      "execution_count": null,
      "outputs": [
        {
          "output_type": "stream",
          "name": "stdout",
          "text": [
            "\n",
            "                            Hello, how would you like to proceed?\n",
            "                            1. Enter 1 to create pin\n",
            "                            2. Enter 2 to deposit\n",
            "                            3. Enter 3 to withdraw\n",
            "                            4. Enter 4 to check balance\n",
            "                            5. Enter 5 to exit\n",
            "                            Enter this: 5\n",
            "Exit\n"
          ]
        }
      ]
    },
    {
      "cell_type": "markdown",
      "source": [
        "Encapsulation"
      ],
      "metadata": {
        "id": "pGMedEqkge9k"
      }
    },
    {
      "cell_type": "code",
      "source": [
        "class ATM:\n",
        "    def __init__(self):\n",
        "        self.__pin = ''\n",
        "        self.__balance = 0\n",
        "        self.menu()\n",
        "\n",
        "    def get_pin(self):\n",
        "      return self.__pin\n",
        "\n",
        "    def set_pin(self,new_pin):\n",
        "      if new_pin == str:\n",
        "        self.__pin = new_pin\n",
        "        print(\"Pin changed\")\n",
        "      else:\n",
        "        print('Not allowed')\n",
        "\n",
        "    def menu(self):\n",
        "        # while True:\n",
        "            user_input = input('''\n",
        "                            Hello, how would you like to proceed?\n",
        "                            1. Enter 1 to create pin\n",
        "                            2. Enter 2 to deposit\n",
        "                            3. Enter 3 to withdraw\n",
        "                            4. Enter 4 to check balance\n",
        "                            5. Enter 5 to exit\n",
        "                            Enter this: ''')\n",
        "            if user_input == '1':\n",
        "                self.create_pin()\n",
        "            elif user_input == '2':\n",
        "                self.deposit()\n",
        "            elif user_input == '3':\n",
        "                self.withdraw()\n",
        "            elif user_input == '4':\n",
        "                self.check_balance()\n",
        "            else:\n",
        "              print('Exit')\n",
        "              # break\n",
        "\n",
        "    def create_pin(self):\n",
        "        self.pin = input(\"Enter pin : \")\n",
        "        print('Pin set')\n",
        "\n",
        "    def deposit(self):\n",
        "        temp = input(\"Enter pin : \")\n",
        "        if temp == self.__pin:\n",
        "            deposit = int(input(\"Enter deposit : \"))\n",
        "            self.__balance += deposit\n",
        "            print('Deposit successful')\n",
        "        else:\n",
        "            print('Wrong pin')\n",
        "\n",
        "    def withdraw(self):\n",
        "        temp = input(\"Enter pin : \")\n",
        "        if temp == self.__pin:\n",
        "            amount = int(input(\"Enter withdraw : \"))\n",
        "            if self.__balance >= amount:\n",
        "                self.__balance -= amount\n",
        "                print('Withdraw successful')\n",
        "            else:\n",
        "                print('Insufficient balance')\n",
        "        else:\n",
        "            print('Wrong pin')\n",
        "\n",
        "    def check_balance(self):\n",
        "        temp = input(\"Enter pin : \")\n",
        "        if temp == self.__pin:\n",
        "            print(f\"Balance = {self.__balance}\")\n",
        "        else:\n",
        "            print('Wrong pin')\n",
        "\n",
        "sbi = ATM()\n",
        "sbi.set_pin(3.4)"
      ],
      "metadata": {
        "id": "E_QkkdtzhYO8",
        "colab": {
          "base_uri": "https://localhost:8080/"
        },
        "outputId": "7f8f5c8c-3017-49ce-e845-f2f5f1c1f929"
      },
      "execution_count": null,
      "outputs": [
        {
          "output_type": "stream",
          "name": "stdout",
          "text": [
            "\n",
            "                            Hello, how would you like to proceed?\n",
            "                            1. Enter 1 to create pin\n",
            "                            2. Enter 2 to deposit\n",
            "                            3. Enter 3 to withdraw\n",
            "                            4. Enter 4 to check balance\n",
            "                            5. Enter 5 to exit\n",
            "                            Enter this: 1\n",
            "Enter pin : 1234\n",
            "Pin set\n",
            "Not allowed\n"
          ]
        }
      ]
    },
    {
      "cell_type": "code",
      "source": [
        "class Customer:\n",
        "  def __init__(self,name,gender):\n",
        "    self.name = name\n",
        "    self.gender = gender\n",
        "\n",
        "def greed(x):\n",
        "  if x.gender == 'Male':\n",
        "    print('Hello',x.name,'sir')\n",
        "  else:\n",
        "    print('Hi',x.gender,'mam')\n",
        "\n",
        "cust = Customer('Saurav','Male')\n",
        "cust2 = Customer('niha','Female')\n",
        "greed(cust)\n",
        "greed(cust2)"
      ],
      "metadata": {
        "colab": {
          "base_uri": "https://localhost:8080/"
        },
        "id": "fXXqhS0_1dsg",
        "outputId": "3b91e968-06d5-4c29-8d4e-c536dace538b"
      },
      "execution_count": null,
      "outputs": [
        {
          "output_type": "stream",
          "name": "stdout",
          "text": [
            "Hello Saurav sir\n",
            "Hi Female mam\n"
          ]
        }
      ]
    },
    {
      "cell_type": "code",
      "source": [
        "class Customer:\n",
        "  def __init__(self,name):\n",
        "    self.name = name\n",
        "\n",
        "def greed(x):\n",
        "  print(id(x))\n",
        "\n",
        "cust = Customer('Saurav')\n",
        "greed(cust)"
      ],
      "metadata": {
        "colab": {
          "base_uri": "https://localhost:8080/"
        },
        "id": "udUPnfJ11jUQ",
        "outputId": "441734fe-dbae-467f-df70-fa16b29b5daa"
      },
      "execution_count": null,
      "outputs": [
        {
          "output_type": "stream",
          "name": "stdout",
          "text": [
            "133814828503424\n"
          ]
        }
      ]
    },
    {
      "cell_type": "code",
      "source": [
        "class Customer:\n",
        "  def __init__(self,name,age):\n",
        "    self.name = name\n",
        "    self.age = age\n",
        "\n",
        "c1 = Customer('Nitish',34)\n",
        "c2 = Customer('Ankit',45)\n",
        "c3 = Customer('Neha',40)\n",
        "\n",
        "l = [c1,c2,c3]\n",
        "for i in l:\n",
        "  print(i.name,i.age)"
      ],
      "metadata": {
        "colab": {
          "base_uri": "https://localhost:8080/"
        },
        "id": "8i-VFFxw1qlS",
        "outputId": "dcbc1906-004c-4b90-dab8-f5849952f692"
      },
      "execution_count": null,
      "outputs": [
        {
          "output_type": "stream",
          "name": "stdout",
          "text": [
            "Nitish 34\n",
            "Ankit 45\n",
            "Neha 40\n"
          ]
        }
      ]
    },
    {
      "cell_type": "code",
      "source": [
        "class Customer:\n",
        "  def __init__(self,name,age):\n",
        "    self.name = name\n",
        "    self.age = age\n",
        "  def info(self):\n",
        "    print(f\"I am {self.name} and i am {self.age}\")\n",
        "\n",
        "c1 = Customer('Nitish',34)\n",
        "c2 = Customer('Ankit',45)\n",
        "c3 = Customer('Neha',40)\n",
        "\n",
        "l = [c1,c2,c3]\n",
        "for i in l:\n",
        "  i.info()"
      ],
      "metadata": {
        "colab": {
          "base_uri": "https://localhost:8080/"
        },
        "id": "c5qOFQMR_8-4",
        "outputId": "4cbd4245-1e1d-4110-cd3d-405fdda0e8ee"
      },
      "execution_count": null,
      "outputs": [
        {
          "output_type": "stream",
          "name": "stdout",
          "text": [
            "I am Nitish and i am 34\n",
            "I am Ankit and i am 45\n",
            "I am Neha and i am 40\n"
          ]
        }
      ]
    },
    {
      "cell_type": "code",
      "source": [
        "class ATM:\n",
        "    __count = 1\n",
        "    def __init__(self):\n",
        "        self.__pin = ''\n",
        "        self.__balance = 0\n",
        "        self.serial = ATM.__count\n",
        "        ATM.__count += 1\n",
        "\n",
        "        print(id(self))\n",
        "        # self.menu()\n",
        "\n",
        "    def get_pin(self):\n",
        "      return self.__pin\n",
        "\n",
        "    def set_pin(self,new_pin):\n",
        "      if new_pin == str:\n",
        "        self.__pin = new_pin\n",
        "        print(\"Pin changed\")\n",
        "      else:\n",
        "        print('Not allowed')\n",
        "\n",
        "    def menu(self):\n",
        "        # while True:\n",
        "            user_input = input('''\n",
        "                            Hello, how would you like to proceed?\n",
        "                            1. Enter 1 to create pin\n",
        "                            2. Enter 2 to deposit\n",
        "                            3. Enter 3 to withdraw\n",
        "                            4. Enter 4 to check balance\n",
        "                            5. Enter 5 to exit\n",
        "                            Enter this: ''')\n",
        "            if user_input == '1':\n",
        "                self.create_pin()\n",
        "            elif user_input == '2':\n",
        "                self.deposit()\n",
        "            elif user_input == '3':\n",
        "                self.withdraw()\n",
        "            elif user_input == '4':\n",
        "                self.check_balance()\n",
        "            else:\n",
        "              print('Exit')\n",
        "              # break\n",
        "\n",
        "    def create_pin(self):\n",
        "        self.pin = input(\"Enter pin : \")\n",
        "        print('Pin set')\n",
        "\n",
        "    def deposit(self):\n",
        "        temp = input(\"Enter pin : \")\n",
        "        if temp == self.__pin:\n",
        "            deposit = int(input(\"Enter deposit : \"))\n",
        "            self.__balance += deposit\n",
        "            print('Deposit successful')\n",
        "        else:\n",
        "            print('Wrong pin')\n",
        "\n",
        "    def withdraw(self):\n",
        "        temp = input(\"Enter pin : \")\n",
        "        if temp == self.__pin:\n",
        "            amount = int(input(\"Enter withdraw : \"))\n",
        "            if self.__balance >= amount:\n",
        "                self.__balance -= amount\n",
        "                print('Withdraw successful')\n",
        "            else:\n",
        "                print('Insufficient balance')\n",
        "        else:\n",
        "            print('Wrong pin')\n",
        "\n",
        "    def check_balance(self):\n",
        "        temp = input(\"Enter pin : \")\n",
        "        if temp == self.__pin:\n",
        "            print(f\"Balance = {self.__balance}\")\n",
        "        else:\n",
        "            print('Wrong pin')\n",
        "\n",
        "s1 = ATM()\n",
        "s2 = ATM()\n",
        "s3 = ATM()\n",
        "print(s1.serial)\n",
        "print(s2.serial)\n",
        "print(s3.serial)"
      ],
      "metadata": {
        "colab": {
          "base_uri": "https://localhost:8080/"
        },
        "id": "3Fpujg-vAlEl",
        "outputId": "e78f870f-7cef-483f-90b0-4a88a9cff405"
      },
      "execution_count": null,
      "outputs": [
        {
          "output_type": "stream",
          "name": "stdout",
          "text": [
            "133814828501792\n",
            "133814828512352\n",
            "133814828507456\n",
            "1\n",
            "2\n",
            "3\n"
          ]
        }
      ]
    },
    {
      "cell_type": "code",
      "source": [
        "# Aggression\n",
        "class Customer:\n",
        "  def __init__(self,name,gender,address):\n",
        "    self.name = name\n",
        "    self.gender = gender\n",
        "    self.address = address\n",
        "\n",
        "  def change_profile(self,new_name,new_city,new_pin,new_state):\n",
        "    self.name = new_name\n",
        "    self.address.change_address(new_city,new_pin,new_state)\n",
        "class Address:\n",
        "  def __init__(self,city,pincode,state):\n",
        "    self.city = city\n",
        "    self.pincode = pincode\n",
        "    self.state = state\n",
        "  def change_address(self,new_city,new_pin,new_state):\n",
        "    self.city = new_city\n",
        "    self.pin = new_pin\n",
        "    self.state = new_state\n",
        "\n",
        "add = Address('kalkate',70071,'WB')\n",
        "cust = Customer('Saurav','Male',add)\n",
        "\n",
        "cust.change_profile('sarkar','dhake',1260,'BD')\n",
        "\n",
        "print(cust.address.city)\n",
        "print(cust.address.pincode)\n",
        "print(cust.address.state)\n",
        "print(cust.name)\n",
        "print(cust.gender)"
      ],
      "metadata": {
        "id": "HF0fvAKWC0rN",
        "colab": {
          "base_uri": "https://localhost:8080/"
        },
        "outputId": "7d3ca41c-f6b6-4211-92cb-16e3f9fe4b3e"
      },
      "execution_count": null,
      "outputs": [
        {
          "output_type": "stream",
          "name": "stdout",
          "text": [
            "dhake\n",
            "70071\n",
            "BD\n",
            "sarkar\n",
            "Male\n"
          ]
        }
      ]
    },
    {
      "cell_type": "code",
      "source": [
        "# inheritence\n",
        "class User:\n",
        "  def login(self):\n",
        "    print(\"login\")\n",
        "  def registion(self):\n",
        "    print(\"Register\")\n",
        "\n",
        "class Student(User):\n",
        "  def enroll(self):\n",
        "    print('Enroll')\n",
        "  def review(self):\n",
        "    print(\"Review\")\n",
        "\n",
        "st1 = Student()\n",
        "st1.enroll()\n",
        "st1.review()\n",
        "st1.login()\n",
        "st1.login()"
      ],
      "metadata": {
        "colab": {
          "base_uri": "https://localhost:8080/"
        },
        "id": "G63MPFZQT4-u",
        "outputId": "a88dce0b-cfa9-47fc-c154-438d9915d77d"
      },
      "execution_count": null,
      "outputs": [
        {
          "output_type": "stream",
          "name": "stdout",
          "text": [
            "Enroll\n",
            "Review\n",
            "login\n",
            "login\n"
          ]
        }
      ]
    },
    {
      "cell_type": "code",
      "source": [
        "class Phone:\n",
        "  def __init__(self,price,band,camara):\n",
        "    print(\"Inside phone constructor\")\n",
        "    self.price = price\n",
        "    self.band = band\n",
        "    self.camara = camara\n",
        "\n",
        "  def buy(self):\n",
        "    print('Buying a phone')\n",
        "  def return_phone(self):\n",
        "    print(\"Returning a phone\")\n",
        "\n",
        "class FeaturePhone(Phone):\n",
        "  pass\n",
        "class SmartPhone(Phone):\n",
        "  def buy(self):\n",
        "    print(\"Buying a Smartphone\")\n",
        "\n",
        "s = SmartPhone(20000,\"apple\",48)\n",
        "s.buy()\n",
        "s.return_phone()\n",
        "s.band\n",
        "# f = FeaturePhone(30000,'samsung',120)\n",
        "# f.return_phone()"
      ],
      "metadata": {
        "colab": {
          "base_uri": "https://localhost:8080/",
          "height": 88
        },
        "id": "d5YZEhS6ZXLd",
        "outputId": "22c351ae-e5e7-4875-a7d2-2226282fd467"
      },
      "execution_count": null,
      "outputs": [
        {
          "output_type": "stream",
          "name": "stdout",
          "text": [
            "Inside phone constructor\n",
            "Buying a Smartphone\n",
            "Returning a phone\n"
          ]
        },
        {
          "output_type": "execute_result",
          "data": {
            "text/plain": [
              "'apple'"
            ],
            "application/vnd.google.colaboratory.intrinsic+json": {
              "type": "string"
            }
          },
          "metadata": {},
          "execution_count": 17
        }
      ]
    },
    {
      "cell_type": "code",
      "source": [
        "class Prenent:\n",
        "  def __init__(self,num):\n",
        "    self.__num = num\n",
        "  def get_num(self):\n",
        "    return self.__num\n",
        "class Child(Prenent):\n",
        "  def show(self):\n",
        "    print(\"This is in child class\")\n",
        "son = Child(100)\n",
        "print(son.get_num())\n",
        "son.show()"
      ],
      "metadata": {
        "colab": {
          "base_uri": "https://localhost:8080/"
        },
        "id": "PkP_Nq0ac9Fy",
        "outputId": "a822dac7-62b9-45c6-8f95-0dd1b7823719"
      },
      "execution_count": null,
      "outputs": [
        {
          "output_type": "stream",
          "name": "stdout",
          "text": [
            "100\n",
            "This is in child class\n"
          ]
        }
      ]
    },
    {
      "cell_type": "code",
      "source": [
        "class Prenent:\n",
        "  def __init__(self,num):\n",
        "    self.__num = num\n",
        "  def get_num(self):\n",
        "    return self.num\n",
        "\n",
        "class Chile(Prenent):\n",
        "  def __init__(self,val,num):\n",
        "    self.__val = val\n",
        "  def get_val(self):\n",
        "    return self.__val\n",
        "\n",
        "son = Chile(100,10)\n",
        "print(son.get_num())\n",
        "print(son.get_val())"
      ],
      "metadata": {
        "colab": {
          "base_uri": "https://localhost:8080/",
          "height": 349
        },
        "id": "7luXSXpGfnGU",
        "outputId": "5e3a47d8-ca7b-4cc8-9212-71b97b2ed63b"
      },
      "execution_count": null,
      "outputs": [
        {
          "output_type": "error",
          "ename": "AttributeError",
          "evalue": "'Chile' object has no attribute 'num'",
          "traceback": [
            "\u001b[0;31m---------------------------------------------------------------------------\u001b[0m",
            "\u001b[0;31mAttributeError\u001b[0m                            Traceback (most recent call last)",
            "\u001b[0;32m<ipython-input-25-e222165e3917>\u001b[0m in \u001b[0;36m<cell line: 14>\u001b[0;34m()\u001b[0m\n\u001b[1;32m     12\u001b[0m \u001b[0;34m\u001b[0m\u001b[0m\n\u001b[1;32m     13\u001b[0m \u001b[0mson\u001b[0m \u001b[0;34m=\u001b[0m \u001b[0mChile\u001b[0m\u001b[0;34m(\u001b[0m\u001b[0;36m100\u001b[0m\u001b[0;34m,\u001b[0m\u001b[0;36m10\u001b[0m\u001b[0;34m)\u001b[0m\u001b[0;34m\u001b[0m\u001b[0;34m\u001b[0m\u001b[0m\n\u001b[0;32m---> 14\u001b[0;31m \u001b[0mprint\u001b[0m\u001b[0;34m(\u001b[0m\u001b[0mson\u001b[0m\u001b[0;34m.\u001b[0m\u001b[0mget_num\u001b[0m\u001b[0;34m(\u001b[0m\u001b[0;34m)\u001b[0m\u001b[0;34m)\u001b[0m\u001b[0;34m\u001b[0m\u001b[0;34m\u001b[0m\u001b[0m\n\u001b[0m\u001b[1;32m     15\u001b[0m \u001b[0mprint\u001b[0m\u001b[0;34m(\u001b[0m\u001b[0mson\u001b[0m\u001b[0;34m.\u001b[0m\u001b[0mget_val\u001b[0m\u001b[0;34m(\u001b[0m\u001b[0;34m)\u001b[0m\u001b[0;34m)\u001b[0m\u001b[0;34m\u001b[0m\u001b[0;34m\u001b[0m\u001b[0m\n",
            "\u001b[0;32m<ipython-input-25-e222165e3917>\u001b[0m in \u001b[0;36mget_num\u001b[0;34m(self)\u001b[0m\n\u001b[1;32m      3\u001b[0m     \u001b[0mself\u001b[0m\u001b[0;34m.\u001b[0m\u001b[0m__num\u001b[0m \u001b[0;34m=\u001b[0m \u001b[0mnum\u001b[0m\u001b[0;34m\u001b[0m\u001b[0;34m\u001b[0m\u001b[0m\n\u001b[1;32m      4\u001b[0m   \u001b[0;32mdef\u001b[0m \u001b[0mget_num\u001b[0m\u001b[0;34m(\u001b[0m\u001b[0mself\u001b[0m\u001b[0;34m)\u001b[0m\u001b[0;34m:\u001b[0m\u001b[0;34m\u001b[0m\u001b[0;34m\u001b[0m\u001b[0m\n\u001b[0;32m----> 5\u001b[0;31m     \u001b[0;32mreturn\u001b[0m \u001b[0mself\u001b[0m\u001b[0;34m.\u001b[0m\u001b[0mnum\u001b[0m\u001b[0;34m\u001b[0m\u001b[0;34m\u001b[0m\u001b[0m\n\u001b[0m\u001b[1;32m      6\u001b[0m \u001b[0;34m\u001b[0m\u001b[0m\n\u001b[1;32m      7\u001b[0m \u001b[0;32mclass\u001b[0m \u001b[0mChile\u001b[0m\u001b[0;34m(\u001b[0m\u001b[0mPrenent\u001b[0m\u001b[0;34m)\u001b[0m\u001b[0;34m:\u001b[0m\u001b[0;34m\u001b[0m\u001b[0;34m\u001b[0m\u001b[0m\n",
            "\u001b[0;31mAttributeError\u001b[0m: 'Chile' object has no attribute 'num'"
          ]
        }
      ]
    },
    {
      "cell_type": "code",
      "source": [
        "class A:\n",
        "  def __init__(self):\n",
        "    self.val = 100\n",
        "  def display1(self,val):\n",
        "    print(\"class A\",self.val)\n",
        "\n",
        "class B(A):\n",
        "  def display2(self,val):\n",
        "    print(\"class B\",self.val)\n",
        "\n",
        "obj = B()\n",
        "obj.display1(200)\n",
        "obj.val"
      ],
      "metadata": {
        "colab": {
          "base_uri": "https://localhost:8080/"
        },
        "id": "wgJWsjhyg5EQ",
        "outputId": "fd237f8c-87ea-457e-d41f-3cf907b43fe4"
      },
      "execution_count": null,
      "outputs": [
        {
          "output_type": "stream",
          "name": "stdout",
          "text": [
            "class A 100\n"
          ]
        },
        {
          "output_type": "execute_result",
          "data": {
            "text/plain": [
              "100"
            ]
          },
          "metadata": {},
          "execution_count": 30
        }
      ]
    },
    {
      "cell_type": "code",
      "source": [
        "class Phone:\n",
        "  def __init__(self,price,brand,camara):\n",
        "    print(\"Inside phone constructo\")\n",
        "    self.price = price\n",
        "    self.brand = brand\n",
        "    self.camara = camara\n",
        "  def buy(self):\n",
        "    print(\"Buying a phone\")\n",
        "  def return_phone(self):\n",
        "    print(\"Return a phone\")\n",
        "\n",
        "class SmartPhone(Phone):\n",
        "  def buy(self):\n",
        "    print('Buying a smartphone')\n",
        "    super().buy()\n",
        "\n",
        "s = SmartPhone(2000,'Apple',48)\n",
        "s.buy()"
      ],
      "metadata": {
        "colab": {
          "base_uri": "https://localhost:8080/"
        },
        "id": "Hnwy3mj2iu15",
        "outputId": "f7d25d3d-d6f7-4f1d-8f0e-bbaa094170e4"
      },
      "execution_count": null,
      "outputs": [
        {
          "output_type": "stream",
          "name": "stdout",
          "text": [
            "Inside phone constructo\n",
            "Buying a smartphone\n",
            "Buying a phone\n"
          ]
        }
      ]
    },
    {
      "cell_type": "code",
      "source": [
        "class Phone:\n",
        "  def __init__(self,price,brand,camara):\n",
        "    print(\"Inside phone constructo\")\n",
        "    self.price = price\n",
        "    self.brand = brand\n",
        "    self.camara = camara\n",
        "\n",
        "class SmartPhone(Phone):\n",
        "  def __init__(self,price,brand,camara,os,ram):\n",
        "    print('Play first run')\n",
        "    super().__init__(price,brand,camara)\n",
        "    self.os = os\n",
        "    self.ram = ram\n",
        "    print(\"inside smartphone\")\n",
        "\n",
        "s = SmartPhone(2000,'Samsumg',12,'Android',14)\n",
        "s.brand"
      ],
      "metadata": {
        "colab": {
          "base_uri": "https://localhost:8080/",
          "height": 88
        },
        "id": "4k4zlINRkjhA",
        "outputId": "932c21e3-7e85-400e-f1cf-5ba192eb81e7"
      },
      "execution_count": null,
      "outputs": [
        {
          "output_type": "stream",
          "name": "stdout",
          "text": [
            "Play first run\n",
            "Inside phone constructo\n",
            "inside smartphone\n"
          ]
        },
        {
          "output_type": "execute_result",
          "data": {
            "text/plain": [
              "'Samsumg'"
            ],
            "application/vnd.google.colaboratory.intrinsic+json": {
              "type": "string"
            }
          },
          "metadata": {},
          "execution_count": 35
        }
      ]
    },
    {
      "cell_type": "code",
      "source": [
        "def username(n):\n",
        " for i in n:\n",
        "\n",
        "  if i == '@':\n",
        "    break\n",
        "  print(i,end='')\n",
        "\n",
        "x = 'nitish24singh@gmail.com'\n",
        "username(x)"
      ],
      "metadata": {
        "colab": {
          "base_uri": "https://localhost:8080/"
        },
        "id": "HQ72H10lmNfB",
        "outputId": "76ced146-d100-4264-b0d0-35ad8cf159c0"
      },
      "execution_count": null,
      "outputs": [
        {
          "output_type": "stream",
          "name": "stdout",
          "text": [
            "nitish24singh"
          ]
        }
      ]
    },
    {
      "cell_type": "code",
      "source": [
        "class Parent:\n",
        "  def __init__(self,num):\n",
        "    self.__num = num\n",
        "\n",
        "  def get_num(self):\n",
        "    return self.__num\n",
        "\n",
        "class Child(Parent):\n",
        "  def __init__(self,num,val):\n",
        "    super().__init__(num)\n",
        "    self.__val = val\n",
        "\n",
        "  def get_val(self):\n",
        "    return self.__val\n",
        "\n",
        "son = Child(100,200)\n",
        "print(son.get_num())\n",
        "print(son.get_val())"
      ],
      "metadata": {
        "colab": {
          "base_uri": "https://localhost:8080/"
        },
        "id": "9NsdGQ7jocc8",
        "outputId": "9ade7212-c838-4288-992f-28859be8931b"
      },
      "execution_count": null,
      "outputs": [
        {
          "output_type": "stream",
          "name": "stdout",
          "text": [
            "100\n",
            "200\n"
          ]
        }
      ]
    },
    {
      "cell_type": "code",
      "source": [
        "class Perent:\n",
        "  def __init__(self):\n",
        "    self.num = 100\n",
        "\n",
        "class Child(Perent):\n",
        "  def __init__(self):\n",
        "    super().__init__()\n",
        "    self.val = 200\n",
        "\n",
        "  def show(self):\n",
        "    print(self.num)\n",
        "    print(self.val)\n",
        "\n",
        "son = Child()\n",
        "son.show()"
      ],
      "metadata": {
        "colab": {
          "base_uri": "https://localhost:8080/"
        },
        "id": "tXu9cpafLa7R",
        "outputId": "3a626d3f-ddf1-426e-a91e-7a6c5c453508"
      },
      "execution_count": null,
      "outputs": [
        {
          "output_type": "stream",
          "name": "stdout",
          "text": [
            "100\n",
            "200\n"
          ]
        }
      ]
    },
    {
      "cell_type": "code",
      "source": [
        "class Parent: # fixed the typo here\n",
        "  def __init__(self):\n",
        "    self.num = 100\n",
        "\n",
        "  def show(self):\n",
        "    print(self.num)\n",
        "\n",
        "class Child(Parent):\n",
        "  def __init__(self):\n",
        "    super().__init__()\n",
        "    self.val = 200\n",
        "\n",
        "  def show(self):\n",
        "    # super().show()\n",
        "    print(self.val)\n",
        "per = Parent()\n",
        "per.show()\n",
        "son = Child()\n",
        "son.show()\n"
      ],
      "metadata": {
        "colab": {
          "base_uri": "https://localhost:8080/"
        },
        "id": "27UwZdeiMp7I",
        "outputId": "29e8e3a6-ec47-4990-c1b8-0aee46cabd51"
      },
      "execution_count": null,
      "outputs": [
        {
          "output_type": "stream",
          "name": "stdout",
          "text": [
            "100\n",
            "200\n"
          ]
        }
      ]
    },
    {
      "cell_type": "code",
      "source": [
        "class Product:\n",
        "  def review(self):\n",
        "    print(\"Product customer review\")\n",
        "\n",
        "class Phone(Product):\n",
        "  def __init__(self,price,band,camera):\n",
        "    self.__price = price\n",
        "    self.band = band\n",
        "    self.camera = camera\n",
        "\n",
        "  def buy(self):\n",
        "    print(\"Buying a phone\")\n",
        "\n",
        "  def return_phone(self):\n",
        "    print('Returning a phone')\n",
        "\n",
        "class SmartPhone(Phone):\n",
        "  pass\n",
        "\n",
        "s = SmartPhone(1000,'apple',12)\n",
        "s.review()\n",
        "s.buy()"
      ],
      "metadata": {
        "id": "Xsqr7FisN4u6",
        "colab": {
          "base_uri": "https://localhost:8080/"
        },
        "outputId": "469ca7b3-4298-48b3-dbe8-5b81a6ebdd84"
      },
      "execution_count": null,
      "outputs": [
        {
          "output_type": "stream",
          "name": "stdout",
          "text": [
            "Product customer review\n",
            "Buying a phone\n"
          ]
        }
      ]
    },
    {
      "cell_type": "code",
      "source": [
        "class A:\n",
        "  def m1(self):\n",
        "    return 20\n",
        "class B(A):\n",
        "  def m1(self):\n",
        "    return 30\n",
        "  def m2(self):\n",
        "    return 40\n",
        "class C(B):\n",
        "  def m2(self):\n",
        "    return 20\n",
        "\n",
        "obj1 = A()\n",
        "obj2 = B()\n",
        "obj3 = C()\n",
        "\n",
        "print(obj1.m1()+obj3.m1()+obj3.m2())"
      ],
      "metadata": {
        "id": "Q9xfVZZhWDfJ",
        "colab": {
          "base_uri": "https://localhost:8080/"
        },
        "outputId": "aab46e46-3a3f-4905-bacd-4f8f84a42974"
      },
      "execution_count": null,
      "outputs": [
        {
          "output_type": "stream",
          "name": "stdout",
          "text": [
            "70\n"
          ]
        }
      ]
    },
    {
      "cell_type": "code",
      "source": [
        "class A:\n",
        "  def m1(self):\n",
        "    return 20\n",
        "class B(A):\n",
        "  def m1(self):\n",
        "    val = super().m1()+30\n",
        "    return val\n",
        "\n",
        "class C(B):\n",
        "  def m1(self):\n",
        "    val = super().m1()+20\n",
        "    return val\n",
        "\n",
        "obj = C()\n",
        "print(obj.m1())"
      ],
      "metadata": {
        "colab": {
          "base_uri": "https://localhost:8080/"
        },
        "id": "8yITVlGvyDNa",
        "outputId": "9fbd782a-6bdf-4973-c01b-07cdea0a2ba1"
      },
      "execution_count": null,
      "outputs": [
        {
          "output_type": "stream",
          "name": "stdout",
          "text": [
            "70\n"
          ]
        }
      ]
    },
    {
      "cell_type": "code",
      "source": [
        "class Geomrty:\n",
        "  def area(self,a,b=0):\n",
        "    if b == 0:\n",
        "      print('Circle',3.14*a*a)\n",
        "    else:\n",
        "      print('Rect',a*b)\n",
        "\n",
        "obj = Geomrty()\n",
        "obj.area(3,4)"
      ],
      "metadata": {
        "colab": {
          "base_uri": "https://localhost:8080/"
        },
        "id": "y3w3MNruzeT2",
        "outputId": "7dbeaef5-7224-4138-b784-541686915040"
      },
      "execution_count": null,
      "outputs": [
        {
          "output_type": "stream",
          "name": "stdout",
          "text": [
            "Rect 12\n"
          ]
        }
      ]
    },
    {
      "cell_type": "code",
      "source": [
        "!pip install requests"
      ],
      "metadata": {
        "id": "lbzL6Sb01Zji",
        "colab": {
          "base_uri": "https://localhost:8080/"
        },
        "outputId": "cad51800-03d1-4930-a4f6-c799f80b836f"
      },
      "execution_count": 3,
      "outputs": [
        {
          "output_type": "stream",
          "name": "stdout",
          "text": [
            "Requirement already satisfied: requests in /usr/local/lib/python3.10/dist-packages (2.31.0)\n",
            "Requirement already satisfied: charset-normalizer<4,>=2 in /usr/local/lib/python3.10/dist-packages (from requests) (3.3.2)\n",
            "Requirement already satisfied: idna<4,>=2.5 in /usr/local/lib/python3.10/dist-packages (from requests) (3.6)\n",
            "Requirement already satisfied: urllib3<3,>=1.21.1 in /usr/local/lib/python3.10/dist-packages (from requests) (2.0.7)\n",
            "Requirement already satisfied: certifi>=2017.4.17 in /usr/local/lib/python3.10/dist-packages (from requests) (2023.11.17)\n"
          ]
        }
      ]
    },
    {
      "cell_type": "code",
      "source": [
        "import requests\n",
        "class IRTC:\n",
        "  def __init__(self):\n",
        "    user_input = input(\"\"\"How would you like to proceed?\n",
        "    1. Enter 1 to check live train status\n",
        "    2. Enter 2 to check PNR\n",
        "    3. Enter 3 to check train schedule\"\"\")\n",
        "\n",
        "    if user_input == \"1\":\n",
        "      print(\"live train status\")\n",
        "    elif user_input == \"2\":\n",
        "      print(\"PNR\")\n",
        "    else:\n",
        "      # Define train_schedule() or remove this line\n",
        "      self.train_schedule()\n",
        "\n",
        "  def train_schedule(self):\n",
        "    train_no = input(\"Enter the train no : \")\n",
        "    self.fetch_data(train_no)\n",
        "\n",
        "  def fetch_data(self,train_no):\n",
        "    # data = requests.get(f\"http://indianrailapi.com/api/v2/TrainSchedule/apikey/30c382602bfa67c8a7c580e6cfe2becb/TrainNumber/{train_no}\")\n",
        "    data = data.json()\n",
        "    print(data['Route'])\n",
        "\n",
        "    for i in data['Route']:\n",
        "      print(i['StationName'])\n",
        "\n",
        "\n",
        "obj = IRTC()\n"
      ],
      "metadata": {
        "colab": {
          "base_uri": "https://localhost:8080/",
          "height": 442
        },
        "id": "tesCrBOJOla4",
        "outputId": "53d51672-875a-412a-b25c-27757b9a5982"
      },
      "execution_count": 10,
      "outputs": [
        {
          "name": "stdout",
          "output_type": "stream",
          "text": [
            "How would you like to proceed?\n",
            "    1. Enter 1 to check live train status\n",
            "    2. Enter 2 to check PNR\n",
            "    3. Enter 3 to check train schedule3\n",
            "Enter the train no : 12222\n"
          ]
        },
        {
          "output_type": "error",
          "ename": "UnboundLocalError",
          "evalue": "local variable 'data' referenced before assignment",
          "traceback": [
            "\u001b[0;31m---------------------------------------------------------------------------\u001b[0m",
            "\u001b[0;31mUnboundLocalError\u001b[0m                         Traceback (most recent call last)",
            "\u001b[0;32m<ipython-input-10-2d3171a86e47>\u001b[0m in \u001b[0;36m<cell line: 30>\u001b[0;34m()\u001b[0m\n\u001b[1;32m     28\u001b[0m \u001b[0;34m\u001b[0m\u001b[0m\n\u001b[1;32m     29\u001b[0m \u001b[0;34m\u001b[0m\u001b[0m\n\u001b[0;32m---> 30\u001b[0;31m \u001b[0mobj\u001b[0m \u001b[0;34m=\u001b[0m \u001b[0mIRTC\u001b[0m\u001b[0;34m(\u001b[0m\u001b[0;34m)\u001b[0m\u001b[0;34m\u001b[0m\u001b[0;34m\u001b[0m\u001b[0m\n\u001b[0m",
            "\u001b[0;32m<ipython-input-10-2d3171a86e47>\u001b[0m in \u001b[0;36m__init__\u001b[0;34m(self)\u001b[0m\n\u001b[1;32m     13\u001b[0m     \u001b[0;32melse\u001b[0m\u001b[0;34m:\u001b[0m\u001b[0;34m\u001b[0m\u001b[0;34m\u001b[0m\u001b[0m\n\u001b[1;32m     14\u001b[0m       \u001b[0;31m# Define train_schedule() or remove this line\u001b[0m\u001b[0;34m\u001b[0m\u001b[0;34m\u001b[0m\u001b[0m\n\u001b[0;32m---> 15\u001b[0;31m       \u001b[0mself\u001b[0m\u001b[0;34m.\u001b[0m\u001b[0mtrain_schedule\u001b[0m\u001b[0;34m(\u001b[0m\u001b[0;34m)\u001b[0m\u001b[0;34m\u001b[0m\u001b[0;34m\u001b[0m\u001b[0m\n\u001b[0m\u001b[1;32m     16\u001b[0m \u001b[0;34m\u001b[0m\u001b[0m\n\u001b[1;32m     17\u001b[0m   \u001b[0;32mdef\u001b[0m \u001b[0mtrain_schedule\u001b[0m\u001b[0;34m(\u001b[0m\u001b[0mself\u001b[0m\u001b[0;34m)\u001b[0m\u001b[0;34m:\u001b[0m\u001b[0;34m\u001b[0m\u001b[0;34m\u001b[0m\u001b[0m\n",
            "\u001b[0;32m<ipython-input-10-2d3171a86e47>\u001b[0m in \u001b[0;36mtrain_schedule\u001b[0;34m(self)\u001b[0m\n\u001b[1;32m     17\u001b[0m   \u001b[0;32mdef\u001b[0m \u001b[0mtrain_schedule\u001b[0m\u001b[0;34m(\u001b[0m\u001b[0mself\u001b[0m\u001b[0;34m)\u001b[0m\u001b[0;34m:\u001b[0m\u001b[0;34m\u001b[0m\u001b[0;34m\u001b[0m\u001b[0m\n\u001b[1;32m     18\u001b[0m     \u001b[0mtrain_no\u001b[0m \u001b[0;34m=\u001b[0m \u001b[0minput\u001b[0m\u001b[0;34m(\u001b[0m\u001b[0;34m\"Enter the train no : \"\u001b[0m\u001b[0;34m)\u001b[0m\u001b[0;34m\u001b[0m\u001b[0;34m\u001b[0m\u001b[0m\n\u001b[0;32m---> 19\u001b[0;31m     \u001b[0mself\u001b[0m\u001b[0;34m.\u001b[0m\u001b[0mfetch_data\u001b[0m\u001b[0;34m(\u001b[0m\u001b[0mtrain_no\u001b[0m\u001b[0;34m)\u001b[0m\u001b[0;34m\u001b[0m\u001b[0;34m\u001b[0m\u001b[0m\n\u001b[0m\u001b[1;32m     20\u001b[0m \u001b[0;34m\u001b[0m\u001b[0m\n\u001b[1;32m     21\u001b[0m   \u001b[0;32mdef\u001b[0m \u001b[0mfetch_data\u001b[0m\u001b[0;34m(\u001b[0m\u001b[0mself\u001b[0m\u001b[0;34m,\u001b[0m\u001b[0mtrain_no\u001b[0m\u001b[0;34m)\u001b[0m\u001b[0;34m:\u001b[0m\u001b[0;34m\u001b[0m\u001b[0;34m\u001b[0m\u001b[0m\n",
            "\u001b[0;32m<ipython-input-10-2d3171a86e47>\u001b[0m in \u001b[0;36mfetch_data\u001b[0;34m(self, train_no)\u001b[0m\n\u001b[1;32m     21\u001b[0m   \u001b[0;32mdef\u001b[0m \u001b[0mfetch_data\u001b[0m\u001b[0;34m(\u001b[0m\u001b[0mself\u001b[0m\u001b[0;34m,\u001b[0m\u001b[0mtrain_no\u001b[0m\u001b[0;34m)\u001b[0m\u001b[0;34m:\u001b[0m\u001b[0;34m\u001b[0m\u001b[0;34m\u001b[0m\u001b[0m\n\u001b[1;32m     22\u001b[0m     \u001b[0;31m# data = requests.get(f\"http://indianrailapi.com/api/v2/TrainSchedule/apikey/30c382602bfa67c8a7c580e6cfe2becb/TrainNumber/{train_no}\")\u001b[0m\u001b[0;34m\u001b[0m\u001b[0;34m\u001b[0m\u001b[0m\n\u001b[0;32m---> 23\u001b[0;31m     \u001b[0mdata\u001b[0m \u001b[0;34m=\u001b[0m \u001b[0mdata\u001b[0m\u001b[0;34m.\u001b[0m\u001b[0mjson\u001b[0m\u001b[0;34m(\u001b[0m\u001b[0;34m)\u001b[0m\u001b[0;34m\u001b[0m\u001b[0;34m\u001b[0m\u001b[0m\n\u001b[0m\u001b[1;32m     24\u001b[0m     \u001b[0mprint\u001b[0m\u001b[0;34m(\u001b[0m\u001b[0mdata\u001b[0m\u001b[0;34m[\u001b[0m\u001b[0;34m'Route'\u001b[0m\u001b[0;34m]\u001b[0m\u001b[0;34m)\u001b[0m\u001b[0;34m\u001b[0m\u001b[0;34m\u001b[0m\u001b[0m\n\u001b[1;32m     25\u001b[0m \u001b[0;34m\u001b[0m\u001b[0m\n",
            "\u001b[0;31mUnboundLocalError\u001b[0m: local variable 'data' referenced before assignment"
          ]
        }
      ]
    },
    {
      "cell_type": "code",
      "source": [],
      "metadata": {
        "id": "PMcJxwg4PMh-"
      },
      "execution_count": null,
      "outputs": []
    }
  ]
}