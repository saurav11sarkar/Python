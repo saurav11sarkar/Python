{
  "nbformat": 4,
  "nbformat_minor": 0,
  "metadata": {
    "colab": {
      "provenance": []
    },
    "kernelspec": {
      "name": "python3",
      "display_name": "Python 3"
    },
    "language_info": {
      "name": "python"
    }
  },
  "cells": [
    {
      "cell_type": "markdown",
      "source": [
        "# Task : Session 1\n",
        "Solve these questions own your own and try to test yourself what you have learned in the session.\n",
        "\n",
        "Happy Learning!"
      ],
      "metadata": {
        "id": "A05OG15VqOPF"
      }
    },
    {
      "cell_type": "markdown",
      "source": [
        "### Q1 :- Print the given strings as per stated format.\n",
        "\n",
        "**Given strings**:\n",
        "```\n",
        "\"Data\" \"Science\" \"Mentorship\" \"Program\"\n",
        "\"By\" \"CampusX\"\n",
        "```\n",
        "**Output**:\n",
        "```\n",
        "Data-Science-Mentorship-Program-started-By-CampusX\n",
        "```\n",
        "\n",
        "Concept- [Seperator and End]"
      ],
      "metadata": {
        "id": "2doIXf8bqe9_"
      }
    },
    {
      "cell_type": "code",
      "source": [
        "# Write your code here\n",
        "print(\"Data\",\"Science\",\"Mentorship\",\"Program\",sep='-',end='-')\n",
        "print(\"By\",\"CampusX\",sep='-')"
      ],
      "metadata": {
        "id": "-em6d3KErDtp",
        "outputId": "873aef30-1fe1-4307-d696-675d1638ab23",
        "colab": {
          "base_uri": "https://localhost:8080/"
        }
      },
      "execution_count": 1,
      "outputs": [
        {
          "output_type": "stream",
          "name": "stdout",
          "text": [
            "Data-Science-Mentorship-Program-By-CampusX\n"
          ]
        }
      ]
    },
    {
      "cell_type": "markdown",
      "source": [
        "### Q2:- Write a program that will convert celsius value to fahrenheit.\n",
        "\n",
        "---\n",
        "\n",
        "\n",
        "\n",
        "---\n",
        "\n"
      ],
      "metadata": {
        "id": "1KUpN7ZTrC3_"
      }
    },
    {
      "cell_type": "code",
      "source": [
        "# Write your code here\n",
        "celsius = float(input(\"Enter celsius value : \"))\n",
        "fahrenheit = (9/5 * celsius) + 32\n",
        "print('fahrenheit value :',fahrenheit)"
      ],
      "metadata": {
        "id": "yxKYhYQiqWfj",
        "outputId": "f1421478-dfaf-428f-ff10-0000f0dcb90b",
        "colab": {
          "base_uri": "https://localhost:8080/"
        }
      },
      "execution_count": 4,
      "outputs": [
        {
          "output_type": "stream",
          "name": "stdout",
          "text": [
            "Enter celsius value : 45\n",
            "fahrenheit value : 113.0\n"
          ]
        }
      ]
    },
    {
      "cell_type": "markdown",
      "source": [
        "### Q3:- Take 2 numbers as input from the user.Write a program to swap the numbers without using any special python syntax."
      ],
      "metadata": {
        "id": "RLrOBBJurLB2"
      }
    },
    {
      "cell_type": "code",
      "source": [
        "# Write your code here\n",
        "a = int(input(\"Enter first number : \"))\n",
        "b = int(input(\"Enter second number : \"))\n",
        "tem = a\n",
        "a = b\n",
        "b = tem\n",
        "print(f\"first number {a}\")\n",
        "print(f\"second number {b}\")"
      ],
      "metadata": {
        "id": "yPn7if0TrJ4F",
        "outputId": "e57699d7-0e86-4422-e32e-1728f05e8ebb",
        "colab": {
          "base_uri": "https://localhost:8080/"
        }
      },
      "execution_count": 5,
      "outputs": [
        {
          "output_type": "stream",
          "name": "stdout",
          "text": [
            "Enter first number : 20\n",
            "Enter second number : 30\n",
            "first number 30\n",
            "second number 20\n"
          ]
        }
      ]
    },
    {
      "cell_type": "markdown",
      "source": [
        "### Q4:- Write a program to find the euclidean distance between two coordinates.Take both the coordinates from the user as input."
      ],
      "metadata": {
        "id": "waLCP1bjr7ML"
      }
    },
    {
      "cell_type": "code",
      "source": [
        "# Write your code here\n",
        "x1 = float(input('Enter x-coordinate of the first point : '))\n",
        "y1 = float(input('Enter y-coordinate of the first point : '))\n",
        "x2 = float(input('Enter x-coordinate of the second point : '))\n",
        "y2 = float(input('Enter y-coordinate of the second point : '))\n",
        "import math\n",
        "destan = (((x2 - x1)**2) + (y2 - y1)**2)**(1/2)\n",
        "print(f\"{destan:.2f}\")"
      ],
      "metadata": {
        "id": "Pl1Sv-xnrxnH",
        "outputId": "8884eb70-eb10-40ce-ae15-eb5cc7c236db",
        "colab": {
          "base_uri": "https://localhost:8080/"
        }
      },
      "execution_count": 16,
      "outputs": [
        {
          "output_type": "stream",
          "name": "stdout",
          "text": [
            "Enter x-coordinate of the first point : 10\n",
            "Enter y-coordinate of the first point : 20\n",
            "Enter x-coordinate of the second point : 30\n",
            "Enter y-coordinate of the second point : 40\n",
            "28.28\n"
          ]
        }
      ]
    },
    {
      "cell_type": "markdown",
      "source": [
        "222### Q5:- Write a program to find the simple interest when the value of principle,rate of interest and time period is provided by the user.\n"
      ],
      "metadata": {
        "id": "VLrhg-FRsHjR"
      }
    },
    {
      "cell_type": "code",
      "source": [
        "# Write your code here\n",
        "p = float(input(\"Enter principle :\"))\n",
        "i = float(input(\"Enter interest :\"))\n",
        "t = float(input(\"Enter time period :\"))\n",
        "sl = p*i*t\n",
        "print(sl)"
      ],
      "metadata": {
        "id": "s40DlReZsTmY",
        "outputId": "ad1aa0e7-589d-4a7a-d93e-9baacaad48b0",
        "colab": {
          "base_uri": "https://localhost:8080/"
        }
      },
      "execution_count": 19,
      "outputs": [
        {
          "output_type": "stream",
          "name": "stdout",
          "text": [
            "Enter principle :10\n",
            "Enter interest :20\n",
            "Enter time period :23\n",
            "4600.0\n"
          ]
        }
      ]
    },
    {
      "cell_type": "markdown",
      "source": [
        "### Q6:- Write a program that will tell the number of dogs and chicken are there when the user will provide the value of total heads and legs.\n",
        "\n",
        "For example:\n",
        "Input:\n",
        "heads -> 4\n",
        "legs -> 12\n",
        "<br>\n",
        "Output:\n",
        "dogs -> 2\n",
        "chicken -> 2\n",
        "\n",
        "\n",
        "\n"
      ],
      "metadata": {
        "id": "LMy0BTUktYKa"
      }
    },
    {
      "cell_type": "code",
      "source": [
        "# Write your code here\n",
        "total_head = int(input(\"Enter total head : \"))\n",
        "total_lag = int(input(\"Enter total lag : \"))\n",
        "dogx = (4 * total_head)\n",
        "dog = abs((dogx - total_lag))//2\n",
        "\n",
        "chicinx = (2 * total_head)\n",
        "chicken = abs((chicinx - total_lag))//2\n",
        "\n",
        "print(f\"Number of Dog = {dog}\\nNumber of Chicken = {chicken}\")"
      ],
      "metadata": {
        "id": "XSBvJoA4tXaG",
        "outputId": "0917ad93-7a20-4b8a-864b-5093fad098fc",
        "colab": {
          "base_uri": "https://localhost:8080/"
        }
      },
      "execution_count": 35,
      "outputs": [
        {
          "output_type": "stream",
          "name": "stdout",
          "text": [
            "Enter total head : 4\n",
            "Enter total lag : 12\n",
            "Number of Dog = 2\n",
            "Number of Chicken = 2\n"
          ]
        }
      ]
    },
    {
      "cell_type": "markdown",
      "source": [
        "### Q7:- Write a program to find the sum of squares of first n natural numbers where n will be provided by the user."
      ],
      "metadata": {
        "id": "gJ7C5kZYt4BP"
      }
    },
    {
      "cell_type": "code",
      "source": [
        "# Write your code here\n",
        "a = int(input(\"Enter first number : \"))\n",
        "b = int(input(\"Enter second number : \"))\n",
        "\n",
        "x = (a+b)**2 - (a*b)*2\n",
        "print(x)\n"
      ],
      "metadata": {
        "id": "_tHsmEHzt2nX",
        "outputId": "2f87bd4d-1a42-4dac-e0e6-7487427242e8",
        "colab": {
          "base_uri": "https://localhost:8080/"
        }
      },
      "execution_count": 39,
      "outputs": [
        {
          "output_type": "stream",
          "name": "stdout",
          "text": [
            "Enter first number : 4\n",
            "Enter second number : 10\n",
            "116\n"
          ]
        }
      ]
    },
    {
      "cell_type": "markdown",
      "source": [
        "### Q8:- Given the first 2 terms of an Arithmetic Series.Find the Nth term of the series. Assume all inputs are provided by the user."
      ],
      "metadata": {
        "id": "FHrMM7g-yG1h"
      }
    },
    {
      "cell_type": "code",
      "source": [
        "# Write your code here\n",
        "first_term = int(input(\"Enter the first term of the series: \"))\n",
        "second_term = int(input(\"Enter the second term of the series: \"))\n",
        "n = int(input(\"Enter the number of the term you want to find: \"))\n",
        "\n",
        "nth_term = first_term + (n - 1) * (second_term - first_term)\n",
        "\n",
        "print(\"The nth term of the series is:\", nth_term)"
      ],
      "metadata": {
        "id": "go4_kmZmyVSx",
        "outputId": "120f9fd3-2700-4ead-b170-5b81ff4f2bcc",
        "colab": {
          "base_uri": "https://localhost:8080/"
        }
      },
      "execution_count": 40,
      "outputs": [
        {
          "output_type": "stream",
          "name": "stdout",
          "text": [
            "Enter the first term of the series: 1\n",
            "Enter the second term of the series: 3\n",
            "Enter the number of the term you want to find: 5\n",
            "The nth term of the series is: 9\n"
          ]
        }
      ]
    },
    {
      "cell_type": "markdown",
      "source": [
        "### Q9:- Given 2 fractions, find the sum of those 2 fractions.Take the numerator and denominator values of the fractions from the user."
      ],
      "metadata": {
        "id": "QgyRX_es1oum"
      }
    },
    {
      "cell_type": "code",
      "source": [],
      "metadata": {
        "id": "X05xqFS1yW16"
      },
      "execution_count": 45,
      "outputs": []
    },
    {
      "cell_type": "markdown",
      "source": [
        "### Q10:- Given the height, width and breadth of a milk tank, you have to find out how many glasses of milk can be obtained? Assume all the inputs are provided by the user.\n",
        "\n",
        "\n",
        "\n",
        "Input:<br>\n",
        "Dimensions of the milk tank<br>\n",
        "H = 20cm, L = 20cm, B = 20cm\n",
        "<br><br>\n",
        "Dimensions of the glass<br>\n",
        "h = 3cm, r = 1cm"
      ],
      "metadata": {
        "id": "eaql38ln13u7"
      }
    },
    {
      "cell_type": "code",
      "source": [
        "# Write your code here\n",
        "h =int(input(\"Enter hight : \"))\n",
        "l =int(input(\"Enter width : \"))\n",
        "b =int(input(\"Enter breadth : \"))\n",
        "v = (h*l*b)\n",
        "g = 3.14159*(1**2)*3\n",
        "x = v/g\n",
        "print(f\"{x:.2f}\")"
      ],
      "metadata": {
        "id": "FePZqno74eWv",
        "outputId": "66e2a2d6-e477-44b0-9b2f-7e7d868c3795",
        "colab": {
          "base_uri": "https://localhost:8080/"
        }
      },
      "execution_count": 43,
      "outputs": [
        {
          "output_type": "stream",
          "name": "stdout",
          "text": [
            "Enter hight : 20\n",
            "Enter width : 20\n",
            "Enter breadth : 20\n",
            "848.83\n"
          ]
        }
      ]
    },
    {
      "cell_type": "code",
      "source": [],
      "metadata": {
        "id": "sJwVZjAHmbZI"
      },
      "execution_count": null,
      "outputs": []
    }
  ]
}