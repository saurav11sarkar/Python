{
  "nbformat": 4,
  "nbformat_minor": 0,
  "metadata": {
    "colab": {
      "provenance": [],
      "authorship_tag": "ABX9TyPhju6va+tQ6waIIAq+YoFd",
      "include_colab_link": true
    },
    "kernelspec": {
      "name": "python3",
      "display_name": "Python 3"
    },
    "language_info": {
      "name": "python"
    }
  },
  "cells": [
    {
      "cell_type": "markdown",
      "metadata": {
        "id": "view-in-github",
        "colab_type": "text"
      },
      "source": [
        "<a href=\"https://colab.research.google.com/github/saurav11sarkar/Python/blob/main/Python_DSA_Interviews_.ipynb\" target=\"_parent\"><img src=\"https://colab.research.google.com/assets/colab-badge.svg\" alt=\"Open In Colab\"/></a>"
      ]
    },
    {
      "cell_type": "markdown",
      "source": [
        "\n",
        "\n",
        "* All Course question : https://github.com/krishnaik06/The-Grand-Complete-Data-Science-Materials/tree/main\n",
        "\n"
      ],
      "metadata": {
        "id": "TZFroq1eXiZ8"
      }
    },
    {
      "cell_type": "markdown",
      "source": [
        "\n",
        "\n",
        "* Question python : https://github.com/krishnaik06/The-Grand-Complete-Data-Science-Materials/tree/main/Python\n",
        "\n"
      ],
      "metadata": {
        "id": "_9JqvBklVwwG"
      }
    },
    {
      "cell_type": "markdown",
      "source": [
        "*  First python Question:https://github.com/krishnaik06/The-Grand-Complete-Data-Science-Materials/blob/main/Python/Python%20DSA%20Interviews.md"
      ],
      "metadata": {
        "id": "p8ZhYEEXV-k4"
      }
    },
    {
      "cell_type": "markdown",
      "source": [
        "1. Reverse a String\n",
        "\n",
        "*   Question: Reverse a given string.\n",
        "*   Answer:\n",
        "\n",
        "\n"
      ],
      "metadata": {
        "id": "IqTUUavPOiL_"
      }
    },
    {
      "cell_type": "code",
      "source": [
        "def reversestr(s):\n",
        "  return s[::-1]\n",
        "\n",
        "a = 'saurav sarkar'\n",
        "reversestr(a)"
      ],
      "metadata": {
        "colab": {
          "base_uri": "https://localhost:8080/",
          "height": 36
        },
        "id": "6qCo_3_4O2-c",
        "outputId": "f12437f1-f6a3-433e-a87e-d9484bf7fb64"
      },
      "execution_count": 1,
      "outputs": [
        {
          "output_type": "execute_result",
          "data": {
            "text/plain": [
              "'rakras varuas'"
            ],
            "application/vnd.google.colaboratory.intrinsic+json": {
              "type": "string"
            }
          },
          "metadata": {},
          "execution_count": 1
        }
      ]
    },
    {
      "cell_type": "markdown",
      "source": [
        "2.Check Palindrome\n",
        "*  Question: Check if a string is a palindrome.\n",
        "* Answer:"
      ],
      "metadata": {
        "id": "uQKa2TMwPMj0"
      }
    },
    {
      "cell_type": "code",
      "source": [
        "def palindrome(s):\n",
        "  if s == s[::-1]:\n",
        "    return 'Yes'\n",
        "  else:\n",
        "    return \"No\"\n",
        "\n",
        "a = 'abba'\n",
        "palindrome(a)"
      ],
      "metadata": {
        "colab": {
          "base_uri": "https://localhost:8080/",
          "height": 36
        },
        "id": "5zSVmH_EPHWx",
        "outputId": "c06888b7-c565-4fe5-eb0c-0e3b64d510ef"
      },
      "execution_count": 3,
      "outputs": [
        {
          "output_type": "execute_result",
          "data": {
            "text/plain": [
              "'Yes'"
            ],
            "application/vnd.google.colaboratory.intrinsic+json": {
              "type": "string"
            }
          },
          "metadata": {},
          "execution_count": 3
        }
      ]
    },
    {
      "cell_type": "markdown",
      "source": [
        "3.Find Factorial\n",
        "\n",
        "*   Question: Calculate the factorial of a number.\n",
        "*   Answer:"
      ],
      "metadata": {
        "id": "xBh2mL0UPrYT"
      }
    },
    {
      "cell_type": "code",
      "source": [
        "def Factorial(f):\n",
        "  if f > 0:\n",
        "    l = [i for i in range(1,f+1)]\n",
        "    count = 1\n",
        "    for i in l:\n",
        "      count *= i\n",
        "    return count\n",
        "  else:\n",
        "    return 'Invliad'\n",
        "\n",
        "Factorial(5)"
      ],
      "metadata": {
        "colab": {
          "base_uri": "https://localhost:8080/"
        },
        "id": "_QKGl-NFQIuo",
        "outputId": "9eaa9226-a277-4757-d9a9-295af3055f8e"
      },
      "execution_count": 24,
      "outputs": [
        {
          "output_type": "execute_result",
          "data": {
            "text/plain": [
              "120"
            ]
          },
          "metadata": {},
          "execution_count": 24
        }
      ]
    },
    {
      "cell_type": "code",
      "source": [
        "def factorial(n):\n",
        "  if n <= 1:\n",
        "    return 1\n",
        "  return n * factorial(n-1)\n",
        "factorial(5)"
      ],
      "metadata": {
        "colab": {
          "base_uri": "https://localhost:8080/"
        },
        "id": "YNkIHu58RHId",
        "outputId": "48269f88-672c-4bd4-bd64-3997a21f1652"
      },
      "execution_count": 20,
      "outputs": [
        {
          "output_type": "execute_result",
          "data": {
            "text/plain": [
              "120"
            ]
          },
          "metadata": {},
          "execution_count": 20
        }
      ]
    },
    {
      "cell_type": "markdown",
      "source": [
        "4.Fibonacci Series\n",
        "\n",
        "*   Question: Generate the nth Fibonacci number.\n",
        "*   Answer:"
      ],
      "metadata": {
        "id": "kODTqZ58TKol"
      }
    },
    {
      "cell_type": "code",
      "source": [
        "def fibonacci(n):\n",
        "  if n <= 1:\n",
        "    return n\n",
        "  return fibonacci(n-1) + fibonacci(n-2)\n",
        "\n",
        "fibonacci(10)"
      ],
      "metadata": {
        "colab": {
          "base_uri": "https://localhost:8080/"
        },
        "id": "EfHohwcPUoPj",
        "outputId": "4e769989-e855-4c30-f398-f584249ada86"
      },
      "execution_count": 29,
      "outputs": [
        {
          "output_type": "execute_result",
          "data": {
            "text/plain": [
              "55"
            ]
          },
          "metadata": {},
          "execution_count": 29
        }
      ]
    },
    {
      "cell_type": "code",
      "source": [],
      "metadata": {
        "id": "6unFCg4nU4sd"
      },
      "execution_count": null,
      "outputs": []
    }
  ]
}