{
  "nbformat": 4,
  "nbformat_minor": 0,
  "metadata": {
    "colab": {
      "provenance": []
    },
    "kernelspec": {
      "name": "python3",
      "display_name": "Python 3"
    },
    "language_info": {
      "name": "python"
    }
  },
  "cells": [
    {
      "cell_type": "code",
      "execution_count": null,
      "metadata": {
        "colab": {
          "base_uri": "https://localhost:8080/"
        },
        "id": "ISE_59YN8PeT",
        "outputId": "f7e1ad03-6d62-47ca-d477-c33dd14832bc"
      },
      "outputs": [
        {
          "output_type": "stream",
          "name": "stdout",
          "text": [
            "12\n"
          ]
        }
      ],
      "source": [
        "try:\n",
        "  def multipation(a,b):\n",
        "    result = 0\n",
        "    for i in range(b):\n",
        "      result += a\n",
        "    return result\n",
        "\n",
        "  a = multipation(3,4)\n",
        "except Exception as e:\n",
        "  print(e)\n",
        "else:\n",
        "  print(a)"
      ]
    },
    {
      "cell_type": "code",
      "source": [
        "def mul(a,b):\n",
        "  if b == 1:\n",
        "    return a\n",
        "  else:\n",
        "    return a + mul(a,b-1)\n",
        "\n",
        "print(mul(3,4))"
      ],
      "metadata": {
        "colab": {
          "base_uri": "https://localhost:8080/"
        },
        "id": "9_1Pfdce9tW6",
        "outputId": "33cf2e7e-6d25-4d31-abc8-3122a34c710d"
      },
      "execution_count": null,
      "outputs": [
        {
          "output_type": "stream",
          "name": "stdout",
          "text": [
            "12\n"
          ]
        }
      ]
    },
    {
      "cell_type": "code",
      "source": [
        "def fact(number):\n",
        "  if number == 1:\n",
        "    return 1\n",
        "  else:\n",
        "    return number * fact(number-1)\n",
        "\n",
        "print(fact(5))"
      ],
      "metadata": {
        "colab": {
          "base_uri": "https://localhost:8080/"
        },
        "id": "cvy-PKU2Jkdi",
        "outputId": "2a396195-e375-4e48-fdad-d5678d949ee9"
      },
      "execution_count": null,
      "outputs": [
        {
          "output_type": "stream",
          "name": "stdout",
          "text": [
            "120\n"
          ]
        }
      ]
    },
    {
      "cell_type": "code",
      "source": [
        "def fact(n):\n",
        "  if n <= 0:\n",
        "    return 'Not a factrial'\n",
        "  elif n == 1:\n",
        "    return 1\n",
        "  else:\n",
        "    l = 1\n",
        "    for i in range(n,1,-1):\n",
        "      l *= i\n",
        "    return l\n",
        "\n",
        "print(fact(2))"
      ],
      "metadata": {
        "colab": {
          "base_uri": "https://localhost:8080/"
        },
        "id": "BJ---VWxK-_X",
        "outputId": "37a834ea-818d-4851-ac16-8a05145463cc"
      },
      "execution_count": null,
      "outputs": [
        {
          "output_type": "stream",
          "name": "stdout",
          "text": [
            "2\n"
          ]
        }
      ]
    },
    {
      "cell_type": "markdown",
      "source": [
        "Palindrom"
      ],
      "metadata": {
        "id": "qfgpx7OhMEgn"
      }
    },
    {
      "cell_type": "code",
      "source": [
        "def plan(text):\n",
        "  if len(text) <= 1:\n",
        "    print('plandrom')\n",
        "  else:\n",
        "    if text[0] == text[-1]:\n",
        "      plan(text[1:-1])\n",
        "    else:\n",
        "      print('Not aplandrom')\n",
        "\n",
        "plan(\"madam\")\n"
      ],
      "metadata": {
        "colab": {
          "base_uri": "https://localhost:8080/"
        },
        "id": "K3xTNmqBOl2v",
        "outputId": "6faca4ed-fef7-4990-aaa1-17c2f208df1a"
      },
      "execution_count": null,
      "outputs": [
        {
          "output_type": "stream",
          "name": "stdout",
          "text": [
            "plandrom\n"
          ]
        }
      ]
    },
    {
      "cell_type": "code",
      "source": [
        "# it is bd code time is biger\n",
        "import time\n",
        "def fib(m):\n",
        "  if m == 0 or m == 1:\n",
        "    return 1\n",
        "  else:\n",
        "    return fib(m-1) + fib(m-2)\n",
        "state = time.time()\n",
        "print(fib(12))\n",
        "print(time.time() - state)"
      ],
      "metadata": {
        "colab": {
          "base_uri": "https://localhost:8080/"
        },
        "id": "_uo8AG3hSUki",
        "outputId": "3f7115cd-79d9-4859-faf9-b1418865e78b"
      },
      "execution_count": null,
      "outputs": [
        {
          "output_type": "stream",
          "name": "stdout",
          "text": [
            "233\n",
            "0.002483367919921875\n"
          ]
        }
      ]
    },
    {
      "cell_type": "code",
      "source": [
        "# Good code time smaller\n",
        "import time\n",
        "def fib(m,d):\n",
        "  if m in d:\n",
        "    return d[m]\n",
        "  else:\n",
        "    d[m] = fib(m-1,d) + fib(m-2,d)\n",
        "    return d[m]\n",
        "\n",
        "d = {0:1,1:1}\n",
        "state = time.time()\n",
        "print(fib(12,d))\n",
        "print(time.time() - state)"
      ],
      "metadata": {
        "colab": {
          "base_uri": "https://localhost:8080/"
        },
        "id": "rPlGnP_ZZsgh",
        "outputId": "07cb0d21-6f20-4f75-e635-3f780ae12682"
      },
      "execution_count": null,
      "outputs": [
        {
          "output_type": "stream",
          "name": "stdout",
          "text": [
            "233\n",
            "0.00016951560974121094\n"
          ]
        }
      ]
    },
    {
      "cell_type": "code",
      "source": [
        "def powerset(s):\n",
        "  n = len(s)\n",
        "  result = []\n",
        "  for i in range(2**n):\n",
        "    subset = []\n",
        "    for j in range(n):\n",
        "      if i & (1 << j):\n",
        "        subset.append(s[j])\n",
        "    result.append(subset)\n",
        "  print(result)\n",
        "\n",
        "powerset([1,2,3])"
      ],
      "metadata": {
        "colab": {
          "base_uri": "https://localhost:8080/"
        },
        "id": "9_ZykXVIjNDe",
        "outputId": "bc4b3e67-9892-4f42-e790-4fc47ca3f621"
      },
      "execution_count": null,
      "outputs": [
        {
          "output_type": "stream",
          "name": "stdout",
          "text": [
            "[[], [1], [2], [1, 2], [3], [1, 3], [2, 3], [1, 2, 3]]\n"
          ]
        }
      ]
    },
    {
      "cell_type": "code",
      "source": [],
      "metadata": {
        "id": "A6lCSG3PnBGr"
      },
      "execution_count": null,
      "outputs": []
    }
  ]
}