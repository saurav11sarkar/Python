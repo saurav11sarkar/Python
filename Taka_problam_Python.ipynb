{
 "cells": [
  {
   "cell_type": "code",
   "execution_count": 9,
   "id": "ce773e5f",
   "metadata": {},
   "outputs": [
    {
     "name": "stdout",
     "output_type": "stream",
     "text": [
      "30\n"
     ]
    }
   ],
   "source": [
    "a = list(map(int,input().split()))\n",
    "\n",
    "print(sum(a))"
   ]
  },
  {
   "cell_type": "code",
   "execution_count": 17,
   "id": "ed71a2c0",
   "metadata": {},
   "outputs": [
    {
     "name": "stdout",
     "output_type": "stream",
     "text": [
      "10 20\n",
      "30\n"
     ]
    }
   ],
   "source": [
    "a = map(int,input().split())\n",
    "print(sum(a))"
   ]
  },
  {
   "cell_type": "code",
   "execution_count": 18,
   "id": "2b7efddc",
   "metadata": {},
   "outputs": [
    {
     "name": "stdout",
     "output_type": "stream",
     "text": [
      "10\n",
      "20\n",
      "30\n"
     ]
    }
   ],
   "source": [
    "def sums():\n",
    "    a = int(input())\n",
    "    return a\n",
    "print(sums()+sums())  "
   ]
  },
  {
   "cell_type": "code",
   "execution_count": 4,
   "id": "9fa3f2cd",
   "metadata": {},
   "outputs": [
    {
     "name": "stdout",
     "output_type": "stream",
     "text": [
      "Hello world!\n",
      "Hello world!\n",
      "Hello world!\n",
      "Hello world!\n",
      "Hello world!\n",
      "\n"
     ]
    }
   ],
   "source": [
    "print('Hello world!\\n'*5)"
   ]
  },
  {
   "cell_type": "code",
   "execution_count": 5,
   "id": "c0ed23cc",
   "metadata": {},
   "outputs": [],
   "source": [
    "a =10\n",
    "b = 10.23\n",
    "c = 'Hello'\n",
    "d = True"
   ]
  },
  {
   "cell_type": "code",
   "execution_count": 6,
   "id": "5784ac6c",
   "metadata": {},
   "outputs": [
    {
     "name": "stdout",
     "output_type": "stream",
     "text": [
      "10\n",
      "10.23\n",
      "Hello\n",
      "True\n"
     ]
    }
   ],
   "source": [
    "print(a)\n",
    "print(b)\n",
    "print(c)\n",
    "print(d)"
   ]
  },
  {
   "cell_type": "code",
   "execution_count": 7,
   "id": "d67610c8",
   "metadata": {
    "scrolled": true
   },
   "outputs": [
    {
     "name": "stdout",
     "output_type": "stream",
     "text": [
      "<class 'int'>\n",
      "<class 'float'>\n",
      "<class 'str'>\n",
      "<class 'bool'>\n"
     ]
    }
   ],
   "source": [
    "print(type(a))\n",
    "print(type(b))\n",
    "print(type(c))\n",
    "print(type(d))"
   ]
  },
  {
   "cell_type": "code",
   "execution_count": 33,
   "id": "f287bf33",
   "metadata": {},
   "outputs": [
    {
     "name": "stdout",
     "output_type": "stream",
     "text": [
      "Enter number 1:10\n",
      "Enter number 2:20\n",
      "30\n"
     ]
    }
   ],
   "source": [
    "x = int(input('Enter number 1:'))\n",
    "y = int(input('Enter number 2:'))\n",
    "print(x+y)"
   ]
  },
  {
   "cell_type": "code",
   "execution_count": 8,
   "id": "bb416347",
   "metadata": {},
   "outputs": [
    {
     "name": "stdout",
     "output_type": "stream",
     "text": [
      "Psositive\n"
     ]
    }
   ],
   "source": [
    "x = int(input('Enter number 1:'))\n",
    "# y = int(input('Enter number 2:'))\n",
    "if x > 0:\n",
    "    print('Psositive')\n",
    "elif x == 0:\n",
    "    print('Zero')\n",
    "else:\n",
    "    print('Nagative')"
   ]
  },
  {
   "cell_type": "code",
   "execution_count": 15,
   "id": "58b0c8d9",
   "metadata": {},
   "outputs": [
    {
     "name": "stdout",
     "output_type": "stream",
     "text": [
      "200 : 500 taka\n",
      "2 : 100 taka\n",
      "3 : 1 taka\n"
     ]
    }
   ],
   "source": [
    "x = int(input(\"Enter number : \"))\n",
    "\n",
    "if (x >= 500):\n",
    "    y = int(x/500)\n",
    "    x = x%500\n",
    "    print(y,\": 500 taka\")\n",
    "if (x >= 100):\n",
    "    y = int(x/100)\n",
    "    x = x%100\n",
    "    print(y,\": 100 taka\")\n",
    "if (x >= 50) :\n",
    "    y = int(x / 50)\n",
    "    x = x%50\n",
    "    print(x,\": 50 taka\")\n",
    "if (x >= 20):\n",
    "    y = int(x/20)\n",
    "    x = x % 20\n",
    "    print(y,': 20 taka')\n",
    "if (x>=10):\n",
    "    y = int(x/10)\n",
    "    x = x%10\n",
    "    print(y,': 10 taka')\n",
    "if (x>=5):\n",
    "    y = int(x/5)\n",
    "    x = x%5\n",
    "    print(y,': 5 taka')\n",
    "if x>=1:\n",
    "    y = int(x/1)\n",
    "    x = x%1\n",
    "    print(y,': 1 taka') "
   ]
  },
  {
   "cell_type": "code",
   "execution_count": null,
   "id": "b6285a39",
   "metadata": {},
   "outputs": [],
   "source": []
  }
 ],
 "metadata": {
  "kernelspec": {
   "display_name": "Python 3",
   "language": "python",
   "name": "python3"
  },
  "language_info": {
   "codemirror_mode": {
    "name": "ipython",
    "version": 3
   },
   "file_extension": ".py",
   "mimetype": "text/x-python",
   "name": "python",
   "nbconvert_exporter": "python",
   "pygments_lexer": "ipython3",
   "version": "3.11.8"
  }
 },
 "nbformat": 4,
 "nbformat_minor": 5
}
