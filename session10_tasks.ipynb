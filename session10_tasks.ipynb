{
  "nbformat": 4,
  "nbformat_minor": 0,
  "metadata": {
    "colab": {
      "provenance": []
    },
    "kernelspec": {
      "name": "python3",
      "display_name": "Python 3"
    },
    "language_info": {
      "name": "python"
    }
  },
  "cells": [
    {
      "cell_type": "markdown",
      "source": [
        "### `Q-1:` Write a function `get_final_line(filename)`, which takes filename as input and return final line of the file.\n",
        "\n",
        "Note: You can choose any file of your choice."
      ],
      "metadata": {
        "id": "MbeMdx5d5qRj"
      }
    },
    {
      "cell_type": "code",
      "source": [
        "# Write code here\n",
        "def get_final_line(filename):\n",
        "  with open('demo.txt','w') as f:\n",
        "    f.write(filename)\n",
        "\n",
        "write_file = 'saurav sarkar\\nhi am 22 years old'\n",
        "get_final_line(write_file)"
      ],
      "metadata": {
        "id": "rjx9XRTq5uzD"
      },
      "execution_count": null,
      "outputs": []
    },
    {
      "cell_type": "code",
      "source": [
        "def get_final_line(filename):\n",
        "  try:\n",
        "    with open(filename,'r') as f:\n",
        "      line = f.readlines()\n",
        "      if line:\n",
        "        return line[-1]\n",
        "      else:\n",
        "        return 'file is empty'\n",
        "  except FileNotFoundError:\n",
        "    return f\"{filename} is not found\"\n",
        "  except Exception as e:\n",
        "    return f\"And error occured {e}\"\n",
        "\n",
        "filename = 'demo.txt'\n",
        "read = get_final_line(filename)\n",
        "print(f\"file name {filename} : {read}\")\n"
      ],
      "metadata": {
        "colab": {
          "base_uri": "https://localhost:8080/"
        },
        "id": "6oOGyPIaQ4OE",
        "outputId": "89460909-ad63-454d-f45c-7e69ce77611a"
      },
      "execution_count": null,
      "outputs": [
        {
          "output_type": "stream",
          "name": "stdout",
          "text": [
            "file name demo.txt : hi am 22 years old\n"
          ]
        }
      ]
    },
    {
      "cell_type": "markdown",
      "source": [
        "###`Q-2:` Read through a text file, line by line. Use a dict to keep track of how many times each vowel (a, e, i, o, and u) appears in the file. Print the resulting tabulation -- dictionary."
      ],
      "metadata": {
        "id": "B87Z6-yQ5wVO"
      }
    },
    {
      "cell_type": "code",
      "source": [
        "# Write code here\n",
        "import time\n",
        "def read_file(aeiou):\n",
        "\n",
        "  try:\n",
        "    with open(aeiou,'r') as f:\n",
        "      line = f.read()\n",
        "  except Exception as e:\n",
        "    return e\n",
        "  else:\n",
        "    d = dict()\n",
        "    for i in line:\n",
        "      if i == 'a' or i == 'e' or i == 'i' or i == 'o' or i == 'u':\n",
        "        if i in d:\n",
        "          d[i] += 1\n",
        "        else:\n",
        "          d[i] = 1\n",
        "    return d\n",
        "s = time.time()\n",
        "filename = 'demo.txt'\n",
        "read = read_file(filename)\n",
        "print(f\"file name {filename} : {read}\")\n",
        "print(time.time()-s)"
      ],
      "metadata": {
        "id": "XeXnOL7X50Sa",
        "colab": {
          "base_uri": "https://localhost:8080/"
        },
        "outputId": "25232810-bb26-467a-d315-cb2ebfa529bd"
      },
      "execution_count": null,
      "outputs": [
        {
          "output_type": "stream",
          "name": "stdout",
          "text": [
            "file name demo.txt : {'a': 6, 'u': 1, 'i': 1, 'e': 1, 'o': 1}\n",
            "0.000396728515625\n"
          ]
        }
      ]
    },
    {
      "cell_type": "code",
      "source": [
        "# Write code here\n",
        "import time\n",
        "def read_file(aeiou):\n",
        "  try:\n",
        "    d = {'a':0,'e':0,'i':0,'o':0,'u':0}\n",
        "    with open(aeiou,'r') as f:\n",
        "      line = f.read()\n",
        "  except Exception as e:\n",
        "    return e\n",
        "  else:\n",
        "    for i in line:\n",
        "      for j in i.lower():\n",
        "        if j in d:\n",
        "          d[j] += 1\n",
        "    return d\n",
        "s = time.time()\n",
        "filename = 'demo.txt'\n",
        "read = read_file(filename)\n",
        "print(f\"file name {filename} : {read}\")\n",
        "print(time.time()-s)"
      ],
      "metadata": {
        "colab": {
          "base_uri": "https://localhost:8080/"
        },
        "id": "XlP0K-TOYRyu",
        "outputId": "975e65df-c346-496c-bee2-0af1d849e6f5"
      },
      "execution_count": null,
      "outputs": [
        {
          "output_type": "stream",
          "name": "stdout",
          "text": [
            "file name demo.txt : {'a': 6, 'e': 1, 'i': 1, 'o': 1, 'u': 1}\n",
            "0.0015311241149902344\n"
          ]
        }
      ]
    },
    {
      "cell_type": "markdown",
      "source": [
        "###`Q-3:` Create a text file (using an editor, not necessarily Python) containing two tab separated columns, with each column containing a number. Then use Python to read through the file you’ve created. For each line, multiply each first number by the second and include it in the file in third column. In last add a line Total, by summing the value of third column\n",
        "\n"
      ],
      "metadata": {
        "id": "lRqQ2Y295-Gg"
      }
    },
    {
      "cell_type": "markdown",
      "source": [
        "Input File example: That you need to create\n",
        "```\n",
        "1   2\n",
        "3   4\n",
        "5   6\n",
        "7   8\n",
        "9   10\n",
        "\n",
        "```\n",
        "\n",
        "Output File Example:\n",
        "```\n",
        "1   2   2\n",
        "3   4   12\n",
        "5   6   30\n",
        "7   8   56\n",
        "9   10  90\n",
        "Total   190\n",
        "```\n"
      ],
      "metadata": {
        "id": "GtFfahZc6Bvg"
      }
    },
    {
      "cell_type": "code",
      "source": [
        "# write code here\n",
        "with open('exp.txt','w') as f:\n",
        "  f.write('1   2\\n3   4\\n5   6\\n7   8\\n9   10')\n",
        "with open('/content/exp.txt','r') as f:\n",
        "  line = f.readlines()\n",
        "l = []\n",
        "total = 0\n",
        "for i in line:\n",
        "  nums = i.strip()\n",
        "  nums.split('\\t')\n",
        "  num1= int(nums[0])\n",
        "  num2= int(nums[-2:])\n",
        "  product = num1 * num2\n",
        "  total += product\n",
        "  l.append(f\"{num1}\\t\\t{num2}\\t\\t{product}\\n\")\n",
        "l.append(f\"Total\\t{total}\")\n",
        "\n",
        "with open('out.txt','w') as f:\n",
        "  f.writelines(l)"
      ],
      "metadata": {
        "id": "GiKvqHnr5-j2"
      },
      "execution_count": null,
      "outputs": []
    },
    {
      "cell_type": "markdown",
      "source": [
        "###`Q-4:` Create line wise reverse of a file\n",
        "Write a function which takes two arguments: the names of the input file (to be read from) and the output file (which will be created)."
      ],
      "metadata": {
        "id": "DunQepHC6J9r"
      }
    },
    {
      "cell_type": "markdown",
      "source": [
        "For example, if a file looks like\n",
        " ```\n",
        "abc def\n",
        "ghi jkl\n",
        "```\n",
        "then the output file will be\n",
        "```\n",
        "fed cba\n",
        "lkj ihg\n",
        "```\n",
        "**Notice**: The newline remains at the end of the string, while the rest of the characters are all reversed."
      ],
      "metadata": {
        "id": "QxWEtFle6Nmu"
      }
    },
    {
      "cell_type": "code",
      "source": [
        "# write code here\n",
        "with open('/content/input.txt','w') as f:\n",
        "  f.write('abc def\\nghi jkl')\n",
        "\n",
        "def int_out_file(input_file,output_file):\n",
        "  with open(input_file,'r') as file:\n",
        "    read = file.readlines()\n",
        "    sp = [i.strip()[::-1]+'\\n' for i in read]\n",
        "\n",
        "  with open(output_file,'w') as file:\n",
        "    file.writelines(sp)\n",
        "\n",
        "input_file = '/content/input.txt'\n",
        "output_file = '/content/output.txt'\n",
        "int_out_file(input_file,output_file)"
      ],
      "metadata": {
        "id": "aIJTJNAq6LD7"
      },
      "execution_count": null,
      "outputs": []
    },
    {
      "cell_type": "markdown",
      "source": [
        "###`Q-5:` Create a Serialized dict of frequency of words in the file. And from given list of words, using serialized dict show word count.\n",
        "\n",
        "* List of word will be given\n",
        "\n"
      ],
      "metadata": {
        "id": "wqvx3sMY6bou"
      }
    },
    {
      "cell_type": "markdown",
      "source": [
        "Given String\n",
        "\n",
        "```\n",
        "strings = \"\"\"Alice was beginning to get very tired of sitting by her sister\n",
        "            on the bank, and of having nothing to do:  once or twice she had\n",
        "            peeped into the book her sister was reading, but it had no\n",
        "            pictures or conversations in it, `and what is the use of a book,'\n",
        "            thought Alice `without pictures or conversation?'\n",
        "\n",
        "            So she was considering in her own mind (as well as she could,\n",
        "            for the hot day made her feel very sleepy and stupid), whether\n",
        "            the pleasure of making a daisy-chain would be worth the trouble\n",
        "            of getting up and picking the daisies, when suddenly a White\n",
        "            Rabbit with pink eyes ran close by her.\n",
        "\n",
        "            There was nothing so VERY remarkable in that; nor did Alice\n",
        "            think it so VERY much out of the way to hear the Rabbit say to\n",
        "            itself, `Oh dear!  Oh dear!  I shall be late!'  (when she thought\n",
        "            it over afterwards, it occurred to her that she ought to have\n",
        "            wondered at this, but at the time it all seemed quite natural);\n",
        "            but when the Rabbit actually TOOK A WATCH OUT OF ITS WAISTCOAT-\n",
        "            POCKET, and looked at it, and then hurried on, Alice started to\n",
        "            her feet, for it flashed across her mind that she had never\n",
        "            before seen a rabbit with either a waistcoat-pocket, or a watch to\n",
        "            take out of it, and burning with curiosity, she ran across the\n",
        "            field after it, and fortunately was just in time to see it pop\n",
        "            down a large rabbit-hole under the hedge.\"\"\"\n",
        "\n",
        "word_list = ['alice', 'wonder', 'natural']\n",
        "```"
      ],
      "metadata": {
        "id": "uc5MSUWg6cZG"
      }
    },
    {
      "cell_type": "code",
      "source": [
        "# write code here\n",
        "import json\n",
        "from collections import Counter\n",
        "\n",
        "strings = \"\"\"Alice was beginning to get very tired of sitting by her sister\n",
        "            on the bank, and of having nothing to do:  once or twice she had\n",
        "            peeped into the book her sister was reading, but it had no\n",
        "            pictures or conversations in it, `and what is the use of a book,'\n",
        "            thought Alice `without pictures or conversation?'\n",
        "\n",
        "            So she was considering in her own mind (as well as she could,\n",
        "            for the hot day made her feel very sleepy and stupid), whether\n",
        "            the pleasure of making a daisy-chain would be worth the trouble\n",
        "            of getting up and picking the daisies, when suddenly a White\n",
        "            Rabbit with pink eyes ran close by her.\n",
        "\n",
        "            There was nothing so VERY remarkable in that; nor did Alice\n",
        "            think it so VERY much out of the way to hear the Rabbit say to\n",
        "            itself, `Oh dear!  Oh dear!  I shall be late!'  (when she thought\n",
        "            it over afterwards, it occurred to her that she ought to have\n",
        "            wondered at this, but at the time it all seemed quite natural);\n",
        "            but when the Rabbit actually TOOK A WATCH OUT OF ITS WAISTCOAT-\n",
        "            POCKET, and looked at it, and then hurried on, Alice started to\n",
        "            her feet, for it flashed across her mind that she had never\n",
        "            before seen a rabbit with either a waistcoat-pocket, or a watch to\n",
        "            take out of it, and burning with curiosity, she ran across the\n",
        "            field after it, and fortunately was just in time to see it pop\n",
        "            down a large rabbit-hole under the hedge.\"\"\"\n",
        "\n",
        "# word_list = ['alice', 'wonder', 'natural']\n",
        "# word = Counter(strings.split())\n",
        "# world_count = {wb:word[wb] for wb in word_list}\n",
        "# dic = json.dumps(world_count)\n",
        "# print(dic)\n",
        "\n",
        "# word_list = ['alice', 'wonder', 'natural']\n",
        "with open('strings.txt','w') as f:\n",
        "  f.write(strings)\n",
        "try:\n",
        "  d = {'alice':0, 'wonder':0, 'natural':0}\n",
        "  with open('strings.txt','r') as f:\n",
        "    line = f.read().lower()\n",
        "except Exception as e:\n",
        "  print(e)\n",
        "else:\n",
        "  for i in d:\n",
        "    d[i] = line.count(i)\n",
        "  print(d)\n"
      ],
      "metadata": {
        "id": "-SmtFFUq6a70",
        "colab": {
          "base_uri": "https://localhost:8080/"
        },
        "outputId": "f679daa7-9f32-46ea-ef62-fdb04cf97b84"
      },
      "execution_count": null,
      "outputs": [
        {
          "output_type": "stream",
          "name": "stdout",
          "text": [
            "{'alice': 4, 'wonder': 1, 'natural': 1}\n"
          ]
        }
      ]
    },
    {
      "cell_type": "code",
      "source": [],
      "metadata": {
        "id": "n-RLlq-wux-1"
      },
      "execution_count": null,
      "outputs": []
    },
    {
      "cell_type": "markdown",
      "source": [
        "### **`Q-6:`** Given a string calculate length of the string using recursion.\n",
        "\n",
        "**Example 1:**\n",
        "\n",
        "Input:\n",
        "```bash\n",
        "\"abcd\"\n",
        "```\n",
        "\n",
        "Output:\n",
        "\n",
        "```bash\n",
        "4\n",
        "```\n",
        "\n",
        "**Example 2:**\n",
        "\n",
        "Input:\n",
        "```bash\n",
        "DataScience\n",
        "```\n",
        "\n",
        "Output:\n",
        "\n",
        "```bash\n",
        "11\n",
        "```\n"
      ],
      "metadata": {
        "id": "Und2HuFW6kAw"
      }
    },
    {
      "cell_type": "code",
      "source": [
        "# Write code here\n",
        "def calculate(input_str):\n",
        "  if input_str == '':\n",
        "    return 0\n",
        "  else:\n",
        "    return 1 + calculate(input_str[1:])\n",
        "\n",
        "a = \"abcd\"\n",
        "print(calculate(a))\n",
        "b='DataScience'\n",
        "print(calculate(b))"
      ],
      "metadata": {
        "id": "9HE7lB5W61gT",
        "colab": {
          "base_uri": "https://localhost:8080/"
        },
        "outputId": "c817800f-4c79-43de-dbe9-e82ecdf8873a"
      },
      "execution_count": 2,
      "outputs": [
        {
          "output_type": "stream",
          "name": "stdout",
          "text": [
            "4\n",
            "11\n"
          ]
        }
      ]
    },
    {
      "cell_type": "markdown",
      "source": [
        "### **`Q-7:`** Write a function that accepts two numbers and returns their greatest common divisior. Without using any loop\n",
        "\n",
        "def gcd(int, int) => int\n",
        "\n",
        "```\n",
        "gcd(16,24) will give 8\n",
        "```"
      ],
      "metadata": {
        "id": "iUDvc-jl6759"
      }
    },
    {
      "cell_type": "code",
      "source": [
        "# Write code here\n",
        "def gcd(a:int,b:int):\n",
        "  if b == 0:\n",
        "    return a\n",
        "  else:\n",
        "    return gcd(b,b%a)\n",
        "print(gcd(16,24))"
      ],
      "metadata": {
        "id": "uMQnojHR7O2S",
        "colab": {
          "base_uri": "https://localhost:8080/"
        },
        "outputId": "beaaf611-212c-4c8b-de98-f7e546ba9e7e"
      },
      "execution_count": 3,
      "outputs": [
        {
          "output_type": "stream",
          "name": "stdout",
          "text": [
            "8\n"
          ]
        }
      ]
    },
    {
      "cell_type": "markdown",
      "source": [
        " ### `Q-8:` String Edit Distance\n",
        "\n",
        " Use your recursive function to write a program that reads two strings from the\n",
        "user and displays the edit distance between them.\n",
        "\n",
        "*The edit distance between two strings is a measure of their similarity—the smaller the edit distance, the more similar the strings are with regard to the minimum number of insert, delete and substitute operations needed to transform one string into the other.*\n",
        "\n",
        "Consider the strings `kitten` and `sitting`. The first string can be transformed\n",
        "into the second string with the following operations:\n",
        "* Substitute the `k` with an `s`,\n",
        "* substitute the `e` with an `i`,\n",
        "* and insert a `g` at the end of the string.\n",
        "\n",
        "This is the smallest number of operations that can be performed to transform kitten into sitting. As a result, the edit distance is `3`.\n",
        "\n",
        "\n",
        "Write a recursive function that computes the edit distance between two strings.\n",
        "\n",
        "Use the following algorithm:\n",
        "\n",
        "```\n",
        "Let s and t be the strings\n",
        "    If the length of s is 0 then\n",
        "        Return the length of t\n",
        "    Else if the length of t is 0 then\n",
        "        Return the length of s\n",
        "    Else\n",
        "        Set cost to 0\n",
        "        If the last character in s does not equal the last character in t then\n",
        "            Set cost to 1\n",
        "        Set d1 equal to the edit distance between all characters except the last one in s, and all characters in t, plus 1\n",
        "        Set d2 equal to the edit distance between all characters in s, and all characters except the last one in t, plus 1\n",
        "\n",
        "        Set d3 equal to the edit distance between all characters except the last one in s, and all characters except the last one in t, plus cost\n",
        "        Return the minimum of d1, d2 and d3\n",
        "```\n",
        "\n",
        "\n",
        "\n"
      ],
      "metadata": {
        "id": "wFD35fva7Q_B"
      }
    },
    {
      "cell_type": "code",
      "source": [
        "# write code here\n",
        "def edit_distance(s, t):\n",
        "    if len(s) == 0:\n",
        "        return len(t)\n",
        "    elif len(t) == 0:\n",
        "        return len(s)\n",
        "    else:\n",
        "        cost = 0\n",
        "        if s[-1] != t[-1]:\n",
        "            cost = 1\n",
        "\n",
        "        d1 = edit_distance(s[:-1], t) + 1  # Deletion\n",
        "        d2 = edit_distance(s, t[:-1]) + 1  # Insertion\n",
        "        d3 = edit_distance(s[:-1], t[:-1]) + cost  # Substitution\n",
        "\n",
        "        return min(d1, d2, d3)\n",
        "\n",
        "# Read two strings from the user\n",
        "s = input(\"Enter the first string: \")\n",
        "t = input(\"Enter the second string: \")\n",
        "\n",
        "# Calculate and display the edit distance\n",
        "result = edit_distance(s, t)\n",
        "print(f\"The edit distance between '{s}' and '{t}' is: {result}\")"
      ],
      "metadata": {
        "id": "zlNy_Q987QOX"
      },
      "execution_count": null,
      "outputs": []
    },
    {
      "cell_type": "markdown",
      "source": [
        "###`Q-9:` Run-Length Encoding\n",
        "\n",
        "Run-length encoding is a simple data compression technique that can be effective when repeated values occur at adjacent positions within a list. Compression is achieved by replacing groups of repeated values with one copy of the value, followed by the number of times that the value should be repeated. For example, the list\n",
        "```\n",
        "[\"A\", \"A\", \"A\", \"A\", \"A\", \"A\", \"A\", \"A\", \"A\", \"A\", \"A\", \"A\", \"B\", \"B\", \"B\", \"B\", \"A\", \"A\", \"A\", \"A\", \"A\", \"A\", \"B\"]\n",
        "```\n",
        "would be compressed as `[\"A\", 12, \"B\", 4, \"A\", 6, \"B\", 1]`.\n",
        "\n",
        "Write a recursive function that implements the run-length compression technique\n",
        "described above. Your function will take a list or a string as its only parameter. It should return the run-length compressed list as its only result. Include a main program that reads a string from the user, compresses it, and displays the run-length encoded result."
      ],
      "metadata": {
        "id": "Hc9e-qES7iAK"
      }
    },
    {
      "cell_type": "code",
      "source": [
        "# Write code here\n",
        "def compress(data):\n",
        "  if not data:\n",
        "    return []\n",
        "  else:\n",
        "    haad = data[0]\n",
        "    count = 1\n",
        "    while count < len(data) and data[count] == haad:\n",
        "      count += 1\n",
        "    return [haad,count] + compress(data[count:])\n",
        "\n",
        "l = [\"A\", \"A\", \"A\", \"A\", \"A\", \"A\", \"A\", \"A\", \"A\", \"A\", \"A\", \"A\", \"B\", \"B\", \"B\", \"B\", \"A\", \"A\", \"A\", \"A\", \"A\", \"A\", \"B\"]\n",
        "data = compress(l)\n",
        "print(data)"
      ],
      "metadata": {
        "id": "W2Wb_WzP7qM1",
        "colab": {
          "base_uri": "https://localhost:8080/"
        },
        "outputId": "30cb215b-5d79-4da4-9ec7-b17d60817bf5"
      },
      "execution_count": 8,
      "outputs": [
        {
          "output_type": "stream",
          "name": "stdout",
          "text": [
            "['A', 12, 'B', 4, 'A', 6, 'B', 1]\n"
          ]
        }
      ]
    },
    {
      "cell_type": "markdown",
      "source": [
        "###`Q-10:` Write a recursive function to convert a decimal to binary"
      ],
      "metadata": {
        "id": "x6A-4vGC8SLs"
      }
    },
    {
      "cell_type": "code",
      "source": [
        "# Write code here\n",
        "def convert(b):\n",
        "  if b == 0:\n",
        "    return 0\n",
        "  else:\n",
        "    return (b%2) + 10 * convert(b//2)\n",
        "\n",
        "print(convert(20))"
      ],
      "metadata": {
        "id": "izOr6D9V8aME",
        "colab": {
          "base_uri": "https://localhost:8080/"
        },
        "outputId": "13d050eb-e78f-4b8d-85f2-92dcf59484ce"
      },
      "execution_count": 9,
      "outputs": [
        {
          "output_type": "stream",
          "name": "stdout",
          "text": [
            "10100\n"
          ]
        }
      ]
    }
  ]
}