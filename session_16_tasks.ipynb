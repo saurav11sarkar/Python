{
  "nbformat": 4,
  "nbformat_minor": 0,
  "metadata": {
    "colab": {
      "provenance": [],
      "include_colab_link": true
    },
    "kernelspec": {
      "name": "python3",
      "display_name": "Python 3"
    },
    "language_info": {
      "name": "python"
    }
  },
  "cells": [
    {
      "cell_type": "markdown",
      "metadata": {
        "id": "view-in-github",
        "colab_type": "text"
      },
      "source": [
        "<a href=\"https://colab.research.google.com/github/saurav11sarkar/Python/blob/main/session_16_tasks.ipynb\" target=\"_parent\"><img src=\"https://colab.research.google.com/assets/colab-badge.svg\" alt=\"Open In Colab\"/></a>"
      ]
    },
    {
      "cell_type": "code",
      "execution_count": 114,
      "metadata": {
        "id": "zxrbXftDYalU"
      },
      "outputs": [],
      "source": [
        "import numpy as np\n",
        "import pandas as pd"
      ]
    },
    {
      "cell_type": "code",
      "source": [
        "from google.colab import drive\n",
        "drive.mount('/content/drive')"
      ],
      "metadata": {
        "colab": {
          "base_uri": "https://localhost:8080/"
        },
        "id": "jjAxWiPhtot2",
        "outputId": "ea898342-cae8-434b-8a61-7d910e4a77f8"
      },
      "execution_count": 115,
      "outputs": [
        {
          "output_type": "stream",
          "name": "stdout",
          "text": [
            "Drive already mounted at /content/drive; to attempt to forcibly remount, call drive.mount(\"/content/drive\", force_remount=True).\n"
          ]
        }
      ]
    },
    {
      "cell_type": "markdown",
      "source": [
        "###`Q-1:` Write a program to create an empty series."
      ],
      "metadata": {
        "id": "MetYTZJpYfdz"
      }
    },
    {
      "cell_type": "code",
      "source": [
        "# code here\n",
        "pd.Series([],dtype=int)"
      ],
      "metadata": {
        "id": "KUcgT935YgC5",
        "outputId": "ab43e34d-6571-4760-861b-04c3d8c8e40d",
        "colab": {
          "base_uri": "https://localhost:8080/"
        }
      },
      "execution_count": 116,
      "outputs": [
        {
          "output_type": "execute_result",
          "data": {
            "text/plain": [
              "Series([], dtype: int64)"
            ]
          },
          "metadata": {},
          "execution_count": 116
        }
      ]
    },
    {
      "cell_type": "markdown",
      "source": [
        "###`Q-2:` Write a Pandas program to add, subtract, multiple and divide two Pandas Series."
      ],
      "metadata": {
        "id": "jw5ybzU6YhOo"
      }
    },
    {
      "cell_type": "code",
      "source": [
        "# code here\n",
        "a = np.arange(1,11)\n",
        "b = np.arange(11,21)\n",
        "a = pd.Series(a)\n",
        "b = pd.Series(b)\n",
        "print(a + b)\n",
        "print(a - b)\n",
        "print(a * b)\n",
        "print(a / b)"
      ],
      "metadata": {
        "id": "EF3GgVFjYjwG",
        "outputId": "2672a5dc-9894-4802-a4d2-391faede9a31",
        "colab": {
          "base_uri": "https://localhost:8080/"
        }
      },
      "execution_count": 117,
      "outputs": [
        {
          "output_type": "stream",
          "name": "stdout",
          "text": [
            "0    12\n",
            "1    14\n",
            "2    16\n",
            "3    18\n",
            "4    20\n",
            "5    22\n",
            "6    24\n",
            "7    26\n",
            "8    28\n",
            "9    30\n",
            "dtype: int64\n",
            "0   -10\n",
            "1   -10\n",
            "2   -10\n",
            "3   -10\n",
            "4   -10\n",
            "5   -10\n",
            "6   -10\n",
            "7   -10\n",
            "8   -10\n",
            "9   -10\n",
            "dtype: int64\n",
            "0     11\n",
            "1     24\n",
            "2     39\n",
            "3     56\n",
            "4     75\n",
            "5     96\n",
            "6    119\n",
            "7    144\n",
            "8    171\n",
            "9    200\n",
            "dtype: int64\n",
            "0    0.090909\n",
            "1    0.166667\n",
            "2    0.230769\n",
            "3    0.285714\n",
            "4    0.333333\n",
            "5    0.375000\n",
            "6    0.411765\n",
            "7    0.444444\n",
            "8    0.473684\n",
            "9    0.500000\n",
            "dtype: float64\n"
          ]
        }
      ]
    },
    {
      "cell_type": "markdown",
      "source": [
        "###`Q-3` Write a Pandas program to compare the elements of the two Pandas Series.\n",
        "Sample Series: [2, 4, 6, 8, 10], [1, 3, 5, 7, 10]\n",
        "\n"
      ],
      "metadata": {
        "id": "TZDp25jeYlB6"
      }
    },
    {
      "cell_type": "code",
      "source": [
        "# code here\n",
        "x = pd.Series([2, 4, 6, 8, 10])\n",
        "y = pd.Series([1, 3, 5, 7, 10])\n",
        "compeier = x == y\n",
        "print(compeier)"
      ],
      "metadata": {
        "id": "gFNil8ruYp1y",
        "outputId": "b8de1b7d-18d1-4807-a7d5-1edb10afb422",
        "colab": {
          "base_uri": "https://localhost:8080/"
        }
      },
      "execution_count": 118,
      "outputs": [
        {
          "output_type": "stream",
          "name": "stdout",
          "text": [
            "0    False\n",
            "1    False\n",
            "2    False\n",
            "3    False\n",
            "4     True\n",
            "dtype: bool\n"
          ]
        }
      ]
    },
    {
      "cell_type": "markdown",
      "source": [
        "###`Q-5.`Write a function to change the data type of given a column or a Series. Function takes series and data type as input, returns the converted series.\n",
        "```\n",
        "series = pd.Series([1,2,'Python', 2.0, True, 100])\n",
        "change to float type data\n",
        "```\n",
        "Note: Read about pd.to_numeric()"
      ],
      "metadata": {
        "id": "HlOBn_N6YrZz"
      }
    },
    {
      "cell_type": "code",
      "source": [
        "# code here\n",
        "def converted(series,types):\n",
        "  sr = pd.to_numeric(series,errors='coerce').astype(types)\n",
        "  return sr\n",
        "\n",
        "series = pd.Series([1,2,'Python', 2.0, True, 100])\n",
        "converted(series,float)\n"
      ],
      "metadata": {
        "id": "_SWQJCUJYwXm",
        "outputId": "d725e9ae-2683-44b8-8ee3-a3e188a22a74",
        "colab": {
          "base_uri": "https://localhost:8080/"
        }
      },
      "execution_count": 119,
      "outputs": [
        {
          "output_type": "execute_result",
          "data": {
            "text/plain": [
              "0      1.0\n",
              "1      2.0\n",
              "2      NaN\n",
              "3      2.0\n",
              "4      1.0\n",
              "5    100.0\n",
              "dtype: float64"
            ]
          },
          "metadata": {},
          "execution_count": 119
        }
      ]
    },
    {
      "cell_type": "markdown",
      "source": [
        "Download data - https://drive.google.com/file/d/1LRhXwbEodeWXtzPhJCX0X9Lf_BECzvqb/view?usp=share_link\n",
        "All Batsman runs series in IPL 2008 to 2022.\n",
        "\n",
        "Below questions are based on this data."
      ],
      "metadata": {
        "id": "PGp3OqRIY0Va"
      }
    },
    {
      "cell_type": "markdown",
      "source": [
        "###`Q-6` Find top 10 most run getter from the series."
      ],
      "metadata": {
        "id": "TxFkp-L4Y23d"
      }
    },
    {
      "cell_type": "code",
      "source": [
        "# code here\n",
        "run = pd.read_csv('/content/drive/MyDrive/Compasx/Data Science Mentorship Program/dataset/datasets-session-16/batsman_runs_series.csv',squeeze=True)"
      ],
      "metadata": {
        "id": "muBgocA6Y2Bg",
        "colab": {
          "base_uri": "https://localhost:8080/"
        },
        "outputId": "cd1133ea-61bc-43a2-c17a-5260186b87f7"
      },
      "execution_count": 120,
      "outputs": [
        {
          "output_type": "stream",
          "name": "stderr",
          "text": [
            "<ipython-input-120-7fd159b1c8a1>:2: FutureWarning: The squeeze argument has been deprecated and will be removed in a future version. Append .squeeze(\"columns\") to the call to squeeze.\n",
            "\n",
            "\n",
            "  run = pd.read_csv('/content/drive/MyDrive/Compasx/Data Science Mentorship Program/dataset/datasets-session-16/batsman_runs_series.csv',squeeze=True)\n"
          ]
        }
      ]
    },
    {
      "cell_type": "code",
      "source": [
        "run.isnull().sum()"
      ],
      "metadata": {
        "colab": {
          "base_uri": "https://localhost:8080/"
        },
        "id": "3fSGUqUDxKIo",
        "outputId": "43c6c94d-27de-46f5-f017-534ec18f3a5a"
      },
      "execution_count": 121,
      "outputs": [
        {
          "output_type": "execute_result",
          "data": {
            "text/plain": [
              "batter         0\n",
              "batsman_run    0\n",
              "dtype: int64"
            ]
          },
          "metadata": {},
          "execution_count": 121
        }
      ]
    },
    {
      "cell_type": "code",
      "source": [
        "run.value_counts()"
      ],
      "metadata": {
        "colab": {
          "base_uri": "https://localhost:8080/"
        },
        "id": "Yjuxmrg9uUja",
        "outputId": "e40cea9e-ef3c-4b29-a4dc-9e9866a39206"
      },
      "execution_count": 122,
      "outputs": [
        {
          "output_type": "execute_result",
          "data": {
            "text/plain": [
              "batter          batsman_run\n",
              "A Ashish Reddy  280            1\n",
              "PSP Handscomb   6              1\n",
              "PVD Chameera    43             1\n",
              "PWH de Silva    39             1\n",
              "Pankaj Singh    7              1\n",
              "                              ..\n",
              "I Udana         15             1\n",
              "IC Pandey       0              1\n",
              "IK Pathan       1150           1\n",
              "IR Jaggi        76             1\n",
              "Z Khan          117            1\n",
              "Length: 605, dtype: int64"
            ]
          },
          "metadata": {},
          "execution_count": 122
        }
      ]
    },
    {
      "cell_type": "code",
      "source": [
        "badman_run = run['batsman_run']\n",
        "r = badman_run.sort_values(ascending=False)\n",
        "r.head(10)"
      ],
      "metadata": {
        "colab": {
          "base_uri": "https://localhost:8080/"
        },
        "id": "qECRXAQqwHm7",
        "outputId": "dba7bd19-a260-44b2-ba43-b8bbece9cbd6"
      },
      "execution_count": 123,
      "outputs": [
        {
          "output_type": "execute_result",
          "data": {
            "text/plain": [
              "569    6634\n",
              "462    6244\n",
              "130    5883\n",
              "430    5881\n",
              "493    5536\n",
              "27     5181\n",
              "108    4997\n",
              "339    4978\n",
              "452    4954\n",
              "256    4377\n",
              "Name: batsman_run, dtype: int64"
            ]
          },
          "metadata": {},
          "execution_count": 123
        }
      ]
    },
    {
      "cell_type": "markdown",
      "source": [
        "###`Q-7` No of players having runs above 3000"
      ],
      "metadata": {
        "id": "GzlCFBM_Y83g"
      }
    },
    {
      "cell_type": "code",
      "source": [
        "# code here\n",
        "run[badman_run > 3000].size"
      ],
      "metadata": {
        "id": "JdNchHRWY1B-",
        "colab": {
          "base_uri": "https://localhost:8080/"
        },
        "outputId": "73fb8b53-256c-4d08-93db-3b07d066b8c4"
      },
      "execution_count": 124,
      "outputs": [
        {
          "output_type": "execute_result",
          "data": {
            "text/plain": [
              "40"
            ]
          },
          "metadata": {},
          "execution_count": 124
        }
      ]
    },
    {
      "cell_type": "markdown",
      "source": [
        "###`Q-8` No of players having runs above mean value?"
      ],
      "metadata": {
        "id": "pMBEoCL1Y-vh"
      }
    },
    {
      "cell_type": "code",
      "source": [
        "run.shape"
      ],
      "metadata": {
        "colab": {
          "base_uri": "https://localhost:8080/"
        },
        "id": "Usv97Av6_as5",
        "outputId": "d6e61ab8-6f56-4eee-abf2-18a3bac29bd1"
      },
      "execution_count": 160,
      "outputs": [
        {
          "output_type": "execute_result",
          "data": {
            "text/plain": [
              "(605, 2)"
            ]
          },
          "metadata": {},
          "execution_count": 160
        }
      ]
    },
    {
      "cell_type": "code",
      "source": [
        "# code here\n",
        "batman_mean = badman_run.mean()\n",
        "run[badman_run > batman_mean].size"
      ],
      "metadata": {
        "id": "LgtViVFZZBIu",
        "colab": {
          "base_uri": "https://localhost:8080/"
        },
        "outputId": "b06ed55f-781a-4930-e26c-88af0be8149b"
      },
      "execution_count": 162,
      "outputs": [
        {
          "output_type": "execute_result",
          "data": {
            "text/plain": [
              "256"
            ]
          },
          "metadata": {},
          "execution_count": 162
        }
      ]
    },
    {
      "cell_type": "markdown",
      "source": [
        "Download data - https://drive.google.com/file/d/1QZuZ5bypUInfVvarHACLAi8tXXHvb8xd/view?usp=share_link\n",
        "\n",
        "file name - items.csv\n",
        "\n"
      ],
      "metadata": {
        "id": "OAB1CgdgZEqE"
      }
    },
    {
      "cell_type": "markdown",
      "source": [
        "###`Q-9`\n",
        "    i. Read `items.csv` making `item_name` as index.\n",
        "    ii. Show no of nan values\n",
        "    ii. Item price is given in $, so convert it to rupees without currency symbol.\n",
        "    iii. Make data type of newly made series as float.\n",
        "    iv. Fill nan with mean of the series\n",
        "\n",
        "\n",
        "How csv file looks\n",
        "\n",
        "```\n",
        "item_name\titem_price\n",
        "Chips and Fresh Tomato Salsa\t$2.39\n",
        "Izze\t$3.39\n",
        "Nantucket Nectar\t$3.39\n",
        "Chips and Tomatillo-Green Chili Salsa\t$2.39\n",
        "Chicken Bowl\t$16.98\n",
        "\n",
        "```"
      ],
      "metadata": {
        "id": "1UTQQImxZGLu"
      }
    },
    {
      "cell_type": "code",
      "source": [
        "# code here\n",
        "item = pd.read_csv('/content/drive/MyDrive/Compasx/Data Science Mentorship Program/dataset/datasets-session-16/items.csv',index_col='item_name')"
      ],
      "metadata": {
        "id": "1xaWkoMJZFNK"
      },
      "execution_count": 137,
      "outputs": []
    },
    {
      "cell_type": "code",
      "source": [
        "item.shape"
      ],
      "metadata": {
        "colab": {
          "base_uri": "https://localhost:8080/"
        },
        "id": "-xkOviV50xHX",
        "outputId": "2cee0c10-6fed-4405-e488-d70aba3264fe"
      },
      "execution_count": 138,
      "outputs": [
        {
          "output_type": "execute_result",
          "data": {
            "text/plain": [
              "(4622, 1)"
            ]
          },
          "metadata": {},
          "execution_count": 138
        }
      ]
    },
    {
      "cell_type": "code",
      "source": [
        "item.head()"
      ],
      "metadata": {
        "colab": {
          "base_uri": "https://localhost:8080/",
          "height": 237
        },
        "id": "sdrNdRrA0sS3",
        "outputId": "347139fb-3d59-46f3-b125-3f8ab9a5de4f"
      },
      "execution_count": 139,
      "outputs": [
        {
          "output_type": "execute_result",
          "data": {
            "text/plain": [
              "                                      item_price\n",
              "item_name                                       \n",
              "Chips and Fresh Tomato Salsa              $2.39 \n",
              "Izze                                      $3.39 \n",
              "Nantucket Nectar                          $3.39 \n",
              "Chips and Tomatillo-Green Chili Salsa     $2.39 \n",
              "Chicken Bowl                             $16.98 "
            ],
            "text/html": [
              "\n",
              "  <div id=\"df-dbe01331-4bdd-436f-aa60-4cae08c115aa\" class=\"colab-df-container\">\n",
              "    <div>\n",
              "<style scoped>\n",
              "    .dataframe tbody tr th:only-of-type {\n",
              "        vertical-align: middle;\n",
              "    }\n",
              "\n",
              "    .dataframe tbody tr th {\n",
              "        vertical-align: top;\n",
              "    }\n",
              "\n",
              "    .dataframe thead th {\n",
              "        text-align: right;\n",
              "    }\n",
              "</style>\n",
              "<table border=\"1\" class=\"dataframe\">\n",
              "  <thead>\n",
              "    <tr style=\"text-align: right;\">\n",
              "      <th></th>\n",
              "      <th>item_price</th>\n",
              "    </tr>\n",
              "    <tr>\n",
              "      <th>item_name</th>\n",
              "      <th></th>\n",
              "    </tr>\n",
              "  </thead>\n",
              "  <tbody>\n",
              "    <tr>\n",
              "      <th>Chips and Fresh Tomato Salsa</th>\n",
              "      <td>$2.39</td>\n",
              "    </tr>\n",
              "    <tr>\n",
              "      <th>Izze</th>\n",
              "      <td>$3.39</td>\n",
              "    </tr>\n",
              "    <tr>\n",
              "      <th>Nantucket Nectar</th>\n",
              "      <td>$3.39</td>\n",
              "    </tr>\n",
              "    <tr>\n",
              "      <th>Chips and Tomatillo-Green Chili Salsa</th>\n",
              "      <td>$2.39</td>\n",
              "    </tr>\n",
              "    <tr>\n",
              "      <th>Chicken Bowl</th>\n",
              "      <td>$16.98</td>\n",
              "    </tr>\n",
              "  </tbody>\n",
              "</table>\n",
              "</div>\n",
              "    <div class=\"colab-df-buttons\">\n",
              "\n",
              "  <div class=\"colab-df-container\">\n",
              "    <button class=\"colab-df-convert\" onclick=\"convertToInteractive('df-dbe01331-4bdd-436f-aa60-4cae08c115aa')\"\n",
              "            title=\"Convert this dataframe to an interactive table.\"\n",
              "            style=\"display:none;\">\n",
              "\n",
              "  <svg xmlns=\"http://www.w3.org/2000/svg\" height=\"24px\" viewBox=\"0 -960 960 960\">\n",
              "    <path d=\"M120-120v-720h720v720H120Zm60-500h600v-160H180v160Zm220 220h160v-160H400v160Zm0 220h160v-160H400v160ZM180-400h160v-160H180v160Zm440 0h160v-160H620v160ZM180-180h160v-160H180v160Zm440 0h160v-160H620v160Z\"/>\n",
              "  </svg>\n",
              "    </button>\n",
              "\n",
              "  <style>\n",
              "    .colab-df-container {\n",
              "      display:flex;\n",
              "      gap: 12px;\n",
              "    }\n",
              "\n",
              "    .colab-df-convert {\n",
              "      background-color: #E8F0FE;\n",
              "      border: none;\n",
              "      border-radius: 50%;\n",
              "      cursor: pointer;\n",
              "      display: none;\n",
              "      fill: #1967D2;\n",
              "      height: 32px;\n",
              "      padding: 0 0 0 0;\n",
              "      width: 32px;\n",
              "    }\n",
              "\n",
              "    .colab-df-convert:hover {\n",
              "      background-color: #E2EBFA;\n",
              "      box-shadow: 0px 1px 2px rgba(60, 64, 67, 0.3), 0px 1px 3px 1px rgba(60, 64, 67, 0.15);\n",
              "      fill: #174EA6;\n",
              "    }\n",
              "\n",
              "    .colab-df-buttons div {\n",
              "      margin-bottom: 4px;\n",
              "    }\n",
              "\n",
              "    [theme=dark] .colab-df-convert {\n",
              "      background-color: #3B4455;\n",
              "      fill: #D2E3FC;\n",
              "    }\n",
              "\n",
              "    [theme=dark] .colab-df-convert:hover {\n",
              "      background-color: #434B5C;\n",
              "      box-shadow: 0px 1px 3px 1px rgba(0, 0, 0, 0.15);\n",
              "      filter: drop-shadow(0px 1px 2px rgba(0, 0, 0, 0.3));\n",
              "      fill: #FFFFFF;\n",
              "    }\n",
              "  </style>\n",
              "\n",
              "    <script>\n",
              "      const buttonEl =\n",
              "        document.querySelector('#df-dbe01331-4bdd-436f-aa60-4cae08c115aa button.colab-df-convert');\n",
              "      buttonEl.style.display =\n",
              "        google.colab.kernel.accessAllowed ? 'block' : 'none';\n",
              "\n",
              "      async function convertToInteractive(key) {\n",
              "        const element = document.querySelector('#df-dbe01331-4bdd-436f-aa60-4cae08c115aa');\n",
              "        const dataTable =\n",
              "          await google.colab.kernel.invokeFunction('convertToInteractive',\n",
              "                                                    [key], {});\n",
              "        if (!dataTable) return;\n",
              "\n",
              "        const docLinkHtml = 'Like what you see? Visit the ' +\n",
              "          '<a target=\"_blank\" href=https://colab.research.google.com/notebooks/data_table.ipynb>data table notebook</a>'\n",
              "          + ' to learn more about interactive tables.';\n",
              "        element.innerHTML = '';\n",
              "        dataTable['output_type'] = 'display_data';\n",
              "        await google.colab.output.renderOutput(dataTable, element);\n",
              "        const docLink = document.createElement('div');\n",
              "        docLink.innerHTML = docLinkHtml;\n",
              "        element.appendChild(docLink);\n",
              "      }\n",
              "    </script>\n",
              "  </div>\n",
              "\n",
              "\n",
              "<div id=\"df-e03897e8-b209-40bb-a8ac-bf59fc0d2832\">\n",
              "  <button class=\"colab-df-quickchart\" onclick=\"quickchart('df-e03897e8-b209-40bb-a8ac-bf59fc0d2832')\"\n",
              "            title=\"Suggest charts\"\n",
              "            style=\"display:none;\">\n",
              "\n",
              "<svg xmlns=\"http://www.w3.org/2000/svg\" height=\"24px\"viewBox=\"0 0 24 24\"\n",
              "     width=\"24px\">\n",
              "    <g>\n",
              "        <path d=\"M19 3H5c-1.1 0-2 .9-2 2v14c0 1.1.9 2 2 2h14c1.1 0 2-.9 2-2V5c0-1.1-.9-2-2-2zM9 17H7v-7h2v7zm4 0h-2V7h2v10zm4 0h-2v-4h2v4z\"/>\n",
              "    </g>\n",
              "</svg>\n",
              "  </button>\n",
              "\n",
              "<style>\n",
              "  .colab-df-quickchart {\n",
              "      --bg-color: #E8F0FE;\n",
              "      --fill-color: #1967D2;\n",
              "      --hover-bg-color: #E2EBFA;\n",
              "      --hover-fill-color: #174EA6;\n",
              "      --disabled-fill-color: #AAA;\n",
              "      --disabled-bg-color: #DDD;\n",
              "  }\n",
              "\n",
              "  [theme=dark] .colab-df-quickchart {\n",
              "      --bg-color: #3B4455;\n",
              "      --fill-color: #D2E3FC;\n",
              "      --hover-bg-color: #434B5C;\n",
              "      --hover-fill-color: #FFFFFF;\n",
              "      --disabled-bg-color: #3B4455;\n",
              "      --disabled-fill-color: #666;\n",
              "  }\n",
              "\n",
              "  .colab-df-quickchart {\n",
              "    background-color: var(--bg-color);\n",
              "    border: none;\n",
              "    border-radius: 50%;\n",
              "    cursor: pointer;\n",
              "    display: none;\n",
              "    fill: var(--fill-color);\n",
              "    height: 32px;\n",
              "    padding: 0;\n",
              "    width: 32px;\n",
              "  }\n",
              "\n",
              "  .colab-df-quickchart:hover {\n",
              "    background-color: var(--hover-bg-color);\n",
              "    box-shadow: 0 1px 2px rgba(60, 64, 67, 0.3), 0 1px 3px 1px rgba(60, 64, 67, 0.15);\n",
              "    fill: var(--button-hover-fill-color);\n",
              "  }\n",
              "\n",
              "  .colab-df-quickchart-complete:disabled,\n",
              "  .colab-df-quickchart-complete:disabled:hover {\n",
              "    background-color: var(--disabled-bg-color);\n",
              "    fill: var(--disabled-fill-color);\n",
              "    box-shadow: none;\n",
              "  }\n",
              "\n",
              "  .colab-df-spinner {\n",
              "    border: 2px solid var(--fill-color);\n",
              "    border-color: transparent;\n",
              "    border-bottom-color: var(--fill-color);\n",
              "    animation:\n",
              "      spin 1s steps(1) infinite;\n",
              "  }\n",
              "\n",
              "  @keyframes spin {\n",
              "    0% {\n",
              "      border-color: transparent;\n",
              "      border-bottom-color: var(--fill-color);\n",
              "      border-left-color: var(--fill-color);\n",
              "    }\n",
              "    20% {\n",
              "      border-color: transparent;\n",
              "      border-left-color: var(--fill-color);\n",
              "      border-top-color: var(--fill-color);\n",
              "    }\n",
              "    30% {\n",
              "      border-color: transparent;\n",
              "      border-left-color: var(--fill-color);\n",
              "      border-top-color: var(--fill-color);\n",
              "      border-right-color: var(--fill-color);\n",
              "    }\n",
              "    40% {\n",
              "      border-color: transparent;\n",
              "      border-right-color: var(--fill-color);\n",
              "      border-top-color: var(--fill-color);\n",
              "    }\n",
              "    60% {\n",
              "      border-color: transparent;\n",
              "      border-right-color: var(--fill-color);\n",
              "    }\n",
              "    80% {\n",
              "      border-color: transparent;\n",
              "      border-right-color: var(--fill-color);\n",
              "      border-bottom-color: var(--fill-color);\n",
              "    }\n",
              "    90% {\n",
              "      border-color: transparent;\n",
              "      border-bottom-color: var(--fill-color);\n",
              "    }\n",
              "  }\n",
              "</style>\n",
              "\n",
              "  <script>\n",
              "    async function quickchart(key) {\n",
              "      const quickchartButtonEl =\n",
              "        document.querySelector('#' + key + ' button');\n",
              "      quickchartButtonEl.disabled = true;  // To prevent multiple clicks.\n",
              "      quickchartButtonEl.classList.add('colab-df-spinner');\n",
              "      try {\n",
              "        const charts = await google.colab.kernel.invokeFunction(\n",
              "            'suggestCharts', [key], {});\n",
              "      } catch (error) {\n",
              "        console.error('Error during call to suggestCharts:', error);\n",
              "      }\n",
              "      quickchartButtonEl.classList.remove('colab-df-spinner');\n",
              "      quickchartButtonEl.classList.add('colab-df-quickchart-complete');\n",
              "    }\n",
              "    (() => {\n",
              "      let quickchartButtonEl =\n",
              "        document.querySelector('#df-e03897e8-b209-40bb-a8ac-bf59fc0d2832 button');\n",
              "      quickchartButtonEl.style.display =\n",
              "        google.colab.kernel.accessAllowed ? 'block' : 'none';\n",
              "    })();\n",
              "  </script>\n",
              "</div>\n",
              "\n",
              "    </div>\n",
              "  </div>\n"
            ]
          },
          "metadata": {},
          "execution_count": 139
        }
      ]
    },
    {
      "cell_type": "code",
      "source": [
        "item.isnull().sum()"
      ],
      "metadata": {
        "colab": {
          "base_uri": "https://localhost:8080/"
        },
        "id": "9i3ZxqsO1CZN",
        "outputId": "cada2b5e-b502-4d61-9fb0-dc13760492a8"
      },
      "execution_count": 140,
      "outputs": [
        {
          "output_type": "execute_result",
          "data": {
            "text/plain": [
              "item_price    50\n",
              "dtype: int64"
            ]
          },
          "metadata": {},
          "execution_count": 140
        }
      ]
    },
    {
      "cell_type": "code",
      "source": [
        "item.columns"
      ],
      "metadata": {
        "colab": {
          "base_uri": "https://localhost:8080/"
        },
        "id": "cy4srjiA36I4",
        "outputId": "c04588f8-2800-474c-f820-a080ddac54db"
      },
      "execution_count": 143,
      "outputs": [
        {
          "output_type": "execute_result",
          "data": {
            "text/plain": [
              "Index(['item_price'], dtype='object')"
            ]
          },
          "metadata": {},
          "execution_count": 143
        }
      ]
    },
    {
      "cell_type": "code",
      "source": [
        "item_rup = item['item_price'].str.replace('$','').astype(float) * 82.83\n",
        "item.fillna(item_rup.mean(),inplace=True)\n",
        "item.isnull().sum()"
      ],
      "metadata": {
        "colab": {
          "base_uri": "https://localhost:8080/"
        },
        "id": "YYBaA-IF1g0i",
        "outputId": "d0d9d3f4-309e-4a1c-d73e-856640874cf5"
      },
      "execution_count": 146,
      "outputs": [
        {
          "output_type": "stream",
          "name": "stderr",
          "text": [
            "<ipython-input-146-b9e04ed8a76f>:1: FutureWarning: The default value of regex will change from True to False in a future version. In addition, single character regular expressions will *not* be treated as literal strings when regex=True.\n",
            "  item_rup = item['item_price'].str.replace('$','').astype(float) * 82.83\n"
          ]
        },
        {
          "output_type": "execute_result",
          "data": {
            "text/plain": [
              "item_price    0\n",
              "dtype: int64"
            ]
          },
          "metadata": {},
          "execution_count": 146
        }
      ]
    },
    {
      "cell_type": "code",
      "source": [
        "item_rup"
      ],
      "metadata": {
        "colab": {
          "base_uri": "https://localhost:8080/"
        },
        "id": "ZO7MK7Ez6Wom",
        "outputId": "cbd59cf0-b447-49b2-a059-8e68688f7ba5"
      },
      "execution_count": 147,
      "outputs": [
        {
          "output_type": "execute_result",
          "data": {
            "text/plain": [
              "item_name\n",
              "Chips and Fresh Tomato Salsa              197.9637\n",
              "Izze                                      280.7937\n",
              "Nantucket Nectar                          280.7937\n",
              "Chips and Tomatillo-Green Chili Salsa     197.9637\n",
              "Chicken Bowl                             1406.4534\n",
              "                                           ...    \n",
              "Steak Burrito                             973.2525\n",
              "Steak Burrito                             973.2525\n",
              "Chicken Salad Bowl                        931.8375\n",
              "Chicken Salad Bowl                        724.7625\n",
              "Chicken Salad Bowl                        724.7625\n",
              "Name: item_price, Length: 4622, dtype: float64"
            ]
          },
          "metadata": {},
          "execution_count": 147
        }
      ]
    },
    {
      "cell_type": "markdown",
      "source": [
        "###`Q-10`:\n",
        "    i. Find mean price\n",
        "    ii. Find 30th and 6th percentile value\n",
        "    iii. Plot Histogram on price with bin size 50\n",
        "    iv. No of items price lies between [1000 to 2000]\n",
        "\n"
      ],
      "metadata": {
        "id": "UHc_4e9cZK8r"
      }
    },
    {
      "cell_type": "code",
      "source": [
        "item_rup.mean()"
      ],
      "metadata": {
        "colab": {
          "base_uri": "https://localhost:8080/"
        },
        "id": "QfYRV2le8hRx",
        "outputId": "65b1695a-a213-41ab-d5d8-8d5cef9015c9"
      },
      "execution_count": 150,
      "outputs": [
        {
          "output_type": "execute_result",
          "data": {
            "text/plain": [
              "618.1628988188976"
            ]
          },
          "metadata": {},
          "execution_count": 150
        }
      ]
    },
    {
      "cell_type": "code",
      "source": [
        "# code here\n",
        "percentile_30 = item_rup.quantile(0.3)\n",
        "percentile_6 = item_rup.quantile(0.06)"
      ],
      "metadata": {
        "id": "Eh3xX9FpZNmE"
      },
      "execution_count": 153,
      "outputs": []
    },
    {
      "cell_type": "code",
      "source": [
        "item_rup.plot(kind='hist',bins=50)"
      ],
      "metadata": {
        "colab": {
          "base_uri": "https://localhost:8080/",
          "height": 447
        },
        "id": "KmAdn0lb9uTS",
        "outputId": "5f834121-341e-4d56-947c-5aa1c311ed7f"
      },
      "execution_count": 155,
      "outputs": [
        {
          "output_type": "execute_result",
          "data": {
            "text/plain": [
              "<Axes: ylabel='Frequency'>"
            ]
          },
          "metadata": {},
          "execution_count": 155
        },
        {
          "output_type": "display_data",
          "data": {
            "text/plain": [
              "<Figure size 640x480 with 1 Axes>"
            ],
            "image/png": "[encoded data removed]"
          },
          "metadata": {}
        }
      ]
    },
    {
      "cell_type": "code",
      "source": [
        "item_rup.between(1000,2000).sum()"
      ],
      "metadata": {
        "colab": {
          "base_uri": "https://localhost:8080/"
        },
        "id": "BMYmnqjl-cDd",
        "outputId": "8f5d7503-4ca2-4edc-9c88-c5b5cc9e1495"
      },
      "execution_count": 159,
      "outputs": [
        {
          "output_type": "execute_result",
          "data": {
            "text/plain": [
              "116"
            ]
          },
          "metadata": {},
          "execution_count": 159
        }
      ]
    },
    {
      "cell_type": "code",
      "source": [],
      "metadata": {
        "id": "AZBHSYOt--uN"
      },
      "execution_count": null,
      "outputs": []
    }
  ]
}