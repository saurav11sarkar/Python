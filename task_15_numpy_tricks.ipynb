{
  "nbformat": 4,
  "nbformat_minor": 0,
  "metadata": {
    "colab": {
      "provenance": [],
      "include_colab_link": true
    },
    "kernelspec": {
      "name": "python3",
      "display_name": "Python 3"
    },
    "language_info": {
      "name": "python"
    }
  },
  "cells": [
    {
      "cell_type": "markdown",
      "metadata": {
        "id": "view-in-github",
        "colab_type": "text"
      },
      "source": [
        "<a href=\"https://colab.research.google.com/github/saurav11sarkar/Python/blob/main/task_15_numpy_tricks.ipynb\" target=\"_parent\"><img src=\"https://colab.research.google.com/assets/colab-badge.svg\" alt=\"Open In Colab\"/></a>"
      ]
    },
    {
      "cell_type": "markdown",
      "source": [
        "###`Q-1:` Create a random 3x4 matrix with value between 0-100. And perform below tasks\n",
        "\n",
        "    i. Sort this matrix. np.sort()\n",
        "    ii. Sort this matrix based on values in 2nd column.\n",
        "    iii. Sort this matrix based on max value in each row.\n",
        "    iv. Sort based on elements value.\n"
      ],
      "metadata": {
        "id": "J88qfqQEk_sT"
      }
    },
    {
      "cell_type": "markdown",
      "source": [
        "See examples:\n",
        "```\n",
        "arr =\n",
        "    [[92 90 74]\n",
        "    [ 6 63 93]\n",
        "    [15 93 96]\n",
        "    [70 60 48]]\n",
        "```\n",
        "```\n",
        "i. np.sort\n",
        "[[74 90 92]\n",
        " [ 6 63 93]\n",
        " [15 93 96]\n",
        " [48 60 70]]\n",
        "\n",
        "ii. based on 2nd column\n",
        "[[70 60 48]\n",
        " [ 6 63 93]\n",
        " [92 90 74]\n",
        " [15 93 96]]\n",
        "\n",
        "iii. based on row max- ascending\n",
        "[[15 93 96]\n",
        " [ 6 63 93]\n",
        " [92 90 74]\n",
        " [70 60 48]]\n",
        "\n",
        "iv. based on elements value\n",
        "[[ 6 15 48]\n",
        " [60 63 70]\n",
        " [74 90 92]\n",
        " [93 93 96]]\n",
        "\n",
        "```"
      ],
      "metadata": {
        "id": "xpOwOdhqlE9R"
      }
    },
    {
      "cell_type": "code",
      "source": [
        "# code here\n",
        "import numpy as np\n",
        "a = np.random.randint(0,100,12).reshape(3,4)\n",
        "print(a)\n",
        "np.sort(a)"
      ],
      "metadata": {
        "id": "Auy-guUwlALv",
        "colab": {
          "base_uri": "https://localhost:8080/"
        },
        "outputId": "07591f03-3c2f-4574-bfc8-7c67571286d5"
      },
      "execution_count": null,
      "outputs": [
        {
          "output_type": "stream",
          "name": "stdout",
          "text": [
            "[[19 33 67 65]\n",
            " [48 31 40 87]\n",
            " [64  5 70 85]]\n"
          ]
        },
        {
          "output_type": "execute_result",
          "data": {
            "text/plain": [
              "array([[19, 33, 65, 67],\n",
              "       [31, 40, 48, 87],\n",
              "       [ 5, 64, 70, 85]])"
            ]
          },
          "metadata": {},
          "execution_count": 20
        }
      ]
    },
    {
      "cell_type": "code",
      "source": [
        "a[a[:,1].argsort()]"
      ],
      "metadata": {
        "colab": {
          "base_uri": "https://localhost:8080/"
        },
        "id": "SRGW6-L1k1EJ",
        "outputId": "dee71f9b-95c4-43fb-f665-563e56c3c36d"
      },
      "execution_count": null,
      "outputs": [
        {
          "output_type": "execute_result",
          "data": {
            "text/plain": [
              "array([[64,  5, 70, 85],\n",
              "       [48, 31, 40, 87],\n",
              "       [19, 33, 67, 65]])"
            ]
          },
          "metadata": {},
          "execution_count": 21
        }
      ]
    },
    {
      "cell_type": "code",
      "source": [
        "a[np.flip(a.max(axis=1).argsort())]"
      ],
      "metadata": {
        "colab": {
          "base_uri": "https://localhost:8080/"
        },
        "id": "knwZH_tgnTZ4",
        "outputId": "8bd764d0-e078-4db2-cf6a-c44c4526bbd7"
      },
      "execution_count": null,
      "outputs": [
        {
          "output_type": "execute_result",
          "data": {
            "text/plain": [
              "array([[48, 31, 40, 87],\n",
              "       [64,  5, 70, 85],\n",
              "       [19, 33, 67, 65]])"
            ]
          },
          "metadata": {},
          "execution_count": 26
        }
      ]
    },
    {
      "cell_type": "markdown",
      "source": [
        "###`Q-2:` There is an array of marks of 5 students in 4 subjects. Further you are asked to perform below task.\n",
        "    i. Add marks every student of an extra subject in the same array.\n",
        "    ii. Add two new students marks in respective 5 subjects.(one subject added in above task)\n",
        "    iii. Add extra column with sum of all subjects(5-subjects) marks\n",
        "    iv. Sort the array(non-ascending order) on total marks column--one added in above task. Show top 2 rows.\n",
        "\n",
        "Note: Change dimension of arrays during concatenation or appending if required."
      ],
      "metadata": {
        "id": "Jx_I3gx9lBay"
      }
    },
    {
      "cell_type": "markdown",
      "source": [
        "Given Array-\n",
        "```\n",
        "marks = [[13, 10,  9, 33],\n",
        "       [63, 46, 90, 42],\n",
        "       [39, 76, 13, 29],\n",
        "       [82,  9, 29, 78],\n",
        "       [67, 61, 59, 36]]\n",
        "\n",
        "extra_subject = [41, 87, 72, 36, 92]\n",
        "#Two extra students record-\n",
        "rec1 = [77, 83, 98, 95, 89]\n",
        "rec2 = [92, 71, 52, 61, 53]\n",
        "```"
      ],
      "metadata": {
        "id": "lXF-CE6ylNIw"
      }
    },
    {
      "cell_type": "code",
      "source": [
        "# code here\n",
        "marks = np.array([[13, 10,  9, 33],\n",
        "       [63, 46, 90, 42],\n",
        "       [39, 76, 13, 29],\n",
        "       [82,  9, 29, 78],\n",
        "       [67, 61, 59, 36]])\n",
        "x = np.array([41, 87, 72, 36, 92])\n",
        "marks = np.column_stack((marks,x))\n",
        "marks"
      ],
      "metadata": {
        "id": "7YKsWO2olMkq",
        "colab": {
          "base_uri": "https://localhost:8080/"
        },
        "outputId": "9fcd0b69-d636-4a2a-8b0e-3a17c8b18c1b"
      },
      "execution_count": null,
      "outputs": [
        {
          "output_type": "execute_result",
          "data": {
            "text/plain": [
              "array([[13, 10,  9, 33, 41],\n",
              "       [63, 46, 90, 42, 87],\n",
              "       [39, 76, 13, 29, 72],\n",
              "       [82,  9, 29, 78, 36],\n",
              "       [67, 61, 59, 36, 92]])"
            ]
          },
          "metadata": {},
          "execution_count": 50
        }
      ]
    },
    {
      "cell_type": "code",
      "source": [
        "x1 = np.array([77,83,98,95,89])\n",
        "x2 = np.array([92,93,99,95,88])\n",
        "\n",
        "marks = np.vstack((marks,x1,x2))\n",
        "marks"
      ],
      "metadata": {
        "colab": {
          "base_uri": "https://localhost:8080/"
        },
        "id": "E43WYMEhshBU",
        "outputId": "88dfb9d5-912d-4ea1-da8b-7bc5f7cd089d"
      },
      "execution_count": null,
      "outputs": [
        {
          "output_type": "execute_result",
          "data": {
            "text/plain": [
              "array([[13, 10,  9, 33, 43],\n",
              "       [63, 46, 90, 42, 45],\n",
              "       [39, 76, 13, 29, 67],\n",
              "       [82,  9, 29, 78, 89],\n",
              "       [67, 61, 59, 36, 90],\n",
              "       [77, 83, 98, 95, 89],\n",
              "       [92, 93, 99, 95, 88]])"
            ]
          },
          "metadata": {},
          "execution_count": 39
        }
      ]
    },
    {
      "cell_type": "code",
      "source": [
        "marks = np.column_stack((marks,marks.sum(axis=1)))\n",
        "marks"
      ],
      "metadata": {
        "colab": {
          "base_uri": "https://localhost:8080/"
        },
        "id": "S7h_3TLUtQa0",
        "outputId": "9aa7b1bd-b0ce-4adb-9141-3530ca7cd5db"
      },
      "execution_count": null,
      "outputs": [
        {
          "output_type": "execute_result",
          "data": {
            "text/plain": [
              "array([[ 13,  10,   9,  33,  43, 108, 216],\n",
              "       [ 63,  46,  90,  42,  45, 286, 572],\n",
              "       [ 39,  76,  13,  29,  67, 224, 448],\n",
              "       [ 82,   9,  29,  78,  89, 287, 574],\n",
              "       [ 67,  61,  59,  36,  90, 313, 626],\n",
              "       [ 77,  83,  98,  95,  89, 442, 884],\n",
              "       [ 92,  93,  99,  95,  88, 467, 934]])"
            ]
          },
          "metadata": {},
          "execution_count": 46
        }
      ]
    },
    {
      "cell_type": "code",
      "source": [
        "marks[marks[:,-1].argsort()[::-1][:2]]"
      ],
      "metadata": {
        "colab": {
          "base_uri": "https://localhost:8080/"
        },
        "id": "qsKnwDUgvpY4",
        "outputId": "1afb18a1-2f52-4b93-c38b-a4e235fe2e87"
      },
      "execution_count": null,
      "outputs": [
        {
          "output_type": "execute_result",
          "data": {
            "text/plain": [
              "array([[ 92,  93,  99,  95,  88, 467, 934],\n",
              "       [ 77,  83,  98,  95,  89, 442, 884]])"
            ]
          },
          "metadata": {},
          "execution_count": 49
        }
      ]
    },
    {
      "cell_type": "markdown",
      "source": [
        "###`Q-3:` Find unique arrays from a 2D array column wise and row wise.\n",
        "```\n",
        "arr = np.array([[1,2,3,3,1,1],\n",
        "                [0,9,1,2,8,8],\n",
        "                [1,2,3,8,8,8],\n",
        "                [1,2,3,3,1,1]])\n",
        "```\n",
        "Expected Result-\n",
        "```\n",
        "Row Wise\n",
        "[[0 9 1 2 8 8]\n",
        " [1 2 3 3 1 1]\n",
        " [1 2 3 8 8 8]]\n",
        "\n",
        "Col Wise\n",
        "[[1 1 2 3 3]\n",
        " [0 8 9 1 2]\n",
        " [1 8 2 3 8]\n",
        " [1 1 2 3 3]]\n",
        "```"
      ],
      "metadata": {
        "id": "VmOyK_8klRqR"
      }
    },
    {
      "cell_type": "code",
      "source": [
        "# code here\n",
        "import numpy as np\n",
        "arr = np.array([[1,2,3,3,1,1],\n",
        "                [0,9,1,2,8,8],\n",
        "                [1,2,3,8,8,8],\n",
        "                [1,2,3,3,1,1]])\n",
        "print(np.unique(arr,axis=1))\n",
        "print(np.unique(arr,axis=0))"
      ],
      "metadata": {
        "id": "LJl10VQrlU5q",
        "colab": {
          "base_uri": "https://localhost:8080/"
        },
        "outputId": "af644f3d-1f67-43c3-e2fc-33dcfb162221"
      },
      "execution_count": 3,
      "outputs": [
        {
          "output_type": "stream",
          "name": "stdout",
          "text": [
            "[[1 1 2 3 3]\n",
            " [0 8 9 1 2]\n",
            " [1 8 2 3 8]\n",
            " [1 1 2 3 3]]\n",
            "[[0 9 1 2 8 8]\n",
            " [1 2 3 3 1 1]\n",
            " [1 2 3 8 8 8]]\n"
          ]
        }
      ]
    },
    {
      "cell_type": "markdown",
      "source": [
        "###`Q-4:` Flip given 2-D array along both axes at the same time."
      ],
      "metadata": {
        "id": "RaXwVkywlWY2"
      }
    },
    {
      "cell_type": "code",
      "source": [
        "# code here\n",
        "a = np.arange(1,17).reshape(8,2)\n",
        "a\n",
        "np.flip(a)"
      ],
      "metadata": {
        "id": "mN7-4G8Kleeq",
        "colab": {
          "base_uri": "https://localhost:8080/"
        },
        "outputId": "01e27704-d7d9-4e6c-a242-57dbbf2c2ff0"
      },
      "execution_count": 8,
      "outputs": [
        {
          "output_type": "execute_result",
          "data": {
            "text/plain": [
              "array([[16, 15],\n",
              "       [14, 13],\n",
              "       [12, 11],\n",
              "       [10,  9],\n",
              "       [ 8,  7],\n",
              "       [ 6,  5],\n",
              "       [ 4,  3],\n",
              "       [ 2,  1]])"
            ]
          },
          "metadata": {},
          "execution_count": 8
        }
      ]
    },
    {
      "cell_type": "markdown",
      "source": [
        "### `Q-5:` Get row numbers of NumPy array having element larger than X.\n",
        "```\n",
        "arr = [[1,2,3,4,5],\n",
        "      [10,-3,30,4,5],\n",
        "      [3,2,5,-4,5],\n",
        "      [9,7,3,6,5]]\n",
        "\n",
        "X = 6\n",
        "```"
      ],
      "metadata": {
        "id": "X0S7BUNTlfoq"
      }
    },
    {
      "cell_type": "code",
      "source": [
        "# code here\n",
        "arr = np.array([[1,2,3,4,5],\n",
        "      [10,-3,30,4,5],\n",
        "      [3,2,5,-4,5],\n",
        "      [9,7,3,6,5]])\n",
        "x = 6\n",
        "np.where(np.any(arr>x,axis=1))[0]"
      ],
      "metadata": {
        "id": "bi8jRmWhlkBU",
        "colab": {
          "base_uri": "https://localhost:8080/"
        },
        "outputId": "323baefc-8f1d-45ce-a95e-7ed9ee564d3e"
      },
      "execution_count": 11,
      "outputs": [
        {
          "output_type": "execute_result",
          "data": {
            "text/plain": [
              "array([1, 3])"
            ]
          },
          "metadata": {},
          "execution_count": 11
        }
      ]
    },
    {
      "cell_type": "markdown",
      "source": [
        "### `Q-6:` How to convert an array of arrays into a flat 1d array?\n"
      ],
      "metadata": {
        "id": "DSCQMo4mlnDG"
      }
    },
    {
      "cell_type": "markdown",
      "source": [
        "# These arrays are given.\n"
      ],
      "metadata": {
        "id": "QZhSkUT2lsJW"
      }
    },
    {
      "cell_type": "code",
      "source": [
        "# code here\n",
        "arr1 = np.arange(3)\n",
        "arr2 = np.arange(3,7)\n",
        "arr3 = np.arange(7,10)\n",
        "np.concatenate((arr1,arr2,arr3))"
      ],
      "metadata": {
        "id": "f42OXNrFls0I",
        "colab": {
          "base_uri": "https://localhost:8080/"
        },
        "outputId": "b5d944ac-268e-477e-ade8-8daa6f42a020"
      },
      "execution_count": 17,
      "outputs": [
        {
          "output_type": "execute_result",
          "data": {
            "text/plain": [
              "array([0, 1, 2, 3, 4, 5, 6, 7, 8, 9])"
            ]
          },
          "metadata": {},
          "execution_count": 17
        }
      ]
    },
    {
      "cell_type": "markdown",
      "source": [
        "### `Q-7:` You are given a array. You have to find the minimum and maximum array element and remove that from the array.\n",
        "\n",
        "```python\n",
        "import numpy as np\n",
        "\n",
        "np.random.seed(400)\n",
        "arr = np.random.randint(100, 1000, 200).reshape((1, 200))\n",
        "```"
      ],
      "metadata": {
        "id": "A1J4oOVCluqO"
      }
    },
    {
      "cell_type": "code",
      "source": [
        "# code here\n",
        "np.random.seed(400)\n",
        "arr = np.random.randint(100,1000,200).reshape((1,200))\n",
        "arr[arr != np.min(arr)]\n",
        "arr[arr != np.max(arr)]"
      ],
      "metadata": {
        "id": "c6kmgtUJlybZ",
        "colab": {
          "base_uri": "https://localhost:8080/"
        },
        "outputId": "f9875578-4248-46b8-c57e-7af0faa959d7"
      },
      "execution_count": 22,
      "outputs": [
        {
          "output_type": "execute_result",
          "data": {
            "text/plain": [
              "array([448, 563, 418, 240, 507, 362, 345, 236, 719, 291, 298, 639, 458,\n",
              "       387, 262, 613, 267, 882, 181, 425, 790, 635, 889, 818, 872, 967,\n",
              "       277, 470, 336, 920, 917, 295, 557, 830, 506, 385, 353, 975, 592,\n",
              "       997, 137, 340, 222, 215, 472, 459, 617, 649, 935, 956, 914, 932,\n",
              "       645, 952, 921, 490, 527, 972, 278, 307, 840, 958, 246, 449, 251,\n",
              "       957, 103, 627, 920, 824, 356, 825, 173, 323, 372, 960, 710, 464,\n",
              "       244, 782, 763, 635, 436, 774, 171, 469, 178, 458, 624, 211, 771,\n",
              "       270, 308, 231, 952, 514, 699, 702, 433, 900, 373, 318, 265, 503,\n",
              "       320, 230, 324, 922, 967, 620, 743, 527, 117, 566, 804, 123, 946,\n",
              "       587, 227, 853, 757, 944, 328, 855, 930, 325, 729, 426, 514, 296,\n",
              "       879, 575, 936, 705, 209, 191, 743, 510, 513, 628, 559, 658, 528,\n",
              "       395, 525, 922, 136, 496, 225, 895, 975, 263, 908, 420, 711, 800,\n",
              "       976, 786, 235, 930, 859, 618, 226, 695, 460, 218, 483, 490, 803,\n",
              "       621, 453, 193, 607, 677, 637, 728, 724, 534, 748, 291, 194, 761,\n",
              "       875, 687, 569, 228, 482, 781, 554, 654, 739, 885, 197, 266, 228,\n",
              "       892, 207, 883, 588])"
            ]
          },
          "metadata": {},
          "execution_count": 22
        }
      ]
    },
    {
      "cell_type": "markdown",
      "source": [
        "### `Q-8:` You are given an arrays. You have to limit this array's elements between 100 to 200. $arr ∈ [100, 700]$. So replace those values accordingly with the minimum and maximum value. Then sort the array and perform the cumulative sum of that array."
      ],
      "metadata": {
        "id": "0dHN1sdnl0Jy"
      }
    },
    {
      "cell_type": "code",
      "source": [
        "# code here\n",
        "arr = np.random.randint(100,700,10)\n",
        "arr[arr < 100] = 100\n",
        "arr[arr > 200] = 200\n",
        "a = np.sort(arr)\n",
        "a"
      ],
      "metadata": {
        "id": "a3YF_E-Hlza7",
        "colab": {
          "base_uri": "https://localhost:8080/"
        },
        "outputId": "10e4d9a2-b433-474b-d840-2f078c43afa2"
      },
      "execution_count": 31,
      "outputs": [
        {
          "output_type": "execute_result",
          "data": {
            "text/plain": [
              "array([103, 110, 129, 197, 200, 200, 200, 200, 200, 200])"
            ]
          },
          "metadata": {},
          "execution_count": 31
        }
      ]
    },
    {
      "cell_type": "code",
      "source": [
        "np.cumsum(a)"
      ],
      "metadata": {
        "colab": {
          "base_uri": "https://localhost:8080/"
        },
        "id": "FPg_mBLBtOUm",
        "outputId": "fec204ff-3eb7-463b-f48d-e96a444f42fa"
      },
      "execution_count": 32,
      "outputs": [
        {
          "output_type": "execute_result",
          "data": {
            "text/plain": [
              "array([ 103,  213,  342,  539,  739,  939, 1139, 1339, 1539, 1739])"
            ]
          },
          "metadata": {},
          "execution_count": 32
        }
      ]
    },
    {
      "cell_type": "markdown",
      "source": [
        "### `Q-9:` You are given a array ($arr ∈ [0, 1]$). First you have round off the elements upto 3 decimal places and compare that\n",
        "- 0th percentile == minimum value of the array\n",
        "- 100th percentile == maximum value of the array\n",
        "- also find the difference betwen 51th percenile and 50th percentile values"
      ],
      "metadata": {
        "id": "cXj90Susl4-I"
      }
    },
    {
      "cell_type": "code",
      "source": [
        "# code here\n",
        "arr = np.random.rand(10)\n",
        "arr = np.round(arr,3)\n",
        "arr\n",
        "mimi = np.percentile(arr,0)\n",
        "maxi = np.percentile(arr,100)\n",
        "p50 = np.percentile(arr,50)\n",
        "p51 = np.percentile(arr,51)\n",
        "diff = p51 - p50\n",
        "diff"
      ],
      "metadata": {
        "id": "SgBEHodgl7Lo",
        "colab": {
          "base_uri": "https://localhost:8080/"
        },
        "outputId": "75f02473-febb-4241-94ce-d79f9fe50966"
      },
      "execution_count": 39,
      "outputs": [
        {
          "output_type": "execute_result",
          "data": {
            "text/plain": [
              "0.0027000000000000357"
            ]
          },
          "metadata": {},
          "execution_count": 39
        }
      ]
    },
    {
      "cell_type": "code",
      "source": [
        "import numpy as np\n",
        "\n",
        "arr = np.random.rand(10)\n",
        "arr = np.round(arr, 3)\n",
        "\n",
        "min_val = np.percentile(arr, 0)\n",
        "max_val = np.percentile(arr, 100)\n",
        "p50_val = np.percentile(arr, 50)\n",
        "p51_val = np.percentile(arr, 51)\n",
        "\n",
        "diff = p51_val - p50_val\n",
        "\n",
        "print(f\"Rounded array: {arr}\")\n",
        "print(f\"Minimum value: {min_val}\")\n",
        "print(f\"Maximum value: {max_val}\")\n",
        "print(f\"Difference between 51st and 50th percentiles: {diff}\")\n"
      ],
      "metadata": {
        "colab": {
          "base_uri": "https://localhost:8080/"
        },
        "id": "eOt94DftuTTP",
        "outputId": "7a7cb611-6d2b-4b7b-ae53-454e9baabf91"
      },
      "execution_count": 38,
      "outputs": [
        {
          "output_type": "stream",
          "name": "stdout",
          "text": [
            "Rounded array: [0.564 0.074 0.449 0.519 0.63  0.066 0.11  0.768 0.229 0.715]\n",
            "Minimum value: 0.066\n",
            "Maximum value: 0.768\n",
            "Difference between 51st and 50th percentiles: 0.006300000000000028\n"
          ]
        }
      ]
    },
    {
      "cell_type": "code",
      "source": [],
      "metadata": {
        "id": "6maTyYfBu8k7"
      },
      "execution_count": null,
      "outputs": []
    }
  ]
}