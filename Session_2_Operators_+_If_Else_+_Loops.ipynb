{
  "nbformat": 4,
  "nbformat_minor": 0,
  "metadata": {
    "colab": {
      "provenance": []
    },
    "kernelspec": {
      "name": "python3",
      "display_name": "Python 3"
    },
    "language_info": {
      "name": "python"
    }
  },
  "cells": [
    {
      "cell_type": "markdown",
      "source": [
        "Operators in Python"
      ],
      "metadata": {
        "id": "jwxkAs7SSa61"
      }
    },
    {
      "cell_type": "code",
      "source": [
        "# Arithemtric Oprerators\n",
        "print(5+7)\n",
        "print(5-7)\n",
        "print(5*7)\n",
        "print(5/2)\n",
        "print(5//2)\n",
        "print(5%2)\n",
        "print(5**2)"
      ],
      "metadata": {
        "colab": {
          "base_uri": "https://localhost:8080/"
        },
        "id": "8aFDCKn9UIu1",
        "outputId": "0894c8b1-1a3c-4cfa-9061-a193a01fc8d8"
      },
      "execution_count": null,
      "outputs": [
        {
          "output_type": "stream",
          "name": "stdout",
          "text": [
            "12\n",
            "-2\n",
            "35\n",
            "2.5\n",
            "2\n",
            "1\n",
            "25\n"
          ]
        }
      ]
    },
    {
      "cell_type": "code",
      "source": [
        "# Relational Operators\n",
        "print(4>5)\n",
        "print(4<5)\n",
        "print(4>=5)\n",
        "print(4<=4)\n",
        "print(4==5)\n",
        "print(4!=5)"
      ],
      "metadata": {
        "colab": {
          "base_uri": "https://localhost:8080/"
        },
        "id": "2hRxjJWLUf8t",
        "outputId": "4d8790eb-e1ea-4928-879e-76b57967d004"
      },
      "execution_count": null,
      "outputs": [
        {
          "output_type": "stream",
          "name": "stdout",
          "text": [
            "False\n",
            "True\n",
            "False\n",
            "True\n",
            "False\n",
            "True\n"
          ]
        }
      ]
    },
    {
      "cell_type": "code",
      "source": [
        "# Logical Operators true(1),false(0)\n",
        "print(1 and 0)\n",
        "print(1 or 0)\n",
        "print(not 1)"
      ],
      "metadata": {
        "colab": {
          "base_uri": "https://localhost:8080/"
        },
        "id": "I5_N9PN0VELm",
        "outputId": "393e3847-6b21-4103-e78a-dfad7be8fbcc"
      },
      "execution_count": null,
      "outputs": [
        {
          "output_type": "stream",
          "name": "stdout",
          "text": [
            "0\n",
            "1\n",
            "False\n"
          ]
        }
      ]
    },
    {
      "cell_type": "code",
      "source": [
        "# Botwise operators\n",
        "# Botwise or\n",
        "print(2 & 3)\n",
        "# Botwise or\n",
        "print(2 | 3)\n",
        "# Botwise xor\n",
        "print(2 ^ 3)\n",
        "# Botwise nor\n",
        "print(~3)\n",
        "# Botwise left\n",
        "print(4>>2)\n",
        "# Botwise right\n",
        "print(4<<2)"
      ],
      "metadata": {
        "colab": {
          "base_uri": "https://localhost:8080/"
        },
        "id": "eycIpCr4VZDn",
        "outputId": "f95f2979-eb27-4817-c7aa-ff6377e943e1"
      },
      "execution_count": null,
      "outputs": [
        {
          "output_type": "stream",
          "name": "stdout",
          "text": [
            "2\n",
            "3\n",
            "1\n",
            "-4\n",
            "1\n",
            "16\n"
          ]
        }
      ]
    },
    {
      "cell_type": "code",
      "source": [
        "# Assignment Operators a = a+2\n",
        "a = 2\n",
        "a += 2\n",
        "print(a)\n",
        "a -= 2\n",
        "print(a)\n",
        "a *= 2\n",
        "print(a)\n",
        "a /= 2\n",
        "print(a)\n",
        "a %= 2\n",
        "print(a)"
      ],
      "metadata": {
        "colab": {
          "base_uri": "https://localhost:8080/"
        },
        "id": "eTCnix-jVyOV",
        "outputId": "54188176-7dee-496d-d612-7feb989df3ca"
      },
      "execution_count": null,
      "outputs": [
        {
          "output_type": "stream",
          "name": "stdout",
          "text": [
            "4\n",
            "2\n",
            "4\n",
            "2.0\n",
            "0.0\n"
          ]
        }
      ]
    },
    {
      "cell_type": "code",
      "source": [
        "# Membership Operators\n",
        "print('D' in \"Delhi\")\n",
        "print('D' not in \"Delhi\")\n",
        "print(1 not in [2,3,4,5,6])"
      ],
      "metadata": {
        "colab": {
          "base_uri": "https://localhost:8080/"
        },
        "id": "XuF5dRV0Y7dx",
        "outputId": "32558e77-c976-4441-be9f-f180de3240da"
      },
      "execution_count": null,
      "outputs": [
        {
          "output_type": "stream",
          "name": "stdout",
          "text": [
            "True\n",
            "False\n",
            "True\n"
          ]
        }
      ]
    },
    {
      "cell_type": "code",
      "source": [
        "# program - Find the sum of 3 digit number by the useser\n",
        "a = int(input('Enter 3 digit number : '))\n",
        "\n",
        "number = a % 10 #123%10 = 3\n",
        "b = a//10 #123//10 = 12\n",
        "temp = b % 10 #12%10 = 2\n",
        "c = b // 10 #12//10 = 1\n",
        "\n",
        "print('sum =',c+temp+number)"
      ],
      "metadata": {
        "colab": {
          "base_uri": "https://localhost:8080/"
        },
        "id": "poGGB1QyZlmM",
        "outputId": "3680e712-5731-48b7-d4e9-050431e01392"
      },
      "execution_count": null,
      "outputs": [
        {
          "output_type": "stream",
          "name": "stdout",
          "text": [
            "Enter 3 digit number : 123\n",
            "sum = 6\n"
          ]
        }
      ]
    },
    {
      "cell_type": "markdown",
      "source": [
        "If-else-elif in python"
      ],
      "metadata": {
        "id": "098HLHotbg5t"
      }
    },
    {
      "cell_type": "code",
      "source": [
        "email = input(\"Enter email : \")\n",
        "password = input(\"Enter password : \")\n",
        "\n",
        "if email == 'saurav@gmail.com' and password == '1234':\n",
        "  print(\"Wellcome\")\n",
        "elif email == 'saurav@gmail.com':\n",
        "  print(\"Right email\")\n",
        "elif password == '1234':\n",
        "  print('Right password')\n",
        "else:\n",
        "  print('Worng email and password')\n"
      ],
      "metadata": {
        "colab": {
          "base_uri": "https://localhost:8080/"
        },
        "id": "pnhTVrz5fX6v",
        "outputId": "5e70739f-3539-456d-afae-7c9a9a7824a8"
      },
      "execution_count": null,
      "outputs": [
        {
          "output_type": "stream",
          "name": "stdout",
          "text": [
            "Enter email : sarkarsaurav100\n",
            "Enter password : 12345\n",
            "Worng email and password\n"
          ]
        }
      ]
    },
    {
      "cell_type": "code",
      "source": [
        "email = input(\"Enter email : \")\n",
        "password = input(\"Enter password : \")\n",
        "\n",
        "if email == 'saurav@gmail.com' and password == '1234':\n",
        "  print(\"Wellcome\")\n",
        "elif email == 'saurav@gmail.com' and password != '1234':\n",
        "  print(\"Right email but worng password\")\n",
        "  password = input(\"Enter password : \")\n",
        "  if password == '1234':\n",
        "    print('Wellcome finally')\n",
        "  else:\n",
        "    print('Again fall')\n",
        "else:\n",
        "  print('Worng email and password')"
      ],
      "metadata": {
        "colab": {
          "base_uri": "https://localhost:8080/"
        },
        "id": "33KXqqqEgrxe",
        "outputId": "6a940059-afe2-4b7a-d493-b27660c88a64"
      },
      "execution_count": null,
      "outputs": [
        {
          "output_type": "stream",
          "name": "stdout",
          "text": [
            "Enter email : sar\n",
            "Enter password : 12345\n",
            "Worng email and password\n"
          ]
        }
      ]
    },
    {
      "cell_type": "code",
      "source": [
        "# min of 3 number\n",
        "a = int(input('First number : '))\n",
        "b = int(input('Second number : '))\n",
        "c = int(input('Third number : '))\n",
        "\n",
        "if a < b and a < c:\n",
        "  print('Smaller is',a)\n",
        "elif b<c:\n",
        "  print('smaller is',b)\n",
        "else:\n",
        "  print('smaller is',c)"
      ],
      "metadata": {
        "id": "7Oluad3Ajpmj",
        "colab": {
          "base_uri": "https://localhost:8080/"
        },
        "outputId": "ab85dd46-3ad8-4f35-d625-94b949e3e8bc"
      },
      "execution_count": null,
      "outputs": [
        {
          "output_type": "stream",
          "name": "stdout",
          "text": [
            "First number : 2\n",
            "Second number : 3\n",
            "Third number : 2\n",
            "smaller is 2\n"
          ]
        }
      ]
    },
    {
      "cell_type": "code",
      "source": [
        "# munu driven calcutor\n",
        "fnum = int(input('Enter the 1st number : '))\n",
        "lnum = int(input('Enter the 2nd number : '))\n",
        "\n",
        "op = input('Enter the opration : ')\n",
        "\n",
        "if op == '+':\n",
        "  print(fnum + lnum)\n",
        "elif op == '-':\n",
        "  print(fnum - lnum)\n",
        "elif op == '*':\n",
        "  print(fnum * lnum)\n",
        "elif op == '/':\n",
        "  print(fnum / lnum)\n",
        "else:\n",
        "  print('Worng opration')"
      ],
      "metadata": {
        "colab": {
          "base_uri": "https://localhost:8080/"
        },
        "id": "bJJdv3yA8bb9",
        "outputId": "8ec69d7d-45e6-4a9d-f180-f8f2af0fa9dc"
      },
      "execution_count": null,
      "outputs": [
        {
          "output_type": "stream",
          "name": "stdout",
          "text": [
            "Enter the 1st number : 23\n",
            "Enter the 2nd number : 56\n",
            "Enter the opration : -\n",
            "-33\n"
          ]
        }
      ]
    },
    {
      "cell_type": "markdown",
      "source": [
        "Modules in Python"
      ],
      "metadata": {
        "id": "2nxEihqG91OQ"
      }
    },
    {
      "cell_type": "code",
      "source": [
        "# math\n",
        "import math\n",
        "math.factorial(5)\n",
        "math.floor(6.8)\n",
        "math.sqrt(123)"
      ],
      "metadata": {
        "colab": {
          "base_uri": "https://localhost:8080/"
        },
        "id": "ZnDx3gfC-6Bz",
        "outputId": "69ca2d64-b243-49a3-fc45-508365bde8ea"
      },
      "execution_count": null,
      "outputs": [
        {
          "output_type": "execute_result",
          "data": {
            "text/plain": [
              "11.090536506409418"
            ]
          },
          "metadata": {},
          "execution_count": 12
        }
      ]
    },
    {
      "cell_type": "code",
      "source": [
        "# keyword\n",
        "import keyword\n",
        "print(keyword.kwlist)"
      ],
      "metadata": {
        "colab": {
          "base_uri": "https://localhost:8080/"
        },
        "id": "_kblW8ZO_s7y",
        "outputId": "866bd53b-4eb4-4aaf-aa7f-2a9b02de8c44"
      },
      "execution_count": null,
      "outputs": [
        {
          "output_type": "stream",
          "name": "stdout",
          "text": [
            "['False', 'None', 'True', 'and', 'as', 'assert', 'async', 'await', 'break', 'class', 'continue', 'def', 'del', 'elif', 'else', 'except', 'finally', 'for', 'from', 'global', 'if', 'import', 'in', 'is', 'lambda', 'nonlocal', 'not', 'or', 'pass', 'raise', 'return', 'try', 'while', 'with', 'yield']\n"
          ]
        }
      ]
    },
    {
      "cell_type": "code",
      "source": [
        "# random\n",
        "import random\n",
        "print(random.randint(1,10))"
      ],
      "metadata": {
        "colab": {
          "base_uri": "https://localhost:8080/"
        },
        "id": "--CjIucdALif",
        "outputId": "8b5e58e5-d8fa-4e99-e698-04f91620ac4a"
      },
      "execution_count": null,
      "outputs": [
        {
          "output_type": "stream",
          "name": "stdout",
          "text": [
            "4\n"
          ]
        }
      ]
    },
    {
      "cell_type": "code",
      "source": [
        "# datatime\n",
        "import datetime\n",
        "print(datetime.datetime.now())"
      ],
      "metadata": {
        "colab": {
          "base_uri": "https://localhost:8080/"
        },
        "id": "on980n2gAXnn",
        "outputId": "683b7313-bc9f-4436-b652-54147960e850"
      },
      "execution_count": null,
      "outputs": [
        {
          "output_type": "stream",
          "name": "stdout",
          "text": [
            "2023-12-24 13:37:58.278712\n"
          ]
        }
      ]
    },
    {
      "cell_type": "code",
      "source": [
        "# help\n",
        "help('for')"
      ],
      "metadata": {
        "colab": {
          "base_uri": "https://localhost:8080/"
        },
        "id": "Dfey-ucgAmjY",
        "outputId": "38d299bf-0040-47f2-9409-58ccfbb06b13"
      },
      "execution_count": null,
      "outputs": [
        {
          "output_type": "stream",
          "name": "stdout",
          "text": [
            "The \"for\" statement\n",
            "*******************\n",
            "\n",
            "The \"for\" statement is used to iterate over the elements of a sequence\n",
            "(such as a string, tuple or list) or other iterable object:\n",
            "\n",
            "   for_stmt ::= \"for\" target_list \"in\" expression_list \":\" suite\n",
            "                [\"else\" \":\" suite]\n",
            "\n",
            "The expression list is evaluated once; it should yield an iterable\n",
            "object.  An iterator is created for the result of the\n",
            "\"expression_list\".  The suite is then executed once for each item\n",
            "provided by the iterator, in the order returned by the iterator.  Each\n",
            "item in turn is assigned to the target list using the standard rules\n",
            "for assignments (see Assignment statements), and then the suite is\n",
            "executed.  When the items are exhausted (which is immediately when the\n",
            "sequence is empty or an iterator raises a \"StopIteration\" exception),\n",
            "the suite in the \"else\" clause, if present, is executed, and the loop\n",
            "terminates.\n",
            "\n",
            "A \"break\" statement executed in the first suite terminates the loop\n",
            "without executing the \"else\" clause’s suite.  A \"continue\" statement\n",
            "executed in the first suite skips the rest of the suite and continues\n",
            "with the next item, or with the \"else\" clause if there is no next\n",
            "item.\n",
            "\n",
            "The for-loop makes assignments to the variables in the target list.\n",
            "This overwrites all previous assignments to those variables including\n",
            "those made in the suite of the for-loop:\n",
            "\n",
            "   for i in range(10):\n",
            "       print(i)\n",
            "       i = 5             # this will not affect the for-loop\n",
            "                         # because i will be overwritten with the next\n",
            "                         # index in the range\n",
            "\n",
            "Names in the target list are not deleted when the loop is finished,\n",
            "but if the sequence is empty, they will not have been assigned to at\n",
            "all by the loop.  Hint: the built-in type \"range()\" represents\n",
            "immutable arithmetic sequences of integers. For instance, iterating\n",
            "\"range(3)\" successively yields 0, 1, and then 2.\n",
            "\n",
            "Related help topics: break, continue, while\n",
            "\n"
          ]
        }
      ]
    },
    {
      "cell_type": "markdown",
      "source": [
        "Loop in Python"
      ],
      "metadata": {
        "id": "gXeJIR4mAtno"
      }
    },
    {
      "cell_type": "code",
      "source": [
        "# while loop with else\n",
        "x = int(input(\"Enter number : \"))\n",
        "i = 1\n",
        "while i <= 10:\n",
        "  print(i * x)\n",
        "  i += 1"
      ],
      "metadata": {
        "colab": {
          "base_uri": "https://localhost:8080/"
        },
        "id": "bD-54M0YBUI4",
        "outputId": "e8e48e71-7976-4e28-f5c7-a1d47c3c1fd2"
      },
      "execution_count": null,
      "outputs": [
        {
          "output_type": "stream",
          "name": "stdout",
          "text": [
            "Enter number : 12\n",
            "12\n",
            "24\n",
            "36\n",
            "48\n",
            "60\n",
            "72\n",
            "84\n",
            "96\n",
            "108\n",
            "120\n"
          ]
        }
      ]
    },
    {
      "cell_type": "code",
      "source": [
        "x = 1\n",
        "while x <= 3:\n",
        "  print(x)\n",
        "  x+=1\n",
        "else:\n",
        "  print('limt crossed')"
      ],
      "metadata": {
        "colab": {
          "base_uri": "https://localhost:8080/"
        },
        "id": "I3yBarwiCktY",
        "outputId": "8667e2d6-d1c0-4942-875d-419ab65bb2ba"
      },
      "execution_count": null,
      "outputs": [
        {
          "output_type": "stream",
          "name": "stdout",
          "text": [
            "1\n",
            "2\n",
            "3\n",
            "limt crossed\n"
          ]
        }
      ]
    },
    {
      "cell_type": "code",
      "source": [
        "# Guesssing Game\n",
        "import random\n",
        "jackpot = random.randint(1,10)\n",
        "\n",
        "guess = int(input(\"guss koro : \"))\n",
        "count = 1\n",
        "while guess != jackpot:\n",
        "  if guess < jackpot:\n",
        "    print(\"Guess higher\")\n",
        "  else:\n",
        "    print('guess lower')\n",
        "  guess = int(input(\"guss koro : \"))\n",
        "  count += 1\n",
        "else:\n",
        "  print('Correct guess')\n",
        "  print('attemps',count)"
      ],
      "metadata": {
        "colab": {
          "base_uri": "https://localhost:8080/"
        },
        "id": "5k0FR9SYFB97",
        "outputId": "13a08429-06a4-4bb9-deec-e7047c16c889"
      },
      "execution_count": null,
      "outputs": [
        {
          "output_type": "stream",
          "name": "stdout",
          "text": [
            "guss koro : 2\n",
            "Guess higher\n",
            "guss koro : 5\n",
            "Correct guess\n",
            "attemps 2\n"
          ]
        }
      ]
    },
    {
      "cell_type": "code",
      "source": [
        "# for loop demo\n",
        "for i in range(1,11,2):\n",
        "  print(i)"
      ],
      "metadata": {
        "colab": {
          "base_uri": "https://localhost:8080/"
        },
        "id": "vKXpqSjvGHw8",
        "outputId": "3640518d-56d3-425d-f2e2-2fb3c9f25f6d"
      },
      "execution_count": null,
      "outputs": [
        {
          "output_type": "stream",
          "name": "stdout",
          "text": [
            "1\n",
            "3\n",
            "5\n",
            "7\n",
            "9\n"
          ]
        }
      ]
    },
    {
      "cell_type": "code",
      "source": [
        "for i in range(10,0,-1):\n",
        "  print(i)"
      ],
      "metadata": {
        "colab": {
          "base_uri": "https://localhost:8080/"
        },
        "id": "oGnEbvcCHwmu",
        "outputId": "2d854090-5382-4ac4-ff09-d79321966a2a"
      },
      "execution_count": null,
      "outputs": [
        {
          "output_type": "stream",
          "name": "stdout",
          "text": [
            "10\n",
            "9\n",
            "8\n",
            "7\n",
            "6\n",
            "5\n",
            "4\n",
            "3\n",
            "2\n",
            "1\n"
          ]
        }
      ]
    },
    {
      "cell_type": "code",
      "source": [
        "for i in \"Bangladesh\":\n",
        "  print(i)"
      ],
      "metadata": {
        "colab": {
          "base_uri": "https://localhost:8080/"
        },
        "id": "W3VCNR1QIjBp",
        "outputId": "5fd25f91-209a-42eb-cb4a-97fc2eefd7ab"
      },
      "execution_count": null,
      "outputs": [
        {
          "output_type": "stream",
          "name": "stdout",
          "text": [
            "B\n",
            "a\n",
            "n\n",
            "g\n",
            "l\n",
            "a\n",
            "d\n",
            "e\n",
            "s\n",
            "h\n"
          ]
        }
      ]
    },
    {
      "cell_type": "code",
      "source": [
        "# for loop example\n",
        "current_pop = 10000\n",
        "for i in range(10,0,-1):\n",
        "  print(i,current_pop)\n",
        "  current_pop = current_pop / 1.1"
      ],
      "metadata": {
        "colab": {
          "base_uri": "https://localhost:8080/"
        },
        "id": "gJ2gpNXlIv7s",
        "outputId": "1a08c6f4-0640-41f3-de23-2db4af72e7fc"
      },
      "execution_count": null,
      "outputs": [
        {
          "output_type": "stream",
          "name": "stdout",
          "text": [
            "10 10000\n",
            "9 9090.90909090909\n",
            "8 8264.462809917353\n",
            "7 7513.148009015775\n",
            "6 6830.134553650703\n",
            "5 6209.213230591548\n",
            "4 5644.739300537771\n",
            "3 5131.5811823070635\n",
            "2 4665.07380209733\n",
            "1 4240.976183724845\n"
          ]
        }
      ]
    },
    {
      "cell_type": "markdown",
      "source": [
        "# Sequence sum"
      ],
      "metadata": {
        "id": "S1KZVD8lJvRZ"
      }
    },
    {
      "cell_type": "code",
      "source": [
        "n = int(input(\"Enter n : \"))\n",
        "\n",
        "result = 0\n",
        "fact = 1\n",
        "for i in range(1,n+1):\n",
        "  fact *= i\n",
        "  result += i/fact\n",
        "print(result)"
      ],
      "metadata": {
        "colab": {
          "base_uri": "https://localhost:8080/"
        },
        "id": "_YKBwjXI1_kq",
        "outputId": "63a04b6b-be3b-4b51-fd39-728fe92b7938"
      },
      "execution_count": null,
      "outputs": [
        {
          "output_type": "stream",
          "name": "stdout",
          "text": [
            "Enter n : 5\n",
            "2.708333333333333\n"
          ]
        }
      ]
    },
    {
      "cell_type": "markdown",
      "source": [
        "# Nested Loop"
      ],
      "metadata": {
        "id": "ZsS2CXJ74g4l"
      }
    },
    {
      "cell_type": "code",
      "source": [
        "for i in range(1,4):\n",
        "  for j in range(1,3):\n",
        "    print(i,j)"
      ],
      "metadata": {
        "colab": {
          "base_uri": "https://localhost:8080/"
        },
        "id": "23CEjFXT5k9G",
        "outputId": "7c7914d9-4430-487a-9ace-a8cfc0eeef75"
      },
      "execution_count": null,
      "outputs": [
        {
          "output_type": "stream",
          "name": "stdout",
          "text": [
            "1 1\n",
            "1 2\n",
            "2 1\n",
            "2 2\n",
            "3 1\n",
            "3 2\n"
          ]
        }
      ]
    },
    {
      "cell_type": "code",
      "source": [
        "n = int(input(\"Number of rows : \"))\n",
        "for i in range(n):\n",
        "  for j in range(i):\n",
        "    print(\"*\",end='')\n",
        "  print()"
      ],
      "metadata": {
        "colab": {
          "base_uri": "https://localhost:8080/"
        },
        "id": "KGYydwm36Peg",
        "outputId": "2cb5dd32-25f1-42d2-8726-8465bbfb501a"
      },
      "execution_count": null,
      "outputs": [
        {
          "output_type": "stream",
          "name": "stdout",
          "text": [
            "Number of rows : 5\n",
            "\n",
            "*\n",
            "**\n",
            "***\n",
            "****\n"
          ]
        }
      ]
    },
    {
      "cell_type": "code",
      "source": [
        "n = int(input(\"Enter of row : \"))\n",
        "for i in range(1,n+1):\n",
        "  for j in range(1,i+1):\n",
        "    print(j,end='')\n",
        "  for k in range(i-1,0,-1):\n",
        "    print(k,end='')\n",
        "  print()"
      ],
      "metadata": {
        "colab": {
          "base_uri": "https://localhost:8080/"
        },
        "id": "NU95d8eb6phT",
        "outputId": "0ebd913d-2285-4730-9235-2690a1569383"
      },
      "execution_count": null,
      "outputs": [
        {
          "output_type": "stream",
          "name": "stdout",
          "text": [
            "Enter of row : 10\n",
            "1\n",
            "121\n",
            "12321\n",
            "1234321\n",
            "123454321\n",
            "12345654321\n",
            "1234567654321\n",
            "123456787654321\n",
            "12345678987654321\n",
            "12345678910987654321\n"
          ]
        }
      ]
    },
    {
      "cell_type": "markdown",
      "source": [
        "Loop control Statement"
      ],
      "metadata": {
        "id": "l7AUvtXB9-5P"
      }
    },
    {
      "cell_type": "code",
      "source": [
        "# Break\n",
        "for i in range(1,10):\n",
        "  if i == 5:\n",
        "    break\n",
        "  print(i)"
      ],
      "metadata": {
        "colab": {
          "base_uri": "https://localhost:8080/"
        },
        "id": "ZDhraRdM_uKa",
        "outputId": "1dff5f76-dac8-459e-cc7c-9b5901a76773"
      },
      "execution_count": null,
      "outputs": [
        {
          "output_type": "stream",
          "name": "stdout",
          "text": [
            "1\n",
            "2\n",
            "3\n",
            "4\n"
          ]
        }
      ]
    },
    {
      "cell_type": "code",
      "source": [
        "lower = int(input(\"Lower\"))\n",
        "upper = int(input(\"Upper\"))\n",
        "\n",
        "for i in range(lower,upper+1):\n",
        "  for j in range(2,i):\n",
        "    if i%j == 0:\n",
        "      break\n",
        "  else:\n",
        "    print(i)"
      ],
      "metadata": {
        "colab": {
          "base_uri": "https://localhost:8080/"
        },
        "id": "lHz2Y3dgAHJQ",
        "outputId": "41ae993a-5892-48a8-f807-832b90f806c0"
      },
      "execution_count": null,
      "outputs": [
        {
          "output_type": "stream",
          "name": "stdout",
          "text": [
            "Lower10\n",
            "Upper100\n",
            "11\n",
            "13\n",
            "17\n",
            "19\n",
            "23\n",
            "29\n",
            "31\n",
            "37\n",
            "41\n",
            "43\n",
            "47\n",
            "53\n",
            "59\n",
            "61\n",
            "67\n",
            "71\n",
            "73\n",
            "79\n",
            "83\n",
            "89\n",
            "97\n"
          ]
        }
      ]
    },
    {
      "cell_type": "code",
      "source": [
        "# Continue\n",
        "for i in range(1,10):\n",
        "  if i == 5:\n",
        "    continue\n",
        "  print(i)"
      ],
      "metadata": {
        "colab": {
          "base_uri": "https://localhost:8080/"
        },
        "id": "TYrNPsBLB13b",
        "outputId": "fa8681b5-25da-4532-8787-473b9460d0de"
      },
      "execution_count": null,
      "outputs": [
        {
          "output_type": "stream",
          "name": "stdout",
          "text": [
            "1\n",
            "2\n",
            "3\n",
            "4\n",
            "6\n",
            "7\n",
            "8\n",
            "9\n"
          ]
        }
      ]
    },
    {
      "cell_type": "code",
      "source": [
        "# pass\n",
        "for i in range(1,10):\n",
        "  pass"
      ],
      "metadata": {
        "id": "wSJn_H8tChGT"
      },
      "execution_count": null,
      "outputs": []
    },
    {
      "cell_type": "code",
      "source": [],
      "metadata": {
        "id": "u8cIkKlRDdOX"
      },
      "execution_count": null,
      "outputs": []
    }
  ]
}